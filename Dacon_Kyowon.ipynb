{
 "cells": [
  {
   "cell_type": "code",
   "execution_count": 274,
   "id": "3038b604",
   "metadata": {},
   "outputs": [],
   "source": [
    "import random\n",
    "import pandas as pd\n",
    "import numpy as np\n",
    "import os\n",
    "from PIL import Image\n",
    "\n",
    "import torch\n",
    "import torch.nn as nn\n",
    "import torch.optim as optim\n",
    "import torch.nn.functional as F\n",
    "from torch.utils.data import Dataset, DataLoader\n",
    "\n",
    "from torchvision.models import resnet18\n",
    "from torchvision import transforms\n",
    "\n",
    "from tqdm.auto import tqdm\n",
    "from sklearn.metrics import accuracy_score\n",
    "from sklearn.model_selection import train_test_split\n",
    "\n",
    "import warnings\n",
    "warnings.filterwarnings(action='ignore') \n",
    "import cv2\n",
    "import albumentations as A\n",
    "from albumentations.pytorch.transforms import ToTensorV2\n"
   ]
  },
  {
   "cell_type": "code",
   "execution_count": 275,
   "id": "962ef679",
   "metadata": {},
   "outputs": [
    {
     "name": "stdout",
     "output_type": "stream",
     "text": [
      "cuda\n"
     ]
    }
   ],
   "source": [
    "device = torch.device('cuda') if torch.cuda.is_available() else torch.device('cpu')\n",
    "print(device)"
   ]
  },
  {
   "cell_type": "code",
   "execution_count": 306,
   "id": "c79e3ac8",
   "metadata": {},
   "outputs": [],
   "source": [
    "CFG = {\n",
    "    'IMG_HEIGHT_SIZE':64,\n",
    "    'IMG_WIDTH_SIZE':224,\n",
    "    'EPOCHS':30,\n",
    "    'LEARNING_RATE':1e-3,\n",
    "    'BATCH_SIZE':256,\n",
    "    'NUM_WORKERS':4, # 본인의 GPU, CPU 환경에 맞게 설정\n",
    "    'SEED':41\n",
    "}"
   ]
  },
  {
   "cell_type": "code",
   "execution_count": 307,
   "id": "95321bfb",
   "metadata": {},
   "outputs": [],
   "source": [
    "def seed_everything(seed):\n",
    "    random.seed(seed)\n",
    "    os.environ['PYTHONHASHSEED'] = str(seed)\n",
    "    np.random.seed(seed)\n",
    "    torch.manual_seed(seed)\n",
    "    torch.cuda.manual_seed(seed)\n",
    "    torch.backends.cudnn.deterministic = True\n",
    "    torch.backends.cudnn.benchmark = True\n",
    "\n",
    "seed_everything(CFG['SEED']) # Seed 고정"
   ]
  },
  {
   "cell_type": "code",
   "execution_count": 308,
   "id": "a218f797",
   "metadata": {},
   "outputs": [
    {
     "data": {
      "text/plain": [
       "'/home/gsc/dacon_KYOWON/Dacon_KYOWON'"
      ]
     },
     "execution_count": 308,
     "metadata": {},
     "output_type": "execute_result"
    }
   ],
   "source": [
    "os.getcwd()"
   ]
  },
  {
   "cell_type": "code",
   "execution_count": 309,
   "id": "00113144",
   "metadata": {},
   "outputs": [],
   "source": [
    "#window\n",
    "# base_dir = 'D:/Dacon_KYOWON/Dacon_KYOWON'\n",
    "# data_dir = \"D:/Dacon_KYOWON/open\"\n",
    "#ubuntu\n",
    "base_dir = '/home/gsc/dacon_KYOWON/Dacon_KYOWON'\n",
    "data_dir = '/home/gsc/dacon_KYOWON/open'\n"
   ]
  },
  {
   "cell_type": "code",
   "execution_count": 310,
   "id": "866ad39a",
   "metadata": {},
   "outputs": [],
   "source": [
    "#df = pd.read_csv(f'{data_dir}/train.csv')\n",
    "df = pd.read_csv('train_cutmix.csv')"
   ]
  },
  {
   "cell_type": "code",
   "execution_count": 311,
   "id": "c944b4f4",
   "metadata": {},
   "outputs": [],
   "source": [
    "# 제공된 학습데이터 중 1글자 샘플들의 단어사전이 학습/테스트 데이터의 모든 글자를 담고 있으므로 학습 데이터로 우선 배치\n",
    "df['len'] = df['label'].str.len()\n",
    "train_v1 = df[df['len']==1]"
   ]
  },
  {
   "cell_type": "code",
   "execution_count": 312,
   "id": "ad963e85",
   "metadata": {},
   "outputs": [],
   "source": [
    "# 제공된 학습데이터 중 2글자 이상의 샘플들에 대해서 단어길이를 고려하여 Train (80%) / Validation (20%) 분할\n",
    "df = df[df['len']>1]\n",
    "train_v2, val, _, _ = train_test_split(df, df['len'], test_size=0.2, random_state=CFG['SEED'])"
   ]
  },
  {
   "cell_type": "markdown",
   "id": "a6d7561a",
   "metadata": {},
   "source": [
    "데이터 길이를 1,2,3,4로 나눠보는 것은 어떨까"
   ]
  },
  {
   "cell_type": "code",
   "execution_count": 313,
   "id": "e53f4bdb",
   "metadata": {},
   "outputs": [
    {
     "name": "stdout",
     "output_type": "stream",
     "text": [
      "143707 30001\n"
     ]
    }
   ],
   "source": [
    "# 학습 데이터로 우선 배치한 1글자 샘플들과 분할된 2글자 이상의 학습 샘플을 concat하여 최종 학습 데이터로 사용\n",
    "train = pd.concat([train_v1, train_v2])\n",
    "print(len(train), len(val))"
   ]
  },
  {
   "cell_type": "code",
   "execution_count": 314,
   "id": "a4c55be2",
   "metadata": {},
   "outputs": [
    {
     "name": "stdout",
     "output_type": "stream",
     "text": [
      "2349\n"
     ]
    }
   ],
   "source": [
    "# 학습 데이터로부터 단어 사전(Vocabulary) 구축\n",
    "train_gt = [gt for gt in train['label']]\n",
    "train_gt = \"\".join(train_gt)\n",
    "letters = sorted(list(set(list(train_gt))))\n",
    "print(len(letters))"
   ]
  },
  {
   "cell_type": "code",
   "execution_count": 315,
   "id": "7c304964",
   "metadata": {},
   "outputs": [
    {
     "name": "stdout",
     "output_type": "stream",
     "text": [
      "2350\n"
     ]
    }
   ],
   "source": [
    "vocabulary = [\"-\"] + letters\n",
    "print(len(vocabulary))\n",
    "idx2char = {k:v for k,v in enumerate(vocabulary, start=0)}\n",
    "char2idx = {v:k for k,v in idx2char.items()}"
   ]
  },
  {
   "cell_type": "code",
   "execution_count": 316,
   "id": "934ae66f",
   "metadata": {},
   "outputs": [],
   "source": [
    "class CustomDataset(Dataset):\n",
    "    def __init__(self, img_path_list, label_list,transforms=None, train_mode=True):\n",
    "        self.img_path_list = img_path_list\n",
    "        self.label_list = label_list\n",
    "        self.transforms = transforms\n",
    "        self.train_mode = train_mode\n",
    "        \n",
    "    def __len__(self):\n",
    "        return len(self.img_path_list)\n",
    "    \n",
    "    def __getitem__(self, index):\n",
    "        img_path = self.img_path_list[index]\n",
    "        image = cv2.imread(f\"{data_dir}/{img_path.split('/')[-2]}/{img_path.split('/')[-1]}\")\n",
    "        image = cv2.cvtColor(image, cv2.COLOR_BGR2RGB)\n",
    "\n",
    "        if self.transforms is not None:\n",
    "            image = self.transforms(image=image)['image']\n",
    "           \n",
    "        if self.label_list is not None:\n",
    "            text = self.label_list[index]\n",
    "            return image, text\n",
    "        else:\n",
    "            return image\n",
    "  "
   ]
  },
  {
   "cell_type": "code",
   "execution_count": 317,
   "id": "2f0efc60",
   "metadata": {},
   "outputs": [],
   "source": [
    "def resize_transform(height,width, state='train'):\n",
    "    if state == 'train':\n",
    "        transform = A.Compose([\n",
    "                                #A.HorizontalFlip(p=0.2),\n",
    "                                #A.VerticalFlip(p=0.2),\n",
    "                                A.Rotate(limit=[-10,10], p=1),\n",
    "                                #A.RandomRotate90(p=0.2),\n",
    "                                A.Resize(height,width),\n",
    "                                #A.ColorJitter(brightness=0.2, contrast=0.2, saturation=0.2, hue=0.2),\n",
    "                                #A.RandomResizedCrop(height=height, width=width, scale=(0.3, 1.0)),\n",
    "                                #A.ToGray(),\n",
    "                                A.Normalize([0.485, 0.456, 0.406], [0.229, 0.224, 0.225]),\n",
    "                                ToTensorV2(),\n",
    "                                ])\n",
    "    else:\n",
    "        transform = A.Compose([\n",
    "                            A.Resize(height,width),\n",
    "                            #A.ToGray(),\n",
    "                            A.Normalize(mean=(0.485, 0.456, 0.406), std=(0.229, 0.224, 0.225), max_pixel_value=255.0, always_apply=False, p=1.0),\n",
    "                            #A.RandomResizedCrop(height=CFG['IMG_SIZE'], width=CFG['IMG_SIZE'], scale=(0.3, 1.0)),               \n",
    "                            ToTensorV2()\n",
    "                            ])\n",
    "\n",
    "    return transform"
   ]
  },
  {
   "cell_type": "code",
   "execution_count": 318,
   "id": "34d91f83",
   "metadata": {},
   "outputs": [],
   "source": [
    "train_transform = resize_transform(CFG['IMG_HEIGHT_SIZE'],CFG['IMG_WIDTH_SIZE'])\n",
    "test_transform = resize_transform(CFG['IMG_HEIGHT_SIZE'],CFG['IMG_WIDTH_SIZE'],'test')"
   ]
  },
  {
   "cell_type": "code",
   "execution_count": 319,
   "id": "c0a955bb",
   "metadata": {},
   "outputs": [
    {
     "name": "stdout",
     "output_type": "stream",
     "text": [
      "['머' '써' '빈' ... '행동하다익' '옳싫어하다' '손수']\n"
     ]
    }
   ],
   "source": [
    "img_path = train['label'].values\n",
    "print(img_path)\n",
    "#print(f\"{data_dir}/{img_path.split('/')[-2]}/{img_path.split('/')[-1]}\")"
   ]
  },
  {
   "cell_type": "code",
   "execution_count": 320,
   "id": "2c548e9c",
   "metadata": {},
   "outputs": [],
   "source": [
    "train_dataset = CustomDataset(train['img_path'].values, train['label'].values, train_transform)\n",
    "train_loader = DataLoader(train_dataset, batch_size = CFG['BATCH_SIZE'], shuffle=True, num_workers=CFG['NUM_WORKERS'])\n",
    "\n",
    "val_dataset = CustomDataset(val['img_path'].values, val['label'].values,test_transform)\n",
    "val_loader = DataLoader(val_dataset, batch_size = CFG['BATCH_SIZE'], shuffle=True, num_workers=CFG['NUM_WORKERS'])"
   ]
  },
  {
   "cell_type": "code",
   "execution_count": 321,
   "id": "97d40466",
   "metadata": {},
   "outputs": [
    {
     "name": "stdout",
     "output_type": "stream",
     "text": [
      "torch.Size([256, 3, 64, 224]) ('팬티적어지다', '글쎄요위협', '동그랗다', '항', '생찾아다니다', '야추가', '버려지다', '되게깸', '빚', '걱정되다긴급', '투표전체', '뺏', '통증옥', '될조심스럽다', '휜', '예의', '그리', '퓌', '메일휴', '역사학수만', '변명', '주무시다새끼', '즐거움죔', '푸르다', '참기름곳곳', '공업', '싸조사하다', '에', '쬡', '안기다총', '생신실현되다', '일본고치다', '참석자', '근거다름없다', '손길', '몽', '운동화', '쫄신랑', '녹화코', '정직하다외침', '쥐참가', '나빠지다성적', '석표시하다', '세기', '보내다확실히', '텍스트', '발소주', '흘러나오다믿', '강요하다', '구분지붕', '꿍', '덤', '젬칼국수', '계산하다퓟', '화분', '깩좌우', '던지다출판', '동화책', '넷째', '수집하다', '입원', '불법', '건전하다년생', '몹시위', '창조하다숟', '자율머물다', '밤새다퓜', '시각주저앉다', '검다', '통과하다', '서부', '손님', '금지되다', '홈페이지요금', '있다감상', '술병', '경영하다녕', '눋', '등록하다깜짝', '며', '뗏할아버지', '앙', '쿤끊어지다', '점차다섯째', '유명하다위', '곡', '쉬다내', '주장하다', '평가되다', '가능해지다', '수', '선자연스럽다', '췻비교하다', '첫유의하다', '양식', '빛', '뵤중요', '들이마시다', '포함접시', '상당수음주', '불법츳', '릉결석하다', '형수', '나가다', '관련', '졌갈증', '재능', '들어오다', '오피스텔았', '어쩐지이리', '정', '깻', '회복되다', '늙', '구분되다청년', '그럼애초', '자차이', '수동적현장', '요구하다폣', '편견아가씨', '금액', '뒵양복', '두다예식장', '땠', '도망가다', '실례의미하다', '밝다경향', '채우다', '신체나빠지다', '쇠', '사고챙기다', '복숭아희생', '내아르바이트', '관리', '차츰솥', '관리', '운동하다', '공기적응하다', '만', '뒤집다버튼', '돕면적', '청소하다프로', '인삼차전기', '분', '글쎄요달다', '해', '함께하다', '수많다', '알', '드리다돌', '폭운전기사', '익다해외여행', '려', '차마진료', '윤', '쉬다', '지각초등학교', '늚', '습', '저', '잡급격히', '뛰어놀다멩', '아저씨', '무너지다아까', '한정신', '상대', '고작', '향상', '앱마사지', '활용하다', '설치야구', '인연', '제시되다아예', '구입녹이다', '순간', '암시거두다', '썹', '반장', '불확실하다', '단어', '일상포근하다', '참가똑바로', '밥', '곁', '엡소용없다', '고춧가루', '무', '어떤나뭇가지', '물론', '펙', '앞별명', '정치적홀로', '대화하다', '식용유기획', '혈액오늘', '의식일반인', '고민하다죽다', '쎈', '양', '세다비하다', '아까', '새', '무덥다서클', '가입하다밤색', '특징', '희망하다', '제비', '계획츌', '초청장', '내년침착하다', '톤자라나다', '결혼', '기르다연출', '깔리다도로', '천', '껙', '킬로그램쿼', '인류전문점', '실현되다동서', '마흔', '상대편담기다', '튕알아내다', '묵다초', '부문', '굶다맣', '채', '제외하다내부', '츠', '꿱', '제외하다있다', '정보출입국', '본인', '작은딸', '강물포스터', '므', '좁애인', '병들다오랜만', '시민장모님', '모', '묾', '등구월', '표시생각되다', '가상켕', '가로', '불안비닐봉지', '장마두다', '벽', '김밥', '불리다기혼', '기능', '호주수학', '급히느껴지다', '뒤쪽대처하다', '다시풍', '수입하다', '프로')\n"
     ]
    }
   ],
   "source": [
    "image_batch, text_batch = iter(train_loader).next()\n",
    "print(image_batch.size(), text_batch)"
   ]
  },
  {
   "cell_type": "code",
   "execution_count": 322,
   "id": "1070b520",
   "metadata": {
    "scrolled": true
   },
   "outputs": [],
   "source": [
    "from torchsummary import summary as summary_"
   ]
  },
  {
   "cell_type": "code",
   "execution_count": 323,
   "id": "f7f4b41d",
   "metadata": {
    "scrolled": true
   },
   "outputs": [],
   "source": [
    "# resnet_test = resnet18(pretrained=True)\n",
    "# resnet_test.cuda()\n",
    "# summary_(resnet_test,(3,64,224))"
   ]
  },
  {
   "cell_type": "code",
   "execution_count": 324,
   "id": "4a5a5454",
   "metadata": {},
   "outputs": [
    {
     "name": "stdout",
     "output_type": "stream",
     "text": [
      "----------------------------------------------------------------\n",
      "        Layer (type)               Output Shape         Param #\n",
      "================================================================\n",
      "            Conv2d-1          [-1, 48, 32, 112]           1,296\n",
      "       BatchNorm2d-2          [-1, 48, 32, 112]              96\n",
      "              SiLU-3          [-1, 48, 32, 112]               0\n",
      "            Conv2d-4          [-1, 48, 32, 112]             432\n",
      "       BatchNorm2d-5          [-1, 48, 32, 112]              96\n",
      "              SiLU-6          [-1, 48, 32, 112]               0\n",
      " AdaptiveAvgPool2d-7             [-1, 48, 1, 1]               0\n",
      "            Conv2d-8             [-1, 12, 1, 1]             588\n",
      "              SiLU-9             [-1, 12, 1, 1]               0\n",
      "           Conv2d-10             [-1, 48, 1, 1]             624\n",
      "          Sigmoid-11             [-1, 48, 1, 1]               0\n",
      "SqueezeExcitation-12          [-1, 48, 32, 112]               0\n",
      "           Conv2d-13          [-1, 24, 32, 112]           1,152\n",
      "      BatchNorm2d-14          [-1, 24, 32, 112]              48\n",
      "           MBConv-15          [-1, 24, 32, 112]               0\n",
      "           Conv2d-16          [-1, 24, 32, 112]             216\n",
      "      BatchNorm2d-17          [-1, 24, 32, 112]              48\n",
      "             SiLU-18          [-1, 24, 32, 112]               0\n",
      "AdaptiveAvgPool2d-19             [-1, 24, 1, 1]               0\n",
      "           Conv2d-20              [-1, 6, 1, 1]             150\n",
      "             SiLU-21              [-1, 6, 1, 1]               0\n",
      "           Conv2d-22             [-1, 24, 1, 1]             168\n",
      "          Sigmoid-23             [-1, 24, 1, 1]               0\n",
      "SqueezeExcitation-24          [-1, 24, 32, 112]               0\n",
      "           Conv2d-25          [-1, 24, 32, 112]             576\n",
      "      BatchNorm2d-26          [-1, 24, 32, 112]              48\n",
      "  StochasticDepth-27          [-1, 24, 32, 112]               0\n",
      "           MBConv-28          [-1, 24, 32, 112]               0\n",
      "           Conv2d-29          [-1, 24, 32, 112]             216\n",
      "      BatchNorm2d-30          [-1, 24, 32, 112]              48\n",
      "             SiLU-31          [-1, 24, 32, 112]               0\n",
      "AdaptiveAvgPool2d-32             [-1, 24, 1, 1]               0\n",
      "           Conv2d-33              [-1, 6, 1, 1]             150\n",
      "             SiLU-34              [-1, 6, 1, 1]               0\n",
      "           Conv2d-35             [-1, 24, 1, 1]             168\n",
      "          Sigmoid-36             [-1, 24, 1, 1]               0\n",
      "SqueezeExcitation-37          [-1, 24, 32, 112]               0\n",
      "           Conv2d-38          [-1, 24, 32, 112]             576\n",
      "      BatchNorm2d-39          [-1, 24, 32, 112]              48\n",
      "  StochasticDepth-40          [-1, 24, 32, 112]               0\n",
      "           MBConv-41          [-1, 24, 32, 112]               0\n",
      "           Conv2d-42         [-1, 144, 32, 112]           3,456\n",
      "      BatchNorm2d-43         [-1, 144, 32, 112]             288\n",
      "             SiLU-44         [-1, 144, 32, 112]               0\n",
      "           Conv2d-45          [-1, 144, 16, 56]           1,296\n",
      "      BatchNorm2d-46          [-1, 144, 16, 56]             288\n",
      "             SiLU-47          [-1, 144, 16, 56]               0\n",
      "AdaptiveAvgPool2d-48            [-1, 144, 1, 1]               0\n",
      "           Conv2d-49              [-1, 6, 1, 1]             870\n",
      "             SiLU-50              [-1, 6, 1, 1]               0\n",
      "           Conv2d-51            [-1, 144, 1, 1]           1,008\n",
      "          Sigmoid-52            [-1, 144, 1, 1]               0\n",
      "SqueezeExcitation-53          [-1, 144, 16, 56]               0\n",
      "           Conv2d-54           [-1, 40, 16, 56]           5,760\n",
      "      BatchNorm2d-55           [-1, 40, 16, 56]              80\n",
      "           MBConv-56           [-1, 40, 16, 56]               0\n",
      "           Conv2d-57          [-1, 240, 16, 56]           9,600\n",
      "      BatchNorm2d-58          [-1, 240, 16, 56]             480\n",
      "             SiLU-59          [-1, 240, 16, 56]               0\n",
      "           Conv2d-60          [-1, 240, 16, 56]           2,160\n",
      "      BatchNorm2d-61          [-1, 240, 16, 56]             480\n",
      "             SiLU-62          [-1, 240, 16, 56]               0\n",
      "AdaptiveAvgPool2d-63            [-1, 240, 1, 1]               0\n",
      "           Conv2d-64             [-1, 10, 1, 1]           2,410\n",
      "             SiLU-65             [-1, 10, 1, 1]               0\n",
      "           Conv2d-66            [-1, 240, 1, 1]           2,640\n",
      "          Sigmoid-67            [-1, 240, 1, 1]               0\n",
      "SqueezeExcitation-68          [-1, 240, 16, 56]               0\n",
      "           Conv2d-69           [-1, 40, 16, 56]           9,600\n",
      "      BatchNorm2d-70           [-1, 40, 16, 56]              80\n",
      "  StochasticDepth-71           [-1, 40, 16, 56]               0\n",
      "           MBConv-72           [-1, 40, 16, 56]               0\n",
      "           Conv2d-73          [-1, 240, 16, 56]           9,600\n",
      "      BatchNorm2d-74          [-1, 240, 16, 56]             480\n",
      "             SiLU-75          [-1, 240, 16, 56]               0\n",
      "           Conv2d-76          [-1, 240, 16, 56]           2,160\n",
      "      BatchNorm2d-77          [-1, 240, 16, 56]             480\n",
      "             SiLU-78          [-1, 240, 16, 56]               0\n",
      "AdaptiveAvgPool2d-79            [-1, 240, 1, 1]               0\n",
      "           Conv2d-80             [-1, 10, 1, 1]           2,410\n",
      "             SiLU-81             [-1, 10, 1, 1]               0\n",
      "           Conv2d-82            [-1, 240, 1, 1]           2,640\n",
      "          Sigmoid-83            [-1, 240, 1, 1]               0\n",
      "SqueezeExcitation-84          [-1, 240, 16, 56]               0\n",
      "           Conv2d-85           [-1, 40, 16, 56]           9,600\n",
      "      BatchNorm2d-86           [-1, 40, 16, 56]              80\n",
      "  StochasticDepth-87           [-1, 40, 16, 56]               0\n",
      "           MBConv-88           [-1, 40, 16, 56]               0\n",
      "           Conv2d-89          [-1, 240, 16, 56]           9,600\n",
      "      BatchNorm2d-90          [-1, 240, 16, 56]             480\n",
      "             SiLU-91          [-1, 240, 16, 56]               0\n",
      "           Conv2d-92          [-1, 240, 16, 56]           2,160\n",
      "      BatchNorm2d-93          [-1, 240, 16, 56]             480\n",
      "             SiLU-94          [-1, 240, 16, 56]               0\n",
      "AdaptiveAvgPool2d-95            [-1, 240, 1, 1]               0\n",
      "           Conv2d-96             [-1, 10, 1, 1]           2,410\n",
      "             SiLU-97             [-1, 10, 1, 1]               0\n",
      "           Conv2d-98            [-1, 240, 1, 1]           2,640\n",
      "          Sigmoid-99            [-1, 240, 1, 1]               0\n",
      "SqueezeExcitation-100          [-1, 240, 16, 56]               0\n",
      "          Conv2d-101           [-1, 40, 16, 56]           9,600\n",
      "     BatchNorm2d-102           [-1, 40, 16, 56]              80\n",
      " StochasticDepth-103           [-1, 40, 16, 56]               0\n",
      "          MBConv-104           [-1, 40, 16, 56]               0\n",
      "          Conv2d-105          [-1, 240, 16, 56]           9,600\n",
      "     BatchNorm2d-106          [-1, 240, 16, 56]             480\n",
      "            SiLU-107          [-1, 240, 16, 56]               0\n",
      "          Conv2d-108          [-1, 240, 16, 56]           2,160\n",
      "     BatchNorm2d-109          [-1, 240, 16, 56]             480\n",
      "            SiLU-110          [-1, 240, 16, 56]               0\n",
      "AdaptiveAvgPool2d-111            [-1, 240, 1, 1]               0\n",
      "          Conv2d-112             [-1, 10, 1, 1]           2,410\n",
      "            SiLU-113             [-1, 10, 1, 1]               0\n",
      "          Conv2d-114            [-1, 240, 1, 1]           2,640\n",
      "         Sigmoid-115            [-1, 240, 1, 1]               0\n",
      "SqueezeExcitation-116          [-1, 240, 16, 56]               0\n",
      "          Conv2d-117           [-1, 40, 16, 56]           9,600\n",
      "     BatchNorm2d-118           [-1, 40, 16, 56]              80\n",
      " StochasticDepth-119           [-1, 40, 16, 56]               0\n",
      "          MBConv-120           [-1, 40, 16, 56]               0\n",
      "          Conv2d-121          [-1, 240, 16, 56]           9,600\n",
      "     BatchNorm2d-122          [-1, 240, 16, 56]             480\n",
      "            SiLU-123          [-1, 240, 16, 56]               0\n",
      "          Conv2d-124           [-1, 240, 8, 28]           6,000\n",
      "     BatchNorm2d-125           [-1, 240, 8, 28]             480\n",
      "            SiLU-126           [-1, 240, 8, 28]               0\n",
      "AdaptiveAvgPool2d-127            [-1, 240, 1, 1]               0\n",
      "          Conv2d-128             [-1, 10, 1, 1]           2,410\n",
      "            SiLU-129             [-1, 10, 1, 1]               0\n",
      "          Conv2d-130            [-1, 240, 1, 1]           2,640\n",
      "         Sigmoid-131            [-1, 240, 1, 1]               0\n",
      "SqueezeExcitation-132           [-1, 240, 8, 28]               0\n",
      "          Conv2d-133            [-1, 64, 8, 28]          15,360\n",
      "     BatchNorm2d-134            [-1, 64, 8, 28]             128\n",
      "          MBConv-135            [-1, 64, 8, 28]               0\n",
      "          Conv2d-136           [-1, 384, 8, 28]          24,576\n",
      "     BatchNorm2d-137           [-1, 384, 8, 28]             768\n",
      "            SiLU-138           [-1, 384, 8, 28]               0\n",
      "          Conv2d-139           [-1, 384, 8, 28]           9,600\n",
      "     BatchNorm2d-140           [-1, 384, 8, 28]             768\n",
      "            SiLU-141           [-1, 384, 8, 28]               0\n",
      "AdaptiveAvgPool2d-142            [-1, 384, 1, 1]               0\n",
      "          Conv2d-143             [-1, 16, 1, 1]           6,160\n",
      "            SiLU-144             [-1, 16, 1, 1]               0\n",
      "          Conv2d-145            [-1, 384, 1, 1]           6,528\n",
      "         Sigmoid-146            [-1, 384, 1, 1]               0\n",
      "SqueezeExcitation-147           [-1, 384, 8, 28]               0\n",
      "          Conv2d-148            [-1, 64, 8, 28]          24,576\n",
      "     BatchNorm2d-149            [-1, 64, 8, 28]             128\n",
      " StochasticDepth-150            [-1, 64, 8, 28]               0\n",
      "          MBConv-151            [-1, 64, 8, 28]               0\n",
      "          Conv2d-152           [-1, 384, 8, 28]          24,576\n",
      "     BatchNorm2d-153           [-1, 384, 8, 28]             768\n",
      "            SiLU-154           [-1, 384, 8, 28]               0\n",
      "          Conv2d-155           [-1, 384, 8, 28]           9,600\n",
      "     BatchNorm2d-156           [-1, 384, 8, 28]             768\n",
      "            SiLU-157           [-1, 384, 8, 28]               0\n",
      "AdaptiveAvgPool2d-158            [-1, 384, 1, 1]               0\n",
      "          Conv2d-159             [-1, 16, 1, 1]           6,160\n",
      "            SiLU-160             [-1, 16, 1, 1]               0\n",
      "          Conv2d-161            [-1, 384, 1, 1]           6,528\n",
      "         Sigmoid-162            [-1, 384, 1, 1]               0\n",
      "SqueezeExcitation-163           [-1, 384, 8, 28]               0\n",
      "          Conv2d-164            [-1, 64, 8, 28]          24,576\n",
      "     BatchNorm2d-165            [-1, 64, 8, 28]             128\n",
      " StochasticDepth-166            [-1, 64, 8, 28]               0\n",
      "          MBConv-167            [-1, 64, 8, 28]               0\n",
      "          Conv2d-168           [-1, 384, 8, 28]          24,576\n",
      "     BatchNorm2d-169           [-1, 384, 8, 28]             768\n",
      "            SiLU-170           [-1, 384, 8, 28]               0\n",
      "          Conv2d-171           [-1, 384, 8, 28]           9,600\n",
      "     BatchNorm2d-172           [-1, 384, 8, 28]             768\n",
      "            SiLU-173           [-1, 384, 8, 28]               0\n",
      "AdaptiveAvgPool2d-174            [-1, 384, 1, 1]               0\n",
      "          Conv2d-175             [-1, 16, 1, 1]           6,160\n",
      "            SiLU-176             [-1, 16, 1, 1]               0\n",
      "          Conv2d-177            [-1, 384, 1, 1]           6,528\n",
      "         Sigmoid-178            [-1, 384, 1, 1]               0\n",
      "SqueezeExcitation-179           [-1, 384, 8, 28]               0\n",
      "          Conv2d-180            [-1, 64, 8, 28]          24,576\n",
      "     BatchNorm2d-181            [-1, 64, 8, 28]             128\n",
      " StochasticDepth-182            [-1, 64, 8, 28]               0\n",
      "          MBConv-183            [-1, 64, 8, 28]               0\n",
      "          Conv2d-184           [-1, 384, 8, 28]          24,576\n",
      "     BatchNorm2d-185           [-1, 384, 8, 28]             768\n",
      "            SiLU-186           [-1, 384, 8, 28]               0\n",
      "          Conv2d-187           [-1, 384, 8, 28]           9,600\n",
      "     BatchNorm2d-188           [-1, 384, 8, 28]             768\n",
      "            SiLU-189           [-1, 384, 8, 28]               0\n",
      "AdaptiveAvgPool2d-190            [-1, 384, 1, 1]               0\n",
      "          Conv2d-191             [-1, 16, 1, 1]           6,160\n",
      "            SiLU-192             [-1, 16, 1, 1]               0\n",
      "          Conv2d-193            [-1, 384, 1, 1]           6,528\n",
      "         Sigmoid-194            [-1, 384, 1, 1]               0\n",
      "SqueezeExcitation-195           [-1, 384, 8, 28]               0\n",
      "          Conv2d-196            [-1, 64, 8, 28]          24,576\n",
      "     BatchNorm2d-197            [-1, 64, 8, 28]             128\n",
      " StochasticDepth-198            [-1, 64, 8, 28]               0\n",
      "          MBConv-199            [-1, 64, 8, 28]               0\n",
      "          Conv2d-200           [-1, 384, 8, 28]          24,576\n",
      "     BatchNorm2d-201           [-1, 384, 8, 28]             768\n",
      "            SiLU-202           [-1, 384, 8, 28]               0\n",
      "          Conv2d-203           [-1, 384, 4, 14]           3,456\n",
      "     BatchNorm2d-204           [-1, 384, 4, 14]             768\n",
      "            SiLU-205           [-1, 384, 4, 14]               0\n",
      "AdaptiveAvgPool2d-206            [-1, 384, 1, 1]               0\n",
      "          Conv2d-207             [-1, 16, 1, 1]           6,160\n",
      "            SiLU-208             [-1, 16, 1, 1]               0\n",
      "          Conv2d-209            [-1, 384, 1, 1]           6,528\n",
      "         Sigmoid-210            [-1, 384, 1, 1]               0\n",
      "SqueezeExcitation-211           [-1, 384, 4, 14]               0\n",
      "          Conv2d-212           [-1, 128, 4, 14]          49,152\n",
      "     BatchNorm2d-213           [-1, 128, 4, 14]             256\n",
      "          MBConv-214           [-1, 128, 4, 14]               0\n",
      "          Conv2d-215           [-1, 768, 4, 14]          98,304\n",
      "     BatchNorm2d-216           [-1, 768, 4, 14]           1,536\n",
      "            SiLU-217           [-1, 768, 4, 14]               0\n",
      "          Conv2d-218           [-1, 768, 4, 14]           6,912\n",
      "     BatchNorm2d-219           [-1, 768, 4, 14]           1,536\n",
      "            SiLU-220           [-1, 768, 4, 14]               0\n",
      "AdaptiveAvgPool2d-221            [-1, 768, 1, 1]               0\n",
      "          Conv2d-222             [-1, 32, 1, 1]          24,608\n",
      "            SiLU-223             [-1, 32, 1, 1]               0\n",
      "          Conv2d-224            [-1, 768, 1, 1]          25,344\n",
      "         Sigmoid-225            [-1, 768, 1, 1]               0\n",
      "SqueezeExcitation-226           [-1, 768, 4, 14]               0\n",
      "          Conv2d-227           [-1, 128, 4, 14]          98,304\n",
      "     BatchNorm2d-228           [-1, 128, 4, 14]             256\n",
      " StochasticDepth-229           [-1, 128, 4, 14]               0\n",
      "          MBConv-230           [-1, 128, 4, 14]               0\n",
      "          Conv2d-231           [-1, 768, 4, 14]          98,304\n",
      "     BatchNorm2d-232           [-1, 768, 4, 14]           1,536\n",
      "            SiLU-233           [-1, 768, 4, 14]               0\n",
      "          Conv2d-234           [-1, 768, 4, 14]           6,912\n",
      "     BatchNorm2d-235           [-1, 768, 4, 14]           1,536\n",
      "            SiLU-236           [-1, 768, 4, 14]               0\n",
      "AdaptiveAvgPool2d-237            [-1, 768, 1, 1]               0\n",
      "          Conv2d-238             [-1, 32, 1, 1]          24,608\n",
      "            SiLU-239             [-1, 32, 1, 1]               0\n",
      "          Conv2d-240            [-1, 768, 1, 1]          25,344\n",
      "         Sigmoid-241            [-1, 768, 1, 1]               0\n",
      "SqueezeExcitation-242           [-1, 768, 4, 14]               0\n",
      "          Conv2d-243           [-1, 128, 4, 14]          98,304\n",
      "     BatchNorm2d-244           [-1, 128, 4, 14]             256\n",
      " StochasticDepth-245           [-1, 128, 4, 14]               0\n",
      "          MBConv-246           [-1, 128, 4, 14]               0\n",
      "          Conv2d-247           [-1, 768, 4, 14]          98,304\n",
      "     BatchNorm2d-248           [-1, 768, 4, 14]           1,536\n",
      "            SiLU-249           [-1, 768, 4, 14]               0\n",
      "          Conv2d-250           [-1, 768, 4, 14]           6,912\n",
      "     BatchNorm2d-251           [-1, 768, 4, 14]           1,536\n",
      "            SiLU-252           [-1, 768, 4, 14]               0\n",
      "AdaptiveAvgPool2d-253            [-1, 768, 1, 1]               0\n",
      "          Conv2d-254             [-1, 32, 1, 1]          24,608\n",
      "            SiLU-255             [-1, 32, 1, 1]               0\n",
      "          Conv2d-256            [-1, 768, 1, 1]          25,344\n",
      "         Sigmoid-257            [-1, 768, 1, 1]               0\n",
      "SqueezeExcitation-258           [-1, 768, 4, 14]               0\n",
      "          Conv2d-259           [-1, 128, 4, 14]          98,304\n",
      "     BatchNorm2d-260           [-1, 128, 4, 14]             256\n",
      " StochasticDepth-261           [-1, 128, 4, 14]               0\n",
      "          MBConv-262           [-1, 128, 4, 14]               0\n",
      "          Conv2d-263           [-1, 768, 4, 14]          98,304\n",
      "     BatchNorm2d-264           [-1, 768, 4, 14]           1,536\n",
      "            SiLU-265           [-1, 768, 4, 14]               0\n",
      "          Conv2d-266           [-1, 768, 4, 14]           6,912\n",
      "     BatchNorm2d-267           [-1, 768, 4, 14]           1,536\n",
      "            SiLU-268           [-1, 768, 4, 14]               0\n",
      "AdaptiveAvgPool2d-269            [-1, 768, 1, 1]               0\n",
      "          Conv2d-270             [-1, 32, 1, 1]          24,608\n",
      "            SiLU-271             [-1, 32, 1, 1]               0\n",
      "          Conv2d-272            [-1, 768, 1, 1]          25,344\n",
      "         Sigmoid-273            [-1, 768, 1, 1]               0\n",
      "SqueezeExcitation-274           [-1, 768, 4, 14]               0\n",
      "          Conv2d-275           [-1, 128, 4, 14]          98,304\n",
      "     BatchNorm2d-276           [-1, 128, 4, 14]             256\n",
      " StochasticDepth-277           [-1, 128, 4, 14]               0\n",
      "          MBConv-278           [-1, 128, 4, 14]               0\n",
      "          Conv2d-279           [-1, 768, 4, 14]          98,304\n",
      "     BatchNorm2d-280           [-1, 768, 4, 14]           1,536\n",
      "            SiLU-281           [-1, 768, 4, 14]               0\n",
      "          Conv2d-282           [-1, 768, 4, 14]           6,912\n",
      "     BatchNorm2d-283           [-1, 768, 4, 14]           1,536\n",
      "            SiLU-284           [-1, 768, 4, 14]               0\n",
      "AdaptiveAvgPool2d-285            [-1, 768, 1, 1]               0\n",
      "          Conv2d-286             [-1, 32, 1, 1]          24,608\n",
      "            SiLU-287             [-1, 32, 1, 1]               0\n",
      "          Conv2d-288            [-1, 768, 1, 1]          25,344\n",
      "         Sigmoid-289            [-1, 768, 1, 1]               0\n",
      "SqueezeExcitation-290           [-1, 768, 4, 14]               0\n",
      "          Conv2d-291           [-1, 128, 4, 14]          98,304\n",
      "     BatchNorm2d-292           [-1, 128, 4, 14]             256\n",
      " StochasticDepth-293           [-1, 128, 4, 14]               0\n",
      "          MBConv-294           [-1, 128, 4, 14]               0\n",
      "          Conv2d-295           [-1, 768, 4, 14]          98,304\n",
      "     BatchNorm2d-296           [-1, 768, 4, 14]           1,536\n",
      "            SiLU-297           [-1, 768, 4, 14]               0\n",
      "          Conv2d-298           [-1, 768, 4, 14]           6,912\n",
      "     BatchNorm2d-299           [-1, 768, 4, 14]           1,536\n",
      "            SiLU-300           [-1, 768, 4, 14]               0\n",
      "AdaptiveAvgPool2d-301            [-1, 768, 1, 1]               0\n",
      "          Conv2d-302             [-1, 32, 1, 1]          24,608\n",
      "            SiLU-303             [-1, 32, 1, 1]               0\n",
      "          Conv2d-304            [-1, 768, 1, 1]          25,344\n",
      "         Sigmoid-305            [-1, 768, 1, 1]               0\n",
      "SqueezeExcitation-306           [-1, 768, 4, 14]               0\n",
      "          Conv2d-307           [-1, 128, 4, 14]          98,304\n",
      "     BatchNorm2d-308           [-1, 128, 4, 14]             256\n",
      " StochasticDepth-309           [-1, 128, 4, 14]               0\n",
      "          MBConv-310           [-1, 128, 4, 14]               0\n",
      "          Conv2d-311           [-1, 768, 4, 14]          98,304\n",
      "     BatchNorm2d-312           [-1, 768, 4, 14]           1,536\n",
      "            SiLU-313           [-1, 768, 4, 14]               0\n",
      "          Conv2d-314           [-1, 768, 4, 14]          19,200\n",
      "     BatchNorm2d-315           [-1, 768, 4, 14]           1,536\n",
      "            SiLU-316           [-1, 768, 4, 14]               0\n",
      "AdaptiveAvgPool2d-317            [-1, 768, 1, 1]               0\n",
      "          Conv2d-318             [-1, 32, 1, 1]          24,608\n",
      "            SiLU-319             [-1, 32, 1, 1]               0\n",
      "          Conv2d-320            [-1, 768, 1, 1]          25,344\n",
      "         Sigmoid-321            [-1, 768, 1, 1]               0\n",
      "SqueezeExcitation-322           [-1, 768, 4, 14]               0\n",
      "          Conv2d-323           [-1, 176, 4, 14]         135,168\n",
      "     BatchNorm2d-324           [-1, 176, 4, 14]             352\n",
      "          MBConv-325           [-1, 176, 4, 14]               0\n",
      "          Conv2d-326          [-1, 1056, 4, 14]         185,856\n",
      "     BatchNorm2d-327          [-1, 1056, 4, 14]           2,112\n",
      "            SiLU-328          [-1, 1056, 4, 14]               0\n",
      "          Conv2d-329          [-1, 1056, 4, 14]          26,400\n",
      "     BatchNorm2d-330          [-1, 1056, 4, 14]           2,112\n",
      "            SiLU-331          [-1, 1056, 4, 14]               0\n",
      "AdaptiveAvgPool2d-332           [-1, 1056, 1, 1]               0\n",
      "          Conv2d-333             [-1, 44, 1, 1]          46,508\n",
      "            SiLU-334             [-1, 44, 1, 1]               0\n",
      "          Conv2d-335           [-1, 1056, 1, 1]          47,520\n",
      "         Sigmoid-336           [-1, 1056, 1, 1]               0\n",
      "SqueezeExcitation-337          [-1, 1056, 4, 14]               0\n",
      "          Conv2d-338           [-1, 176, 4, 14]         185,856\n",
      "     BatchNorm2d-339           [-1, 176, 4, 14]             352\n",
      " StochasticDepth-340           [-1, 176, 4, 14]               0\n",
      "          MBConv-341           [-1, 176, 4, 14]               0\n",
      "          Conv2d-342          [-1, 1056, 4, 14]         185,856\n",
      "     BatchNorm2d-343          [-1, 1056, 4, 14]           2,112\n",
      "            SiLU-344          [-1, 1056, 4, 14]               0\n",
      "          Conv2d-345          [-1, 1056, 4, 14]          26,400\n",
      "     BatchNorm2d-346          [-1, 1056, 4, 14]           2,112\n",
      "            SiLU-347          [-1, 1056, 4, 14]               0\n",
      "AdaptiveAvgPool2d-348           [-1, 1056, 1, 1]               0\n",
      "          Conv2d-349             [-1, 44, 1, 1]          46,508\n",
      "            SiLU-350             [-1, 44, 1, 1]               0\n",
      "          Conv2d-351           [-1, 1056, 1, 1]          47,520\n",
      "         Sigmoid-352           [-1, 1056, 1, 1]               0\n",
      "SqueezeExcitation-353          [-1, 1056, 4, 14]               0\n",
      "          Conv2d-354           [-1, 176, 4, 14]         185,856\n",
      "     BatchNorm2d-355           [-1, 176, 4, 14]             352\n",
      " StochasticDepth-356           [-1, 176, 4, 14]               0\n",
      "          MBConv-357           [-1, 176, 4, 14]               0\n",
      "          Conv2d-358          [-1, 1056, 4, 14]         185,856\n",
      "     BatchNorm2d-359          [-1, 1056, 4, 14]           2,112\n",
      "            SiLU-360          [-1, 1056, 4, 14]               0\n",
      "          Conv2d-361          [-1, 1056, 4, 14]          26,400\n",
      "     BatchNorm2d-362          [-1, 1056, 4, 14]           2,112\n",
      "            SiLU-363          [-1, 1056, 4, 14]               0\n",
      "AdaptiveAvgPool2d-364           [-1, 1056, 1, 1]               0\n",
      "          Conv2d-365             [-1, 44, 1, 1]          46,508\n",
      "            SiLU-366             [-1, 44, 1, 1]               0\n",
      "          Conv2d-367           [-1, 1056, 1, 1]          47,520\n",
      "         Sigmoid-368           [-1, 1056, 1, 1]               0\n",
      "SqueezeExcitation-369          [-1, 1056, 4, 14]               0\n",
      "          Conv2d-370           [-1, 176, 4, 14]         185,856\n",
      "     BatchNorm2d-371           [-1, 176, 4, 14]             352\n",
      " StochasticDepth-372           [-1, 176, 4, 14]               0\n",
      "          MBConv-373           [-1, 176, 4, 14]               0\n",
      "          Conv2d-374          [-1, 1056, 4, 14]         185,856\n",
      "     BatchNorm2d-375          [-1, 1056, 4, 14]           2,112\n",
      "            SiLU-376          [-1, 1056, 4, 14]               0\n",
      "          Conv2d-377          [-1, 1056, 4, 14]          26,400\n",
      "     BatchNorm2d-378          [-1, 1056, 4, 14]           2,112\n",
      "            SiLU-379          [-1, 1056, 4, 14]               0\n",
      "AdaptiveAvgPool2d-380           [-1, 1056, 1, 1]               0\n",
      "          Conv2d-381             [-1, 44, 1, 1]          46,508\n",
      "            SiLU-382             [-1, 44, 1, 1]               0\n",
      "          Conv2d-383           [-1, 1056, 1, 1]          47,520\n",
      "         Sigmoid-384           [-1, 1056, 1, 1]               0\n",
      "SqueezeExcitation-385          [-1, 1056, 4, 14]               0\n",
      "          Conv2d-386           [-1, 176, 4, 14]         185,856\n",
      "     BatchNorm2d-387           [-1, 176, 4, 14]             352\n",
      " StochasticDepth-388           [-1, 176, 4, 14]               0\n",
      "          MBConv-389           [-1, 176, 4, 14]               0\n",
      "          Conv2d-390          [-1, 1056, 4, 14]         185,856\n",
      "     BatchNorm2d-391          [-1, 1056, 4, 14]           2,112\n",
      "            SiLU-392          [-1, 1056, 4, 14]               0\n",
      "          Conv2d-393          [-1, 1056, 4, 14]          26,400\n",
      "     BatchNorm2d-394          [-1, 1056, 4, 14]           2,112\n",
      "            SiLU-395          [-1, 1056, 4, 14]               0\n",
      "AdaptiveAvgPool2d-396           [-1, 1056, 1, 1]               0\n",
      "          Conv2d-397             [-1, 44, 1, 1]          46,508\n",
      "            SiLU-398             [-1, 44, 1, 1]               0\n",
      "          Conv2d-399           [-1, 1056, 1, 1]          47,520\n",
      "         Sigmoid-400           [-1, 1056, 1, 1]               0\n",
      "SqueezeExcitation-401          [-1, 1056, 4, 14]               0\n",
      "          Conv2d-402           [-1, 176, 4, 14]         185,856\n",
      "     BatchNorm2d-403           [-1, 176, 4, 14]             352\n",
      " StochasticDepth-404           [-1, 176, 4, 14]               0\n",
      "          MBConv-405           [-1, 176, 4, 14]               0\n",
      "          Conv2d-406          [-1, 1056, 4, 14]         185,856\n",
      "     BatchNorm2d-407          [-1, 1056, 4, 14]           2,112\n",
      "            SiLU-408          [-1, 1056, 4, 14]               0\n",
      "          Conv2d-409          [-1, 1056, 4, 14]          26,400\n",
      "     BatchNorm2d-410          [-1, 1056, 4, 14]           2,112\n",
      "            SiLU-411          [-1, 1056, 4, 14]               0\n",
      "AdaptiveAvgPool2d-412           [-1, 1056, 1, 1]               0\n",
      "          Conv2d-413             [-1, 44, 1, 1]          46,508\n",
      "            SiLU-414             [-1, 44, 1, 1]               0\n",
      "          Conv2d-415           [-1, 1056, 1, 1]          47,520\n",
      "         Sigmoid-416           [-1, 1056, 1, 1]               0\n",
      "SqueezeExcitation-417          [-1, 1056, 4, 14]               0\n",
      "          Conv2d-418           [-1, 176, 4, 14]         185,856\n",
      "     BatchNorm2d-419           [-1, 176, 4, 14]             352\n",
      " StochasticDepth-420           [-1, 176, 4, 14]               0\n",
      "          MBConv-421           [-1, 176, 4, 14]               0\n",
      "          Conv2d-422          [-1, 1056, 4, 14]         185,856\n",
      "     BatchNorm2d-423          [-1, 1056, 4, 14]           2,112\n",
      "            SiLU-424          [-1, 1056, 4, 14]               0\n",
      "          Conv2d-425           [-1, 1056, 2, 7]          26,400\n",
      "     BatchNorm2d-426           [-1, 1056, 2, 7]           2,112\n",
      "            SiLU-427           [-1, 1056, 2, 7]               0\n",
      "AdaptiveAvgPool2d-428           [-1, 1056, 1, 1]               0\n",
      "          Conv2d-429             [-1, 44, 1, 1]          46,508\n",
      "            SiLU-430             [-1, 44, 1, 1]               0\n",
      "          Conv2d-431           [-1, 1056, 1, 1]          47,520\n",
      "         Sigmoid-432           [-1, 1056, 1, 1]               0\n",
      "SqueezeExcitation-433           [-1, 1056, 2, 7]               0\n",
      "          Conv2d-434            [-1, 304, 2, 7]         321,024\n",
      "     BatchNorm2d-435            [-1, 304, 2, 7]             608\n",
      "          MBConv-436            [-1, 304, 2, 7]               0\n",
      "          Conv2d-437           [-1, 1824, 2, 7]         554,496\n",
      "     BatchNorm2d-438           [-1, 1824, 2, 7]           3,648\n",
      "            SiLU-439           [-1, 1824, 2, 7]               0\n",
      "          Conv2d-440           [-1, 1824, 2, 7]          45,600\n",
      "     BatchNorm2d-441           [-1, 1824, 2, 7]           3,648\n",
      "            SiLU-442           [-1, 1824, 2, 7]               0\n",
      "AdaptiveAvgPool2d-443           [-1, 1824, 1, 1]               0\n",
      "          Conv2d-444             [-1, 76, 1, 1]         138,700\n",
      "            SiLU-445             [-1, 76, 1, 1]               0\n",
      "          Conv2d-446           [-1, 1824, 1, 1]         140,448\n",
      "         Sigmoid-447           [-1, 1824, 1, 1]               0\n",
      "SqueezeExcitation-448           [-1, 1824, 2, 7]               0\n",
      "          Conv2d-449            [-1, 304, 2, 7]         554,496\n",
      "     BatchNorm2d-450            [-1, 304, 2, 7]             608\n",
      " StochasticDepth-451            [-1, 304, 2, 7]               0\n",
      "          MBConv-452            [-1, 304, 2, 7]               0\n",
      "          Conv2d-453           [-1, 1824, 2, 7]         554,496\n",
      "     BatchNorm2d-454           [-1, 1824, 2, 7]           3,648\n",
      "            SiLU-455           [-1, 1824, 2, 7]               0\n",
      "          Conv2d-456           [-1, 1824, 2, 7]          45,600\n",
      "     BatchNorm2d-457           [-1, 1824, 2, 7]           3,648\n",
      "            SiLU-458           [-1, 1824, 2, 7]               0\n",
      "AdaptiveAvgPool2d-459           [-1, 1824, 1, 1]               0\n",
      "          Conv2d-460             [-1, 76, 1, 1]         138,700\n",
      "            SiLU-461             [-1, 76, 1, 1]               0\n",
      "          Conv2d-462           [-1, 1824, 1, 1]         140,448\n",
      "         Sigmoid-463           [-1, 1824, 1, 1]               0\n",
      "SqueezeExcitation-464           [-1, 1824, 2, 7]               0\n",
      "          Conv2d-465            [-1, 304, 2, 7]         554,496\n",
      "     BatchNorm2d-466            [-1, 304, 2, 7]             608\n",
      " StochasticDepth-467            [-1, 304, 2, 7]               0\n",
      "          MBConv-468            [-1, 304, 2, 7]               0\n",
      "          Conv2d-469           [-1, 1824, 2, 7]         554,496\n",
      "     BatchNorm2d-470           [-1, 1824, 2, 7]           3,648\n",
      "            SiLU-471           [-1, 1824, 2, 7]               0\n",
      "          Conv2d-472           [-1, 1824, 2, 7]          45,600\n",
      "     BatchNorm2d-473           [-1, 1824, 2, 7]           3,648\n",
      "            SiLU-474           [-1, 1824, 2, 7]               0\n",
      "AdaptiveAvgPool2d-475           [-1, 1824, 1, 1]               0\n",
      "          Conv2d-476             [-1, 76, 1, 1]         138,700\n",
      "            SiLU-477             [-1, 76, 1, 1]               0\n",
      "          Conv2d-478           [-1, 1824, 1, 1]         140,448\n",
      "         Sigmoid-479           [-1, 1824, 1, 1]               0\n",
      "SqueezeExcitation-480           [-1, 1824, 2, 7]               0\n",
      "          Conv2d-481            [-1, 304, 2, 7]         554,496\n",
      "     BatchNorm2d-482            [-1, 304, 2, 7]             608\n",
      " StochasticDepth-483            [-1, 304, 2, 7]               0\n",
      "          MBConv-484            [-1, 304, 2, 7]               0\n",
      "          Conv2d-485           [-1, 1824, 2, 7]         554,496\n",
      "     BatchNorm2d-486           [-1, 1824, 2, 7]           3,648\n",
      "            SiLU-487           [-1, 1824, 2, 7]               0\n",
      "          Conv2d-488           [-1, 1824, 2, 7]          45,600\n",
      "     BatchNorm2d-489           [-1, 1824, 2, 7]           3,648\n",
      "            SiLU-490           [-1, 1824, 2, 7]               0\n",
      "AdaptiveAvgPool2d-491           [-1, 1824, 1, 1]               0\n",
      "          Conv2d-492             [-1, 76, 1, 1]         138,700\n",
      "            SiLU-493             [-1, 76, 1, 1]               0\n",
      "          Conv2d-494           [-1, 1824, 1, 1]         140,448\n",
      "         Sigmoid-495           [-1, 1824, 1, 1]               0\n",
      "SqueezeExcitation-496           [-1, 1824, 2, 7]               0\n",
      "          Conv2d-497            [-1, 304, 2, 7]         554,496\n",
      "     BatchNorm2d-498            [-1, 304, 2, 7]             608\n",
      " StochasticDepth-499            [-1, 304, 2, 7]               0\n",
      "          MBConv-500            [-1, 304, 2, 7]               0\n",
      "          Conv2d-501           [-1, 1824, 2, 7]         554,496\n",
      "     BatchNorm2d-502           [-1, 1824, 2, 7]           3,648\n",
      "            SiLU-503           [-1, 1824, 2, 7]               0\n",
      "          Conv2d-504           [-1, 1824, 2, 7]          45,600\n",
      "     BatchNorm2d-505           [-1, 1824, 2, 7]           3,648\n",
      "            SiLU-506           [-1, 1824, 2, 7]               0\n",
      "AdaptiveAvgPool2d-507           [-1, 1824, 1, 1]               0\n",
      "          Conv2d-508             [-1, 76, 1, 1]         138,700\n",
      "            SiLU-509             [-1, 76, 1, 1]               0\n",
      "          Conv2d-510           [-1, 1824, 1, 1]         140,448\n",
      "         Sigmoid-511           [-1, 1824, 1, 1]               0\n",
      "SqueezeExcitation-512           [-1, 1824, 2, 7]               0\n",
      "          Conv2d-513            [-1, 304, 2, 7]         554,496\n",
      "     BatchNorm2d-514            [-1, 304, 2, 7]             608\n",
      " StochasticDepth-515            [-1, 304, 2, 7]               0\n",
      "          MBConv-516            [-1, 304, 2, 7]               0\n",
      "          Conv2d-517           [-1, 1824, 2, 7]         554,496\n",
      "     BatchNorm2d-518           [-1, 1824, 2, 7]           3,648\n",
      "            SiLU-519           [-1, 1824, 2, 7]               0\n",
      "          Conv2d-520           [-1, 1824, 2, 7]          45,600\n",
      "     BatchNorm2d-521           [-1, 1824, 2, 7]           3,648\n",
      "            SiLU-522           [-1, 1824, 2, 7]               0\n",
      "AdaptiveAvgPool2d-523           [-1, 1824, 1, 1]               0\n",
      "          Conv2d-524             [-1, 76, 1, 1]         138,700\n",
      "            SiLU-525             [-1, 76, 1, 1]               0\n",
      "          Conv2d-526           [-1, 1824, 1, 1]         140,448\n",
      "         Sigmoid-527           [-1, 1824, 1, 1]               0\n",
      "SqueezeExcitation-528           [-1, 1824, 2, 7]               0\n",
      "          Conv2d-529            [-1, 304, 2, 7]         554,496\n",
      "     BatchNorm2d-530            [-1, 304, 2, 7]             608\n",
      " StochasticDepth-531            [-1, 304, 2, 7]               0\n",
      "          MBConv-532            [-1, 304, 2, 7]               0\n",
      "          Conv2d-533           [-1, 1824, 2, 7]         554,496\n",
      "     BatchNorm2d-534           [-1, 1824, 2, 7]           3,648\n",
      "            SiLU-535           [-1, 1824, 2, 7]               0\n",
      "          Conv2d-536           [-1, 1824, 2, 7]          45,600\n",
      "     BatchNorm2d-537           [-1, 1824, 2, 7]           3,648\n",
      "            SiLU-538           [-1, 1824, 2, 7]               0\n",
      "AdaptiveAvgPool2d-539           [-1, 1824, 1, 1]               0\n",
      "          Conv2d-540             [-1, 76, 1, 1]         138,700\n",
      "            SiLU-541             [-1, 76, 1, 1]               0\n",
      "          Conv2d-542           [-1, 1824, 1, 1]         140,448\n",
      "         Sigmoid-543           [-1, 1824, 1, 1]               0\n",
      "SqueezeExcitation-544           [-1, 1824, 2, 7]               0\n",
      "          Conv2d-545            [-1, 304, 2, 7]         554,496\n",
      "     BatchNorm2d-546            [-1, 304, 2, 7]             608\n",
      " StochasticDepth-547            [-1, 304, 2, 7]               0\n",
      "          MBConv-548            [-1, 304, 2, 7]               0\n",
      "          Conv2d-549           [-1, 1824, 2, 7]         554,496\n",
      "     BatchNorm2d-550           [-1, 1824, 2, 7]           3,648\n",
      "            SiLU-551           [-1, 1824, 2, 7]               0\n",
      "          Conv2d-552           [-1, 1824, 2, 7]          45,600\n",
      "     BatchNorm2d-553           [-1, 1824, 2, 7]           3,648\n",
      "            SiLU-554           [-1, 1824, 2, 7]               0\n",
      "AdaptiveAvgPool2d-555           [-1, 1824, 1, 1]               0\n",
      "          Conv2d-556             [-1, 76, 1, 1]         138,700\n",
      "            SiLU-557             [-1, 76, 1, 1]               0\n",
      "          Conv2d-558           [-1, 1824, 1, 1]         140,448\n",
      "         Sigmoid-559           [-1, 1824, 1, 1]               0\n",
      "SqueezeExcitation-560           [-1, 1824, 2, 7]               0\n",
      "          Conv2d-561            [-1, 304, 2, 7]         554,496\n",
      "     BatchNorm2d-562            [-1, 304, 2, 7]             608\n",
      " StochasticDepth-563            [-1, 304, 2, 7]               0\n",
      "          MBConv-564            [-1, 304, 2, 7]               0\n",
      "          Conv2d-565           [-1, 1824, 2, 7]         554,496\n",
      "     BatchNorm2d-566           [-1, 1824, 2, 7]           3,648\n",
      "            SiLU-567           [-1, 1824, 2, 7]               0\n",
      "          Conv2d-568           [-1, 1824, 2, 7]          16,416\n",
      "     BatchNorm2d-569           [-1, 1824, 2, 7]           3,648\n",
      "            SiLU-570           [-1, 1824, 2, 7]               0\n",
      "AdaptiveAvgPool2d-571           [-1, 1824, 1, 1]               0\n",
      "          Conv2d-572             [-1, 76, 1, 1]         138,700\n",
      "            SiLU-573             [-1, 76, 1, 1]               0\n",
      "          Conv2d-574           [-1, 1824, 1, 1]         140,448\n",
      "         Sigmoid-575           [-1, 1824, 1, 1]               0\n",
      "SqueezeExcitation-576           [-1, 1824, 2, 7]               0\n",
      "          Conv2d-577            [-1, 512, 2, 7]         933,888\n",
      "     BatchNorm2d-578            [-1, 512, 2, 7]           1,024\n",
      "          MBConv-579            [-1, 512, 2, 7]               0\n",
      "          Conv2d-580           [-1, 3072, 2, 7]       1,572,864\n",
      "     BatchNorm2d-581           [-1, 3072, 2, 7]           6,144\n",
      "            SiLU-582           [-1, 3072, 2, 7]               0\n",
      "          Conv2d-583           [-1, 3072, 2, 7]          27,648\n",
      "     BatchNorm2d-584           [-1, 3072, 2, 7]           6,144\n",
      "            SiLU-585           [-1, 3072, 2, 7]               0\n",
      "AdaptiveAvgPool2d-586           [-1, 3072, 1, 1]               0\n",
      "          Conv2d-587            [-1, 128, 1, 1]         393,344\n",
      "            SiLU-588            [-1, 128, 1, 1]               0\n",
      "          Conv2d-589           [-1, 3072, 1, 1]         396,288\n",
      "         Sigmoid-590           [-1, 3072, 1, 1]               0\n",
      "SqueezeExcitation-591           [-1, 3072, 2, 7]               0\n",
      "          Conv2d-592            [-1, 512, 2, 7]       1,572,864\n",
      "     BatchNorm2d-593            [-1, 512, 2, 7]           1,024\n",
      " StochasticDepth-594            [-1, 512, 2, 7]               0\n",
      "          MBConv-595            [-1, 512, 2, 7]               0\n",
      "          Conv2d-596           [-1, 3072, 2, 7]       1,572,864\n",
      "     BatchNorm2d-597           [-1, 3072, 2, 7]           6,144\n",
      "            SiLU-598           [-1, 3072, 2, 7]               0\n",
      "          Conv2d-599           [-1, 3072, 2, 7]          27,648\n",
      "     BatchNorm2d-600           [-1, 3072, 2, 7]           6,144\n",
      "            SiLU-601           [-1, 3072, 2, 7]               0\n",
      "AdaptiveAvgPool2d-602           [-1, 3072, 1, 1]               0\n",
      "          Conv2d-603            [-1, 128, 1, 1]         393,344\n",
      "            SiLU-604            [-1, 128, 1, 1]               0\n",
      "          Conv2d-605           [-1, 3072, 1, 1]         396,288\n",
      "         Sigmoid-606           [-1, 3072, 1, 1]               0\n",
      "SqueezeExcitation-607           [-1, 3072, 2, 7]               0\n",
      "          Conv2d-608            [-1, 512, 2, 7]       1,572,864\n",
      "     BatchNorm2d-609            [-1, 512, 2, 7]           1,024\n",
      " StochasticDepth-610            [-1, 512, 2, 7]               0\n",
      "          MBConv-611            [-1, 512, 2, 7]               0\n",
      "          Conv2d-612           [-1, 2048, 2, 7]       1,048,576\n",
      "     BatchNorm2d-613           [-1, 2048, 2, 7]           4,096\n",
      "            SiLU-614           [-1, 2048, 2, 7]               0\n",
      "AdaptiveAvgPool2d-615           [-1, 2048, 1, 1]               0\n",
      "         Dropout-616                 [-1, 2048]               0\n",
      "          Linear-617                 [-1, 1000]       2,049,000\n",
      "================================================================\n",
      "Total params: 30,389,784\n",
      "Trainable params: 30,389,784\n",
      "Non-trainable params: 0\n",
      "----------------------------------------------------------------\n",
      "Input size (MB): 0.16\n",
      "Forward/backward pass size (MB): 178.73\n",
      "Params size (MB): 115.93\n",
      "Estimated Total Size (MB): 294.82\n",
      "----------------------------------------------------------------\n"
     ]
    }
   ],
   "source": [
    "import torchvision.models as models\n",
    "eff_test = models.efficientnet_b5(pretrained=True)\n",
    "eff_test.cuda()\n",
    "summary_(eff_test,(3,64,224))"
   ]
  },
  {
   "cell_type": "code",
   "execution_count": 325,
   "id": "2fb94373",
   "metadata": {},
   "outputs": [],
   "source": [
    "class RecognitionModel_eff(nn.Module):\n",
    "    def __init__(self, num_chars=len(char2idx), rnn_hidden_size=256):\n",
    "        super(RecognitionModel_eff, self).__init__()\n",
    "        self.num_chars = num_chars\n",
    "        self.rnn_hidden_size = rnn_hidden_size\n",
    "        \n",
    "        # CNN Backbone = 사전학습된 resnet18 활용\n",
    "        # https://arxiv.org/abs/1512.03385\n",
    "        effnet = models.efficientnet_b5(pretrained=True)\n",
    "        # CNN Feature Extract\n",
    "        effnet_modules = list(effnet.features)[:-3]\n",
    "        self.feature_extract = nn.Sequential(\n",
    "            *effnet_modules,\n",
    "            nn.Conv2d(176, 256, kernel_size=(3,6), stride=1, padding=1),\n",
    "            nn.BatchNorm2d(256),\n",
    "            nn.ReLU(inplace=True)\n",
    "        )\n",
    "\n",
    "        self.linear1 = nn.Linear(1024, rnn_hidden_size)\n",
    "        \n",
    "        # RNN\n",
    "        self.rnn = nn.RNN(input_size=rnn_hidden_size, \n",
    "                            hidden_size=rnn_hidden_size,\n",
    "                            bidirectional=True, \n",
    "                            batch_first=True)\n",
    "        self.linear2 = nn.Linear(self.rnn_hidden_size*2, num_chars)\n",
    "        \n",
    "        #LSTM\n",
    "        self.lstm = nn.LSTM(input_size=rnn_hidden_size,\n",
    "                           hidden_size= rnn_hidden_size,\n",
    "                           bidirectional = True,\n",
    "                           batch_first=True)\n",
    "        \n",
    "        #GRU\n",
    "        self.gru = nn.GRU(input_size=rnn_hidden_size,\n",
    "                           hidden_size= rnn_hidden_size,\n",
    "                           bidirectional = True,\n",
    "                           batch_first=True)\n",
    "        \n",
    "    def forward(self, x):\n",
    "        # CNN\n",
    "        x = self.feature_extract(x) # [batch_size, channels, height, width]\n",
    "        x = x.permute(0, 3, 1, 2) # [batch_size, width, channels, height]\n",
    "         \n",
    "        batch_size = x.size(0)\n",
    "        T = x.size(1)\n",
    "        x = x.view(batch_size, T, -1) # [batch_size, T==width, num_features==channels*height]\n",
    "        x = self.linear1(x)\n",
    "        #print(x.shape)\n",
    "        # RNN\n",
    "        #x, hidden = self.rnn(x)\n",
    "        \n",
    "        #LSTM\n",
    "        x, (hidden,_) = self.lstm(x)\n",
    "        #GRU\n",
    "        #x, (hidden,_) = self.gru(x)\n",
    "        \n",
    "        output = self.linear2(x)\n",
    "        output = output.permute(1, 0, 2) # [T==10, batch_size, num_classes==num_features]\n",
    "        \n",
    "        return output"
   ]
  },
  {
   "cell_type": "code",
   "execution_count": 326,
   "id": "f1fb1ff6",
   "metadata": {},
   "outputs": [
    {
     "data": {
      "text/plain": [
       "RecognitionModel_eff(\n",
       "  (feature_extract): Sequential(\n",
       "    (0): Conv2dNormActivation(\n",
       "      (0): Conv2d(3, 48, kernel_size=(3, 3), stride=(2, 2), padding=(1, 1), bias=False)\n",
       "      (1): BatchNorm2d(48, eps=0.001, momentum=0.01, affine=True, track_running_stats=True)\n",
       "      (2): SiLU(inplace=True)\n",
       "    )\n",
       "    (1): Sequential(\n",
       "      (0): MBConv(\n",
       "        (block): Sequential(\n",
       "          (0): Conv2dNormActivation(\n",
       "            (0): Conv2d(48, 48, kernel_size=(3, 3), stride=(1, 1), padding=(1, 1), groups=48, bias=False)\n",
       "            (1): BatchNorm2d(48, eps=0.001, momentum=0.01, affine=True, track_running_stats=True)\n",
       "            (2): SiLU(inplace=True)\n",
       "          )\n",
       "          (1): SqueezeExcitation(\n",
       "            (avgpool): AdaptiveAvgPool2d(output_size=1)\n",
       "            (fc1): Conv2d(48, 12, kernel_size=(1, 1), stride=(1, 1))\n",
       "            (fc2): Conv2d(12, 48, kernel_size=(1, 1), stride=(1, 1))\n",
       "            (activation): SiLU(inplace=True)\n",
       "            (scale_activation): Sigmoid()\n",
       "          )\n",
       "          (2): Conv2dNormActivation(\n",
       "            (0): Conv2d(48, 24, kernel_size=(1, 1), stride=(1, 1), bias=False)\n",
       "            (1): BatchNorm2d(24, eps=0.001, momentum=0.01, affine=True, track_running_stats=True)\n",
       "          )\n",
       "        )\n",
       "        (stochastic_depth): StochasticDepth(p=0.0, mode=row)\n",
       "      )\n",
       "      (1): MBConv(\n",
       "        (block): Sequential(\n",
       "          (0): Conv2dNormActivation(\n",
       "            (0): Conv2d(24, 24, kernel_size=(3, 3), stride=(1, 1), padding=(1, 1), groups=24, bias=False)\n",
       "            (1): BatchNorm2d(24, eps=0.001, momentum=0.01, affine=True, track_running_stats=True)\n",
       "            (2): SiLU(inplace=True)\n",
       "          )\n",
       "          (1): SqueezeExcitation(\n",
       "            (avgpool): AdaptiveAvgPool2d(output_size=1)\n",
       "            (fc1): Conv2d(24, 6, kernel_size=(1, 1), stride=(1, 1))\n",
       "            (fc2): Conv2d(6, 24, kernel_size=(1, 1), stride=(1, 1))\n",
       "            (activation): SiLU(inplace=True)\n",
       "            (scale_activation): Sigmoid()\n",
       "          )\n",
       "          (2): Conv2dNormActivation(\n",
       "            (0): Conv2d(24, 24, kernel_size=(1, 1), stride=(1, 1), bias=False)\n",
       "            (1): BatchNorm2d(24, eps=0.001, momentum=0.01, affine=True, track_running_stats=True)\n",
       "          )\n",
       "        )\n",
       "        (stochastic_depth): StochasticDepth(p=0.005128205128205128, mode=row)\n",
       "      )\n",
       "      (2): MBConv(\n",
       "        (block): Sequential(\n",
       "          (0): Conv2dNormActivation(\n",
       "            (0): Conv2d(24, 24, kernel_size=(3, 3), stride=(1, 1), padding=(1, 1), groups=24, bias=False)\n",
       "            (1): BatchNorm2d(24, eps=0.001, momentum=0.01, affine=True, track_running_stats=True)\n",
       "            (2): SiLU(inplace=True)\n",
       "          )\n",
       "          (1): SqueezeExcitation(\n",
       "            (avgpool): AdaptiveAvgPool2d(output_size=1)\n",
       "            (fc1): Conv2d(24, 6, kernel_size=(1, 1), stride=(1, 1))\n",
       "            (fc2): Conv2d(6, 24, kernel_size=(1, 1), stride=(1, 1))\n",
       "            (activation): SiLU(inplace=True)\n",
       "            (scale_activation): Sigmoid()\n",
       "          )\n",
       "          (2): Conv2dNormActivation(\n",
       "            (0): Conv2d(24, 24, kernel_size=(1, 1), stride=(1, 1), bias=False)\n",
       "            (1): BatchNorm2d(24, eps=0.001, momentum=0.01, affine=True, track_running_stats=True)\n",
       "          )\n",
       "        )\n",
       "        (stochastic_depth): StochasticDepth(p=0.010256410256410256, mode=row)\n",
       "      )\n",
       "    )\n",
       "    (2): Sequential(\n",
       "      (0): MBConv(\n",
       "        (block): Sequential(\n",
       "          (0): Conv2dNormActivation(\n",
       "            (0): Conv2d(24, 144, kernel_size=(1, 1), stride=(1, 1), bias=False)\n",
       "            (1): BatchNorm2d(144, eps=0.001, momentum=0.01, affine=True, track_running_stats=True)\n",
       "            (2): SiLU(inplace=True)\n",
       "          )\n",
       "          (1): Conv2dNormActivation(\n",
       "            (0): Conv2d(144, 144, kernel_size=(3, 3), stride=(2, 2), padding=(1, 1), groups=144, bias=False)\n",
       "            (1): BatchNorm2d(144, eps=0.001, momentum=0.01, affine=True, track_running_stats=True)\n",
       "            (2): SiLU(inplace=True)\n",
       "          )\n",
       "          (2): SqueezeExcitation(\n",
       "            (avgpool): AdaptiveAvgPool2d(output_size=1)\n",
       "            (fc1): Conv2d(144, 6, kernel_size=(1, 1), stride=(1, 1))\n",
       "            (fc2): Conv2d(6, 144, kernel_size=(1, 1), stride=(1, 1))\n",
       "            (activation): SiLU(inplace=True)\n",
       "            (scale_activation): Sigmoid()\n",
       "          )\n",
       "          (3): Conv2dNormActivation(\n",
       "            (0): Conv2d(144, 40, kernel_size=(1, 1), stride=(1, 1), bias=False)\n",
       "            (1): BatchNorm2d(40, eps=0.001, momentum=0.01, affine=True, track_running_stats=True)\n",
       "          )\n",
       "        )\n",
       "        (stochastic_depth): StochasticDepth(p=0.015384615384615387, mode=row)\n",
       "      )\n",
       "      (1): MBConv(\n",
       "        (block): Sequential(\n",
       "          (0): Conv2dNormActivation(\n",
       "            (0): Conv2d(40, 240, kernel_size=(1, 1), stride=(1, 1), bias=False)\n",
       "            (1): BatchNorm2d(240, eps=0.001, momentum=0.01, affine=True, track_running_stats=True)\n",
       "            (2): SiLU(inplace=True)\n",
       "          )\n",
       "          (1): Conv2dNormActivation(\n",
       "            (0): Conv2d(240, 240, kernel_size=(3, 3), stride=(1, 1), padding=(1, 1), groups=240, bias=False)\n",
       "            (1): BatchNorm2d(240, eps=0.001, momentum=0.01, affine=True, track_running_stats=True)\n",
       "            (2): SiLU(inplace=True)\n",
       "          )\n",
       "          (2): SqueezeExcitation(\n",
       "            (avgpool): AdaptiveAvgPool2d(output_size=1)\n",
       "            (fc1): Conv2d(240, 10, kernel_size=(1, 1), stride=(1, 1))\n",
       "            (fc2): Conv2d(10, 240, kernel_size=(1, 1), stride=(1, 1))\n",
       "            (activation): SiLU(inplace=True)\n",
       "            (scale_activation): Sigmoid()\n",
       "          )\n",
       "          (3): Conv2dNormActivation(\n",
       "            (0): Conv2d(240, 40, kernel_size=(1, 1), stride=(1, 1), bias=False)\n",
       "            (1): BatchNorm2d(40, eps=0.001, momentum=0.01, affine=True, track_running_stats=True)\n",
       "          )\n",
       "        )\n",
       "        (stochastic_depth): StochasticDepth(p=0.020512820512820513, mode=row)\n",
       "      )\n",
       "      (2): MBConv(\n",
       "        (block): Sequential(\n",
       "          (0): Conv2dNormActivation(\n",
       "            (0): Conv2d(40, 240, kernel_size=(1, 1), stride=(1, 1), bias=False)\n",
       "            (1): BatchNorm2d(240, eps=0.001, momentum=0.01, affine=True, track_running_stats=True)\n",
       "            (2): SiLU(inplace=True)\n",
       "          )\n",
       "          (1): Conv2dNormActivation(\n",
       "            (0): Conv2d(240, 240, kernel_size=(3, 3), stride=(1, 1), padding=(1, 1), groups=240, bias=False)\n",
       "            (1): BatchNorm2d(240, eps=0.001, momentum=0.01, affine=True, track_running_stats=True)\n",
       "            (2): SiLU(inplace=True)\n",
       "          )\n",
       "          (2): SqueezeExcitation(\n",
       "            (avgpool): AdaptiveAvgPool2d(output_size=1)\n",
       "            (fc1): Conv2d(240, 10, kernel_size=(1, 1), stride=(1, 1))\n",
       "            (fc2): Conv2d(10, 240, kernel_size=(1, 1), stride=(1, 1))\n",
       "            (activation): SiLU(inplace=True)\n",
       "            (scale_activation): Sigmoid()\n",
       "          )\n",
       "          (3): Conv2dNormActivation(\n",
       "            (0): Conv2d(240, 40, kernel_size=(1, 1), stride=(1, 1), bias=False)\n",
       "            (1): BatchNorm2d(40, eps=0.001, momentum=0.01, affine=True, track_running_stats=True)\n",
       "          )\n",
       "        )\n",
       "        (stochastic_depth): StochasticDepth(p=0.02564102564102564, mode=row)\n",
       "      )\n",
       "      (3): MBConv(\n",
       "        (block): Sequential(\n",
       "          (0): Conv2dNormActivation(\n",
       "            (0): Conv2d(40, 240, kernel_size=(1, 1), stride=(1, 1), bias=False)\n",
       "            (1): BatchNorm2d(240, eps=0.001, momentum=0.01, affine=True, track_running_stats=True)\n",
       "            (2): SiLU(inplace=True)\n",
       "          )\n",
       "          (1): Conv2dNormActivation(\n",
       "            (0): Conv2d(240, 240, kernel_size=(3, 3), stride=(1, 1), padding=(1, 1), groups=240, bias=False)\n",
       "            (1): BatchNorm2d(240, eps=0.001, momentum=0.01, affine=True, track_running_stats=True)\n",
       "            (2): SiLU(inplace=True)\n",
       "          )\n",
       "          (2): SqueezeExcitation(\n",
       "            (avgpool): AdaptiveAvgPool2d(output_size=1)\n",
       "            (fc1): Conv2d(240, 10, kernel_size=(1, 1), stride=(1, 1))\n",
       "            (fc2): Conv2d(10, 240, kernel_size=(1, 1), stride=(1, 1))\n",
       "            (activation): SiLU(inplace=True)\n",
       "            (scale_activation): Sigmoid()\n",
       "          )\n",
       "          (3): Conv2dNormActivation(\n",
       "            (0): Conv2d(240, 40, kernel_size=(1, 1), stride=(1, 1), bias=False)\n",
       "            (1): BatchNorm2d(40, eps=0.001, momentum=0.01, affine=True, track_running_stats=True)\n",
       "          )\n",
       "        )\n",
       "        (stochastic_depth): StochasticDepth(p=0.030769230769230774, mode=row)\n",
       "      )\n",
       "      (4): MBConv(\n",
       "        (block): Sequential(\n",
       "          (0): Conv2dNormActivation(\n",
       "            (0): Conv2d(40, 240, kernel_size=(1, 1), stride=(1, 1), bias=False)\n",
       "            (1): BatchNorm2d(240, eps=0.001, momentum=0.01, affine=True, track_running_stats=True)\n",
       "            (2): SiLU(inplace=True)\n",
       "          )\n",
       "          (1): Conv2dNormActivation(\n",
       "            (0): Conv2d(240, 240, kernel_size=(3, 3), stride=(1, 1), padding=(1, 1), groups=240, bias=False)\n",
       "            (1): BatchNorm2d(240, eps=0.001, momentum=0.01, affine=True, track_running_stats=True)\n",
       "            (2): SiLU(inplace=True)\n",
       "          )\n",
       "          (2): SqueezeExcitation(\n",
       "            (avgpool): AdaptiveAvgPool2d(output_size=1)\n",
       "            (fc1): Conv2d(240, 10, kernel_size=(1, 1), stride=(1, 1))\n",
       "            (fc2): Conv2d(10, 240, kernel_size=(1, 1), stride=(1, 1))\n",
       "            (activation): SiLU(inplace=True)\n",
       "            (scale_activation): Sigmoid()\n",
       "          )\n",
       "          (3): Conv2dNormActivation(\n",
       "            (0): Conv2d(240, 40, kernel_size=(1, 1), stride=(1, 1), bias=False)\n",
       "            (1): BatchNorm2d(40, eps=0.001, momentum=0.01, affine=True, track_running_stats=True)\n",
       "          )\n",
       "        )\n",
       "        (stochastic_depth): StochasticDepth(p=0.0358974358974359, mode=row)\n",
       "      )\n",
       "    )\n",
       "    (3): Sequential(\n",
       "      (0): MBConv(\n",
       "        (block): Sequential(\n",
       "          (0): Conv2dNormActivation(\n",
       "            (0): Conv2d(40, 240, kernel_size=(1, 1), stride=(1, 1), bias=False)\n",
       "            (1): BatchNorm2d(240, eps=0.001, momentum=0.01, affine=True, track_running_stats=True)\n",
       "            (2): SiLU(inplace=True)\n",
       "          )\n",
       "          (1): Conv2dNormActivation(\n",
       "            (0): Conv2d(240, 240, kernel_size=(5, 5), stride=(2, 2), padding=(2, 2), groups=240, bias=False)\n",
       "            (1): BatchNorm2d(240, eps=0.001, momentum=0.01, affine=True, track_running_stats=True)\n",
       "            (2): SiLU(inplace=True)\n",
       "          )\n",
       "          (2): SqueezeExcitation(\n",
       "            (avgpool): AdaptiveAvgPool2d(output_size=1)\n",
       "            (fc1): Conv2d(240, 10, kernel_size=(1, 1), stride=(1, 1))\n",
       "            (fc2): Conv2d(10, 240, kernel_size=(1, 1), stride=(1, 1))\n",
       "            (activation): SiLU(inplace=True)\n",
       "            (scale_activation): Sigmoid()\n",
       "          )\n",
       "          (3): Conv2dNormActivation(\n",
       "            (0): Conv2d(240, 64, kernel_size=(1, 1), stride=(1, 1), bias=False)\n",
       "            (1): BatchNorm2d(64, eps=0.001, momentum=0.01, affine=True, track_running_stats=True)\n",
       "          )\n",
       "        )\n",
       "        (stochastic_depth): StochasticDepth(p=0.041025641025641026, mode=row)\n",
       "      )\n",
       "      (1): MBConv(\n",
       "        (block): Sequential(\n",
       "          (0): Conv2dNormActivation(\n",
       "            (0): Conv2d(64, 384, kernel_size=(1, 1), stride=(1, 1), bias=False)\n",
       "            (1): BatchNorm2d(384, eps=0.001, momentum=0.01, affine=True, track_running_stats=True)\n",
       "            (2): SiLU(inplace=True)\n",
       "          )\n",
       "          (1): Conv2dNormActivation(\n",
       "            (0): Conv2d(384, 384, kernel_size=(5, 5), stride=(1, 1), padding=(2, 2), groups=384, bias=False)\n",
       "            (1): BatchNorm2d(384, eps=0.001, momentum=0.01, affine=True, track_running_stats=True)\n",
       "            (2): SiLU(inplace=True)\n",
       "          )\n",
       "          (2): SqueezeExcitation(\n",
       "            (avgpool): AdaptiveAvgPool2d(output_size=1)\n",
       "            (fc1): Conv2d(384, 16, kernel_size=(1, 1), stride=(1, 1))\n",
       "            (fc2): Conv2d(16, 384, kernel_size=(1, 1), stride=(1, 1))\n",
       "            (activation): SiLU(inplace=True)\n",
       "            (scale_activation): Sigmoid()\n",
       "          )\n",
       "          (3): Conv2dNormActivation(\n",
       "            (0): Conv2d(384, 64, kernel_size=(1, 1), stride=(1, 1), bias=False)\n",
       "            (1): BatchNorm2d(64, eps=0.001, momentum=0.01, affine=True, track_running_stats=True)\n",
       "          )\n",
       "        )\n",
       "        (stochastic_depth): StochasticDepth(p=0.046153846153846156, mode=row)\n",
       "      )\n",
       "      (2): MBConv(\n",
       "        (block): Sequential(\n",
       "          (0): Conv2dNormActivation(\n",
       "            (0): Conv2d(64, 384, kernel_size=(1, 1), stride=(1, 1), bias=False)\n",
       "            (1): BatchNorm2d(384, eps=0.001, momentum=0.01, affine=True, track_running_stats=True)\n",
       "            (2): SiLU(inplace=True)\n",
       "          )\n",
       "          (1): Conv2dNormActivation(\n",
       "            (0): Conv2d(384, 384, kernel_size=(5, 5), stride=(1, 1), padding=(2, 2), groups=384, bias=False)\n",
       "            (1): BatchNorm2d(384, eps=0.001, momentum=0.01, affine=True, track_running_stats=True)\n",
       "            (2): SiLU(inplace=True)\n",
       "          )\n",
       "          (2): SqueezeExcitation(\n",
       "            (avgpool): AdaptiveAvgPool2d(output_size=1)\n",
       "            (fc1): Conv2d(384, 16, kernel_size=(1, 1), stride=(1, 1))\n",
       "            (fc2): Conv2d(16, 384, kernel_size=(1, 1), stride=(1, 1))\n",
       "            (activation): SiLU(inplace=True)\n",
       "            (scale_activation): Sigmoid()\n",
       "          )\n",
       "          (3): Conv2dNormActivation(\n",
       "            (0): Conv2d(384, 64, kernel_size=(1, 1), stride=(1, 1), bias=False)\n",
       "            (1): BatchNorm2d(64, eps=0.001, momentum=0.01, affine=True, track_running_stats=True)\n",
       "          )\n",
       "        )\n",
       "        (stochastic_depth): StochasticDepth(p=0.05128205128205128, mode=row)\n",
       "      )\n",
       "      (3): MBConv(\n",
       "        (block): Sequential(\n",
       "          (0): Conv2dNormActivation(\n",
       "            (0): Conv2d(64, 384, kernel_size=(1, 1), stride=(1, 1), bias=False)\n",
       "            (1): BatchNorm2d(384, eps=0.001, momentum=0.01, affine=True, track_running_stats=True)\n",
       "            (2): SiLU(inplace=True)\n",
       "          )\n",
       "          (1): Conv2dNormActivation(\n",
       "            (0): Conv2d(384, 384, kernel_size=(5, 5), stride=(1, 1), padding=(2, 2), groups=384, bias=False)\n",
       "            (1): BatchNorm2d(384, eps=0.001, momentum=0.01, affine=True, track_running_stats=True)\n",
       "            (2): SiLU(inplace=True)\n",
       "          )\n",
       "          (2): SqueezeExcitation(\n",
       "            (avgpool): AdaptiveAvgPool2d(output_size=1)\n",
       "            (fc1): Conv2d(384, 16, kernel_size=(1, 1), stride=(1, 1))\n",
       "            (fc2): Conv2d(16, 384, kernel_size=(1, 1), stride=(1, 1))\n",
       "            (activation): SiLU(inplace=True)\n",
       "            (scale_activation): Sigmoid()\n",
       "          )\n",
       "          (3): Conv2dNormActivation(\n",
       "            (0): Conv2d(384, 64, kernel_size=(1, 1), stride=(1, 1), bias=False)\n",
       "            (1): BatchNorm2d(64, eps=0.001, momentum=0.01, affine=True, track_running_stats=True)\n",
       "          )\n",
       "        )\n",
       "        (stochastic_depth): StochasticDepth(p=0.05641025641025642, mode=row)\n",
       "      )\n",
       "      (4): MBConv(\n",
       "        (block): Sequential(\n",
       "          (0): Conv2dNormActivation(\n",
       "            (0): Conv2d(64, 384, kernel_size=(1, 1), stride=(1, 1), bias=False)\n",
       "            (1): BatchNorm2d(384, eps=0.001, momentum=0.01, affine=True, track_running_stats=True)\n",
       "            (2): SiLU(inplace=True)\n",
       "          )\n",
       "          (1): Conv2dNormActivation(\n",
       "            (0): Conv2d(384, 384, kernel_size=(5, 5), stride=(1, 1), padding=(2, 2), groups=384, bias=False)\n",
       "            (1): BatchNorm2d(384, eps=0.001, momentum=0.01, affine=True, track_running_stats=True)\n",
       "            (2): SiLU(inplace=True)\n",
       "          )\n",
       "          (2): SqueezeExcitation(\n",
       "            (avgpool): AdaptiveAvgPool2d(output_size=1)\n",
       "            (fc1): Conv2d(384, 16, kernel_size=(1, 1), stride=(1, 1))\n",
       "            (fc2): Conv2d(16, 384, kernel_size=(1, 1), stride=(1, 1))\n",
       "            (activation): SiLU(inplace=True)\n",
       "            (scale_activation): Sigmoid()\n",
       "          )\n",
       "          (3): Conv2dNormActivation(\n",
       "            (0): Conv2d(384, 64, kernel_size=(1, 1), stride=(1, 1), bias=False)\n",
       "            (1): BatchNorm2d(64, eps=0.001, momentum=0.01, affine=True, track_running_stats=True)\n",
       "          )\n",
       "        )\n",
       "        (stochastic_depth): StochasticDepth(p=0.06153846153846155, mode=row)\n",
       "      )\n",
       "    )\n",
       "    (4): Sequential(\n",
       "      (0): MBConv(\n",
       "        (block): Sequential(\n",
       "          (0): Conv2dNormActivation(\n",
       "            (0): Conv2d(64, 384, kernel_size=(1, 1), stride=(1, 1), bias=False)\n",
       "            (1): BatchNorm2d(384, eps=0.001, momentum=0.01, affine=True, track_running_stats=True)\n",
       "            (2): SiLU(inplace=True)\n",
       "          )\n",
       "          (1): Conv2dNormActivation(\n",
       "            (0): Conv2d(384, 384, kernel_size=(3, 3), stride=(2, 2), padding=(1, 1), groups=384, bias=False)\n",
       "            (1): BatchNorm2d(384, eps=0.001, momentum=0.01, affine=True, track_running_stats=True)\n",
       "            (2): SiLU(inplace=True)\n",
       "          )\n",
       "          (2): SqueezeExcitation(\n",
       "            (avgpool): AdaptiveAvgPool2d(output_size=1)\n",
       "            (fc1): Conv2d(384, 16, kernel_size=(1, 1), stride=(1, 1))\n",
       "            (fc2): Conv2d(16, 384, kernel_size=(1, 1), stride=(1, 1))\n",
       "            (activation): SiLU(inplace=True)\n",
       "            (scale_activation): Sigmoid()\n",
       "          )\n",
       "          (3): Conv2dNormActivation(\n",
       "            (0): Conv2d(384, 128, kernel_size=(1, 1), stride=(1, 1), bias=False)\n",
       "            (1): BatchNorm2d(128, eps=0.001, momentum=0.01, affine=True, track_running_stats=True)\n",
       "          )\n",
       "        )\n",
       "        (stochastic_depth): StochasticDepth(p=0.06666666666666667, mode=row)\n",
       "      )\n",
       "      (1): MBConv(\n",
       "        (block): Sequential(\n",
       "          (0): Conv2dNormActivation(\n",
       "            (0): Conv2d(128, 768, kernel_size=(1, 1), stride=(1, 1), bias=False)\n",
       "            (1): BatchNorm2d(768, eps=0.001, momentum=0.01, affine=True, track_running_stats=True)\n",
       "            (2): SiLU(inplace=True)\n",
       "          )\n",
       "          (1): Conv2dNormActivation(\n",
       "            (0): Conv2d(768, 768, kernel_size=(3, 3), stride=(1, 1), padding=(1, 1), groups=768, bias=False)\n",
       "            (1): BatchNorm2d(768, eps=0.001, momentum=0.01, affine=True, track_running_stats=True)\n",
       "            (2): SiLU(inplace=True)\n",
       "          )\n",
       "          (2): SqueezeExcitation(\n",
       "            (avgpool): AdaptiveAvgPool2d(output_size=1)\n",
       "            (fc1): Conv2d(768, 32, kernel_size=(1, 1), stride=(1, 1))\n",
       "            (fc2): Conv2d(32, 768, kernel_size=(1, 1), stride=(1, 1))\n",
       "            (activation): SiLU(inplace=True)\n",
       "            (scale_activation): Sigmoid()\n",
       "          )\n",
       "          (3): Conv2dNormActivation(\n",
       "            (0): Conv2d(768, 128, kernel_size=(1, 1), stride=(1, 1), bias=False)\n",
       "            (1): BatchNorm2d(128, eps=0.001, momentum=0.01, affine=True, track_running_stats=True)\n",
       "          )\n",
       "        )\n",
       "        (stochastic_depth): StochasticDepth(p=0.0717948717948718, mode=row)\n",
       "      )\n",
       "      (2): MBConv(\n",
       "        (block): Sequential(\n",
       "          (0): Conv2dNormActivation(\n",
       "            (0): Conv2d(128, 768, kernel_size=(1, 1), stride=(1, 1), bias=False)\n",
       "            (1): BatchNorm2d(768, eps=0.001, momentum=0.01, affine=True, track_running_stats=True)\n",
       "            (2): SiLU(inplace=True)\n",
       "          )\n",
       "          (1): Conv2dNormActivation(\n",
       "            (0): Conv2d(768, 768, kernel_size=(3, 3), stride=(1, 1), padding=(1, 1), groups=768, bias=False)\n",
       "            (1): BatchNorm2d(768, eps=0.001, momentum=0.01, affine=True, track_running_stats=True)\n",
       "            (2): SiLU(inplace=True)\n",
       "          )\n",
       "          (2): SqueezeExcitation(\n",
       "            (avgpool): AdaptiveAvgPool2d(output_size=1)\n",
       "            (fc1): Conv2d(768, 32, kernel_size=(1, 1), stride=(1, 1))\n",
       "            (fc2): Conv2d(32, 768, kernel_size=(1, 1), stride=(1, 1))\n",
       "            (activation): SiLU(inplace=True)\n",
       "            (scale_activation): Sigmoid()\n",
       "          )\n",
       "          (3): Conv2dNormActivation(\n",
       "            (0): Conv2d(768, 128, kernel_size=(1, 1), stride=(1, 1), bias=False)\n",
       "            (1): BatchNorm2d(128, eps=0.001, momentum=0.01, affine=True, track_running_stats=True)\n",
       "          )\n",
       "        )\n",
       "        (stochastic_depth): StochasticDepth(p=0.07692307692307693, mode=row)\n",
       "      )\n",
       "      (3): MBConv(\n",
       "        (block): Sequential(\n",
       "          (0): Conv2dNormActivation(\n",
       "            (0): Conv2d(128, 768, kernel_size=(1, 1), stride=(1, 1), bias=False)\n",
       "            (1): BatchNorm2d(768, eps=0.001, momentum=0.01, affine=True, track_running_stats=True)\n",
       "            (2): SiLU(inplace=True)\n",
       "          )\n",
       "          (1): Conv2dNormActivation(\n",
       "            (0): Conv2d(768, 768, kernel_size=(3, 3), stride=(1, 1), padding=(1, 1), groups=768, bias=False)\n",
       "            (1): BatchNorm2d(768, eps=0.001, momentum=0.01, affine=True, track_running_stats=True)\n",
       "            (2): SiLU(inplace=True)\n",
       "          )\n",
       "          (2): SqueezeExcitation(\n",
       "            (avgpool): AdaptiveAvgPool2d(output_size=1)\n",
       "            (fc1): Conv2d(768, 32, kernel_size=(1, 1), stride=(1, 1))\n",
       "            (fc2): Conv2d(32, 768, kernel_size=(1, 1), stride=(1, 1))\n",
       "            (activation): SiLU(inplace=True)\n",
       "            (scale_activation): Sigmoid()\n",
       "          )\n",
       "          (3): Conv2dNormActivation(\n",
       "            (0): Conv2d(768, 128, kernel_size=(1, 1), stride=(1, 1), bias=False)\n",
       "            (1): BatchNorm2d(128, eps=0.001, momentum=0.01, affine=True, track_running_stats=True)\n",
       "          )\n",
       "        )\n",
       "        (stochastic_depth): StochasticDepth(p=0.08205128205128205, mode=row)\n",
       "      )\n",
       "      (4): MBConv(\n",
       "        (block): Sequential(\n",
       "          (0): Conv2dNormActivation(\n",
       "            (0): Conv2d(128, 768, kernel_size=(1, 1), stride=(1, 1), bias=False)\n",
       "            (1): BatchNorm2d(768, eps=0.001, momentum=0.01, affine=True, track_running_stats=True)\n",
       "            (2): SiLU(inplace=True)\n",
       "          )\n",
       "          (1): Conv2dNormActivation(\n",
       "            (0): Conv2d(768, 768, kernel_size=(3, 3), stride=(1, 1), padding=(1, 1), groups=768, bias=False)\n",
       "            (1): BatchNorm2d(768, eps=0.001, momentum=0.01, affine=True, track_running_stats=True)\n",
       "            (2): SiLU(inplace=True)\n",
       "          )\n",
       "          (2): SqueezeExcitation(\n",
       "            (avgpool): AdaptiveAvgPool2d(output_size=1)\n",
       "            (fc1): Conv2d(768, 32, kernel_size=(1, 1), stride=(1, 1))\n",
       "            (fc2): Conv2d(32, 768, kernel_size=(1, 1), stride=(1, 1))\n",
       "            (activation): SiLU(inplace=True)\n",
       "            (scale_activation): Sigmoid()\n",
       "          )\n",
       "          (3): Conv2dNormActivation(\n",
       "            (0): Conv2d(768, 128, kernel_size=(1, 1), stride=(1, 1), bias=False)\n",
       "            (1): BatchNorm2d(128, eps=0.001, momentum=0.01, affine=True, track_running_stats=True)\n",
       "          )\n",
       "        )\n",
       "        (stochastic_depth): StochasticDepth(p=0.08717948717948719, mode=row)\n",
       "      )\n",
       "      (5): MBConv(\n",
       "        (block): Sequential(\n",
       "          (0): Conv2dNormActivation(\n",
       "            (0): Conv2d(128, 768, kernel_size=(1, 1), stride=(1, 1), bias=False)\n",
       "            (1): BatchNorm2d(768, eps=0.001, momentum=0.01, affine=True, track_running_stats=True)\n",
       "            (2): SiLU(inplace=True)\n",
       "          )\n",
       "          (1): Conv2dNormActivation(\n",
       "            (0): Conv2d(768, 768, kernel_size=(3, 3), stride=(1, 1), padding=(1, 1), groups=768, bias=False)\n",
       "            (1): BatchNorm2d(768, eps=0.001, momentum=0.01, affine=True, track_running_stats=True)\n",
       "            (2): SiLU(inplace=True)\n",
       "          )\n",
       "          (2): SqueezeExcitation(\n",
       "            (avgpool): AdaptiveAvgPool2d(output_size=1)\n",
       "            (fc1): Conv2d(768, 32, kernel_size=(1, 1), stride=(1, 1))\n",
       "            (fc2): Conv2d(32, 768, kernel_size=(1, 1), stride=(1, 1))\n",
       "            (activation): SiLU(inplace=True)\n",
       "            (scale_activation): Sigmoid()\n",
       "          )\n",
       "          (3): Conv2dNormActivation(\n",
       "            (0): Conv2d(768, 128, kernel_size=(1, 1), stride=(1, 1), bias=False)\n",
       "            (1): BatchNorm2d(128, eps=0.001, momentum=0.01, affine=True, track_running_stats=True)\n",
       "          )\n",
       "        )\n",
       "        (stochastic_depth): StochasticDepth(p=0.09230769230769231, mode=row)\n",
       "      )\n",
       "      (6): MBConv(\n",
       "        (block): Sequential(\n",
       "          (0): Conv2dNormActivation(\n",
       "            (0): Conv2d(128, 768, kernel_size=(1, 1), stride=(1, 1), bias=False)\n",
       "            (1): BatchNorm2d(768, eps=0.001, momentum=0.01, affine=True, track_running_stats=True)\n",
       "            (2): SiLU(inplace=True)\n",
       "          )\n",
       "          (1): Conv2dNormActivation(\n",
       "            (0): Conv2d(768, 768, kernel_size=(3, 3), stride=(1, 1), padding=(1, 1), groups=768, bias=False)\n",
       "            (1): BatchNorm2d(768, eps=0.001, momentum=0.01, affine=True, track_running_stats=True)\n",
       "            (2): SiLU(inplace=True)\n",
       "          )\n",
       "          (2): SqueezeExcitation(\n",
       "            (avgpool): AdaptiveAvgPool2d(output_size=1)\n",
       "            (fc1): Conv2d(768, 32, kernel_size=(1, 1), stride=(1, 1))\n",
       "            (fc2): Conv2d(32, 768, kernel_size=(1, 1), stride=(1, 1))\n",
       "            (activation): SiLU(inplace=True)\n",
       "            (scale_activation): Sigmoid()\n",
       "          )\n",
       "          (3): Conv2dNormActivation(\n",
       "            (0): Conv2d(768, 128, kernel_size=(1, 1), stride=(1, 1), bias=False)\n",
       "            (1): BatchNorm2d(128, eps=0.001, momentum=0.01, affine=True, track_running_stats=True)\n",
       "          )\n",
       "        )\n",
       "        (stochastic_depth): StochasticDepth(p=0.09743589743589744, mode=row)\n",
       "      )\n",
       "    )\n",
       "    (5): Sequential(\n",
       "      (0): MBConv(\n",
       "        (block): Sequential(\n",
       "          (0): Conv2dNormActivation(\n",
       "            (0): Conv2d(128, 768, kernel_size=(1, 1), stride=(1, 1), bias=False)\n",
       "            (1): BatchNorm2d(768, eps=0.001, momentum=0.01, affine=True, track_running_stats=True)\n",
       "            (2): SiLU(inplace=True)\n",
       "          )\n",
       "          (1): Conv2dNormActivation(\n",
       "            (0): Conv2d(768, 768, kernel_size=(5, 5), stride=(1, 1), padding=(2, 2), groups=768, bias=False)\n",
       "            (1): BatchNorm2d(768, eps=0.001, momentum=0.01, affine=True, track_running_stats=True)\n",
       "            (2): SiLU(inplace=True)\n",
       "          )\n",
       "          (2): SqueezeExcitation(\n",
       "            (avgpool): AdaptiveAvgPool2d(output_size=1)\n",
       "            (fc1): Conv2d(768, 32, kernel_size=(1, 1), stride=(1, 1))\n",
       "            (fc2): Conv2d(32, 768, kernel_size=(1, 1), stride=(1, 1))\n",
       "            (activation): SiLU(inplace=True)\n",
       "            (scale_activation): Sigmoid()\n",
       "          )\n",
       "          (3): Conv2dNormActivation(\n",
       "            (0): Conv2d(768, 176, kernel_size=(1, 1), stride=(1, 1), bias=False)\n",
       "            (1): BatchNorm2d(176, eps=0.001, momentum=0.01, affine=True, track_running_stats=True)\n",
       "          )\n",
       "        )\n",
       "        (stochastic_depth): StochasticDepth(p=0.10256410256410256, mode=row)\n",
       "      )\n",
       "      (1): MBConv(\n",
       "        (block): Sequential(\n",
       "          (0): Conv2dNormActivation(\n",
       "            (0): Conv2d(176, 1056, kernel_size=(1, 1), stride=(1, 1), bias=False)\n",
       "            (1): BatchNorm2d(1056, eps=0.001, momentum=0.01, affine=True, track_running_stats=True)\n",
       "            (2): SiLU(inplace=True)\n",
       "          )\n",
       "          (1): Conv2dNormActivation(\n",
       "            (0): Conv2d(1056, 1056, kernel_size=(5, 5), stride=(1, 1), padding=(2, 2), groups=1056, bias=False)\n",
       "            (1): BatchNorm2d(1056, eps=0.001, momentum=0.01, affine=True, track_running_stats=True)\n",
       "            (2): SiLU(inplace=True)\n",
       "          )\n",
       "          (2): SqueezeExcitation(\n",
       "            (avgpool): AdaptiveAvgPool2d(output_size=1)\n",
       "            (fc1): Conv2d(1056, 44, kernel_size=(1, 1), stride=(1, 1))\n",
       "            (fc2): Conv2d(44, 1056, kernel_size=(1, 1), stride=(1, 1))\n",
       "            (activation): SiLU(inplace=True)\n",
       "            (scale_activation): Sigmoid()\n",
       "          )\n",
       "          (3): Conv2dNormActivation(\n",
       "            (0): Conv2d(1056, 176, kernel_size=(1, 1), stride=(1, 1), bias=False)\n",
       "            (1): BatchNorm2d(176, eps=0.001, momentum=0.01, affine=True, track_running_stats=True)\n",
       "          )\n",
       "        )\n",
       "        (stochastic_depth): StochasticDepth(p=0.1076923076923077, mode=row)\n",
       "      )\n",
       "      (2): MBConv(\n",
       "        (block): Sequential(\n",
       "          (0): Conv2dNormActivation(\n",
       "            (0): Conv2d(176, 1056, kernel_size=(1, 1), stride=(1, 1), bias=False)\n",
       "            (1): BatchNorm2d(1056, eps=0.001, momentum=0.01, affine=True, track_running_stats=True)\n",
       "            (2): SiLU(inplace=True)\n",
       "          )\n",
       "          (1): Conv2dNormActivation(\n",
       "            (0): Conv2d(1056, 1056, kernel_size=(5, 5), stride=(1, 1), padding=(2, 2), groups=1056, bias=False)\n",
       "            (1): BatchNorm2d(1056, eps=0.001, momentum=0.01, affine=True, track_running_stats=True)\n",
       "            (2): SiLU(inplace=True)\n",
       "          )\n",
       "          (2): SqueezeExcitation(\n",
       "            (avgpool): AdaptiveAvgPool2d(output_size=1)\n",
       "            (fc1): Conv2d(1056, 44, kernel_size=(1, 1), stride=(1, 1))\n",
       "            (fc2): Conv2d(44, 1056, kernel_size=(1, 1), stride=(1, 1))\n",
       "            (activation): SiLU(inplace=True)\n",
       "            (scale_activation): Sigmoid()\n",
       "          )\n",
       "          (3): Conv2dNormActivation(\n",
       "            (0): Conv2d(1056, 176, kernel_size=(1, 1), stride=(1, 1), bias=False)\n",
       "            (1): BatchNorm2d(176, eps=0.001, momentum=0.01, affine=True, track_running_stats=True)\n",
       "          )\n",
       "        )\n",
       "        (stochastic_depth): StochasticDepth(p=0.11282051282051284, mode=row)\n",
       "      )\n",
       "      (3): MBConv(\n",
       "        (block): Sequential(\n",
       "          (0): Conv2dNormActivation(\n",
       "            (0): Conv2d(176, 1056, kernel_size=(1, 1), stride=(1, 1), bias=False)\n",
       "            (1): BatchNorm2d(1056, eps=0.001, momentum=0.01, affine=True, track_running_stats=True)\n",
       "            (2): SiLU(inplace=True)\n",
       "          )\n",
       "          (1): Conv2dNormActivation(\n",
       "            (0): Conv2d(1056, 1056, kernel_size=(5, 5), stride=(1, 1), padding=(2, 2), groups=1056, bias=False)\n",
       "            (1): BatchNorm2d(1056, eps=0.001, momentum=0.01, affine=True, track_running_stats=True)\n",
       "            (2): SiLU(inplace=True)\n",
       "          )\n",
       "          (2): SqueezeExcitation(\n",
       "            (avgpool): AdaptiveAvgPool2d(output_size=1)\n",
       "            (fc1): Conv2d(1056, 44, kernel_size=(1, 1), stride=(1, 1))\n",
       "            (fc2): Conv2d(44, 1056, kernel_size=(1, 1), stride=(1, 1))\n",
       "            (activation): SiLU(inplace=True)\n",
       "            (scale_activation): Sigmoid()\n",
       "          )\n",
       "          (3): Conv2dNormActivation(\n",
       "            (0): Conv2d(1056, 176, kernel_size=(1, 1), stride=(1, 1), bias=False)\n",
       "            (1): BatchNorm2d(176, eps=0.001, momentum=0.01, affine=True, track_running_stats=True)\n",
       "          )\n",
       "        )\n",
       "        (stochastic_depth): StochasticDepth(p=0.11794871794871796, mode=row)\n",
       "      )\n",
       "      (4): MBConv(\n",
       "        (block): Sequential(\n",
       "          (0): Conv2dNormActivation(\n",
       "            (0): Conv2d(176, 1056, kernel_size=(1, 1), stride=(1, 1), bias=False)\n",
       "            (1): BatchNorm2d(1056, eps=0.001, momentum=0.01, affine=True, track_running_stats=True)\n",
       "            (2): SiLU(inplace=True)\n",
       "          )\n",
       "          (1): Conv2dNormActivation(\n",
       "            (0): Conv2d(1056, 1056, kernel_size=(5, 5), stride=(1, 1), padding=(2, 2), groups=1056, bias=False)\n",
       "            (1): BatchNorm2d(1056, eps=0.001, momentum=0.01, affine=True, track_running_stats=True)\n",
       "            (2): SiLU(inplace=True)\n",
       "          )\n",
       "          (2): SqueezeExcitation(\n",
       "            (avgpool): AdaptiveAvgPool2d(output_size=1)\n",
       "            (fc1): Conv2d(1056, 44, kernel_size=(1, 1), stride=(1, 1))\n",
       "            (fc2): Conv2d(44, 1056, kernel_size=(1, 1), stride=(1, 1))\n",
       "            (activation): SiLU(inplace=True)\n",
       "            (scale_activation): Sigmoid()\n",
       "          )\n",
       "          (3): Conv2dNormActivation(\n",
       "            (0): Conv2d(1056, 176, kernel_size=(1, 1), stride=(1, 1), bias=False)\n",
       "            (1): BatchNorm2d(176, eps=0.001, momentum=0.01, affine=True, track_running_stats=True)\n",
       "          )\n",
       "        )\n",
       "        (stochastic_depth): StochasticDepth(p=0.1230769230769231, mode=row)\n",
       "      )\n",
       "      (5): MBConv(\n",
       "        (block): Sequential(\n",
       "          (0): Conv2dNormActivation(\n",
       "            (0): Conv2d(176, 1056, kernel_size=(1, 1), stride=(1, 1), bias=False)\n",
       "            (1): BatchNorm2d(1056, eps=0.001, momentum=0.01, affine=True, track_running_stats=True)\n",
       "            (2): SiLU(inplace=True)\n",
       "          )\n",
       "          (1): Conv2dNormActivation(\n",
       "            (0): Conv2d(1056, 1056, kernel_size=(5, 5), stride=(1, 1), padding=(2, 2), groups=1056, bias=False)\n",
       "            (1): BatchNorm2d(1056, eps=0.001, momentum=0.01, affine=True, track_running_stats=True)\n",
       "            (2): SiLU(inplace=True)\n",
       "          )\n",
       "          (2): SqueezeExcitation(\n",
       "            (avgpool): AdaptiveAvgPool2d(output_size=1)\n",
       "            (fc1): Conv2d(1056, 44, kernel_size=(1, 1), stride=(1, 1))\n",
       "            (fc2): Conv2d(44, 1056, kernel_size=(1, 1), stride=(1, 1))\n",
       "            (activation): SiLU(inplace=True)\n",
       "            (scale_activation): Sigmoid()\n",
       "          )\n",
       "          (3): Conv2dNormActivation(\n",
       "            (0): Conv2d(1056, 176, kernel_size=(1, 1), stride=(1, 1), bias=False)\n",
       "            (1): BatchNorm2d(176, eps=0.001, momentum=0.01, affine=True, track_running_stats=True)\n",
       "          )\n",
       "        )\n",
       "        (stochastic_depth): StochasticDepth(p=0.1282051282051282, mode=row)\n",
       "      )\n",
       "      (6): MBConv(\n",
       "        (block): Sequential(\n",
       "          (0): Conv2dNormActivation(\n",
       "            (0): Conv2d(176, 1056, kernel_size=(1, 1), stride=(1, 1), bias=False)\n",
       "            (1): BatchNorm2d(1056, eps=0.001, momentum=0.01, affine=True, track_running_stats=True)\n",
       "            (2): SiLU(inplace=True)\n",
       "          )\n",
       "          (1): Conv2dNormActivation(\n",
       "            (0): Conv2d(1056, 1056, kernel_size=(5, 5), stride=(1, 1), padding=(2, 2), groups=1056, bias=False)\n",
       "            (1): BatchNorm2d(1056, eps=0.001, momentum=0.01, affine=True, track_running_stats=True)\n",
       "            (2): SiLU(inplace=True)\n",
       "          )\n",
       "          (2): SqueezeExcitation(\n",
       "            (avgpool): AdaptiveAvgPool2d(output_size=1)\n",
       "            (fc1): Conv2d(1056, 44, kernel_size=(1, 1), stride=(1, 1))\n",
       "            (fc2): Conv2d(44, 1056, kernel_size=(1, 1), stride=(1, 1))\n",
       "            (activation): SiLU(inplace=True)\n",
       "            (scale_activation): Sigmoid()\n",
       "          )\n",
       "          (3): Conv2dNormActivation(\n",
       "            (0): Conv2d(1056, 176, kernel_size=(1, 1), stride=(1, 1), bias=False)\n",
       "            (1): BatchNorm2d(176, eps=0.001, momentum=0.01, affine=True, track_running_stats=True)\n",
       "          )\n",
       "        )\n",
       "        (stochastic_depth): StochasticDepth(p=0.13333333333333333, mode=row)\n",
       "      )\n",
       "    )\n",
       "    (6): Conv2d(176, 256, kernel_size=(3, 6), stride=(1, 1), padding=(1, 1))\n",
       "    (7): BatchNorm2d(256, eps=1e-05, momentum=0.1, affine=True, track_running_stats=True)\n",
       "    (8): ReLU(inplace=True)\n",
       "  )\n",
       "  (linear1): Linear(in_features=1024, out_features=256, bias=True)\n",
       "  (rnn): RNN(256, 256, batch_first=True, bidirectional=True)\n",
       "  (linear2): Linear(in_features=512, out_features=2350, bias=True)\n",
       "  (lstm): LSTM(256, 256, batch_first=True, bidirectional=True)\n",
       "  (gru): GRU(256, 256, batch_first=True, bidirectional=True)\n",
       ")"
      ]
     },
     "execution_count": 326,
     "metadata": {},
     "output_type": "execute_result"
    }
   ],
   "source": [
    "RecognitionModel_eff_test = RecognitionModel_eff()\n",
    "RecognitionModel_eff_test.cuda()\n",
    "#summary_(RecognitionModel_eff_test,(3,64,224))\n",
    "#RecognitionModel_eff_test.state_dict().keys()"
   ]
  },
  {
   "cell_type": "code",
   "execution_count": 327,
   "id": "6b5b39b6",
   "metadata": {},
   "outputs": [],
   "source": [
    "# RecognitionModel_test = RecognitionModel()\n",
    "# RecognitionModel_test.cuda()\n",
    "# summary_(RecognitionModel_test,(3,64,224))"
   ]
  },
  {
   "cell_type": "code",
   "execution_count": 328,
   "id": "f1125bf0",
   "metadata": {},
   "outputs": [],
   "source": [
    "# class RecognitionModel(nn.Module):\n",
    "#     def __init__(self, num_chars=len(char2idx), rnn_hidden_size=256):\n",
    "#         super(RecognitionModel, self).__init__()\n",
    "#         self.num_chars = num_chars\n",
    "#         self.rnn_hidden_size = rnn_hidden_size\n",
    "        \n",
    "#         # CNN Backbone = 사전학습된 resnet18 활용\n",
    "#         # https://arxiv.org/abs/1512.03385\n",
    "#         resnet = resnet18(pretrained=True)\n",
    "#         # CNN Feature Extract\n",
    "#         resnet_modules = list(resnet.children())[:-3]\n",
    "#         self.feature_extract = nn.Sequential(\n",
    "#             *resnet_modules,\n",
    "#             nn.Conv2d(256, 256, kernel_size=(3,6), stride=1, padding=1),\n",
    "#             nn.BatchNorm2d(256),\n",
    "#             nn.ReLU(inplace=True)\n",
    "#         )\n",
    "\n",
    "#         self.linear1 = nn.Linear(1024, rnn_hidden_size)\n",
    "        \n",
    "#         # RNN\n",
    "#         self.rnn = nn.RNN(input_size=rnn_hidden_size, \n",
    "#                             hidden_size=rnn_hidden_size,\n",
    "#                             bidirectional=True, \n",
    "#                             batch_first=True)\n",
    "#         self.linear2 = nn.Linear(self.rnn_hidden_size*2, num_chars)\n",
    "        \n",
    "        \n",
    "#     def forward(self, x):\n",
    "#         # CNN\n",
    "#         x = self.feature_extract(x) # [batch_size, channels, height, width]\n",
    "#         x = x.permute(0, 3, 1, 2) # [batch_size, width, channels, height]\n",
    "         \n",
    "#         batch_size = x.size(0)\n",
    "#         T = x.size(1)\n",
    "#         x = x.view(batch_size, T, -1) # [batch_size, T==width, num_features==channels*height]\n",
    "#         x = self.linear1(x)\n",
    "        \n",
    "#         # RNN\n",
    "#         x, hidden = self.rnn(x)\n",
    "        \n",
    "#         output = self.linear2(x)\n",
    "#         output = output.permute(1, 0, 2) # [T==10, batch_size, num_classes==num_features]\n",
    "        \n",
    "#         return output"
   ]
  },
  {
   "cell_type": "code",
   "execution_count": 329,
   "id": "662e30f7",
   "metadata": {},
   "outputs": [],
   "source": [
    "criterion = nn.CTCLoss(blank=0) # idx 0 : '-'"
   ]
  },
  {
   "cell_type": "code",
   "execution_count": 330,
   "id": "c037d5ae",
   "metadata": {},
   "outputs": [],
   "source": [
    "def encode_text_batch(text_batch):\n",
    "    text_batch_targets_lens = [len(text) for text in text_batch]\n",
    "    text_batch_targets_lens = torch.IntTensor(text_batch_targets_lens)\n",
    "    \n",
    "    text_batch_concat = \"\".join(text_batch)\n",
    "    text_batch_targets = [char2idx[c] for c in text_batch_concat]\n",
    "    text_batch_targets = torch.IntTensor(text_batch_targets)\n",
    "    \n",
    "    return text_batch_targets, text_batch_targets_lens"
   ]
  },
  {
   "cell_type": "code",
   "execution_count": 331,
   "id": "f65dfc25",
   "metadata": {},
   "outputs": [],
   "source": [
    "def compute_loss(text_batch, text_batch_logits):\n",
    "    \"\"\"\n",
    "    text_batch: list of strings of length equal to batch size\n",
    "    text_batch_logits: Tensor of size([T, batch_size, num_classes])\n",
    "    \"\"\"\n",
    "    text_batch_logps = F.log_softmax(text_batch_logits, 2) # [T, batch_size, num_classes]  \n",
    "    text_batch_logps_lens = torch.full(size=(text_batch_logps.size(1),), \n",
    "                                       fill_value=text_batch_logps.size(0), \n",
    "                                       dtype=torch.int32).to(device) # [batch_size] \n",
    "\n",
    "    text_batch_targets, text_batch_targets_lens = encode_text_batch(text_batch)\n",
    "    loss = criterion(text_batch_logps, text_batch_targets, text_batch_logps_lens, text_batch_targets_lens)\n",
    "\n",
    "    return loss"
   ]
  },
  {
   "cell_type": "code",
   "execution_count": 332,
   "id": "83f50492",
   "metadata": {},
   "outputs": [],
   "source": [
    "def train(model, optimizer, train_loader, val_loader, scheduler, device):\n",
    "    model.to(device)\n",
    "    \n",
    "    best_loss = 999999\n",
    "    best_model = None\n",
    "    for epoch in range(1, CFG['EPOCHS']+1):\n",
    "        model.train()\n",
    "        train_loss = []\n",
    "        for image_batch, text_batch in tqdm(iter(train_loader)):\n",
    "            image_batch = image_batch.to(device)\n",
    "            \n",
    "            optimizer.zero_grad()\n",
    "            \n",
    "            text_batch_logits = model(image_batch)\n",
    "            loss = compute_loss(text_batch, text_batch_logits)\n",
    "            \n",
    "            loss.backward()\n",
    "            optimizer.step()\n",
    "            \n",
    "            train_loss.append(loss.item())\n",
    "        \n",
    "        _train_loss = np.mean(train_loss)\n",
    "        \n",
    "        _val_loss = validation(model, val_loader, device)\n",
    "        print(f'Epoch : [{epoch}] Train CTC Loss : [{_train_loss:.5f}] Val CTC Loss : [{_val_loss:.5f}]')\n",
    "        \n",
    "        if scheduler is not None:\n",
    "            scheduler.step(_val_loss)\n",
    "        \n",
    "        if best_loss > _val_loss:\n",
    "            best_loss = _val_loss\n",
    "            best_model = model\n",
    "    \n",
    "    return best_model"
   ]
  },
  {
   "cell_type": "code",
   "execution_count": 333,
   "id": "c875ee7a",
   "metadata": {},
   "outputs": [],
   "source": [
    "def validation(model, val_loader, device):\n",
    "    model.eval()\n",
    "    val_loss = []\n",
    "    with torch.no_grad():\n",
    "        for image_batch, text_batch in tqdm(iter(val_loader)):\n",
    "            image_batch = image_batch.to(device)\n",
    "            \n",
    "            text_batch_logits = model(image_batch)\n",
    "            loss = compute_loss(text_batch, text_batch_logits)\n",
    "            \n",
    "            val_loss.append(loss.item())\n",
    "    \n",
    "    _val_loss = np.mean(val_loss)\n",
    "    return _val_loss"
   ]
  },
  {
   "cell_type": "code",
   "execution_count": 334,
   "id": "df5ec423",
   "metadata": {},
   "outputs": [],
   "source": [
    "import gc\n",
    "gc.collect()\n",
    "torch.cuda.empty_cache()"
   ]
  },
  {
   "cell_type": "code",
   "execution_count": 335,
   "id": "0f4e506d",
   "metadata": {
    "scrolled": true
   },
   "outputs": [
    {
     "data": {
      "application/vnd.jupyter.widget-view+json": {
       "model_id": "f7b43efed65f48e5ab6dbb9a140a4806",
       "version_major": 2,
       "version_minor": 0
      },
      "text/plain": [
       "  0%|          | 0/562 [00:00<?, ?it/s]"
      ]
     },
     "metadata": {},
     "output_type": "display_data"
    },
    {
     "data": {
      "application/vnd.jupyter.widget-view+json": {
       "model_id": "b19e6171c44140398e4115170d09e862",
       "version_major": 2,
       "version_minor": 0
      },
      "text/plain": [
       "  0%|          | 0/118 [00:00<?, ?it/s]"
      ]
     },
     "metadata": {},
     "output_type": "display_data"
    },
    {
     "name": "stdout",
     "output_type": "stream",
     "text": [
      "Epoch : [1] Train CTC Loss : [5.67722] Val CTC Loss : [3.97212]\n"
     ]
    },
    {
     "data": {
      "application/vnd.jupyter.widget-view+json": {
       "model_id": "cb9464facba144a082eeedabc28be192",
       "version_major": 2,
       "version_minor": 0
      },
      "text/plain": [
       "  0%|          | 0/562 [00:00<?, ?it/s]"
      ]
     },
     "metadata": {},
     "output_type": "display_data"
    },
    {
     "data": {
      "application/vnd.jupyter.widget-view+json": {
       "model_id": "37c96c0a6e0048b5bdc44d0d4e60b012",
       "version_major": 2,
       "version_minor": 0
      },
      "text/plain": [
       "  0%|          | 0/118 [00:00<?, ?it/s]"
      ]
     },
     "metadata": {},
     "output_type": "display_data"
    },
    {
     "name": "stdout",
     "output_type": "stream",
     "text": [
      "Epoch : [2] Train CTC Loss : [3.00999] Val CTC Loss : [1.98762]\n"
     ]
    },
    {
     "data": {
      "application/vnd.jupyter.widget-view+json": {
       "model_id": "78ba4f009cd74004b8baa27bc1928f6e",
       "version_major": 2,
       "version_minor": 0
      },
      "text/plain": [
       "  0%|          | 0/562 [00:00<?, ?it/s]"
      ]
     },
     "metadata": {},
     "output_type": "display_data"
    },
    {
     "data": {
      "application/vnd.jupyter.widget-view+json": {
       "model_id": "72abd8ff6aaa4f5ca804e88fe9e085d2",
       "version_major": 2,
       "version_minor": 0
      },
      "text/plain": [
       "  0%|          | 0/118 [00:00<?, ?it/s]"
      ]
     },
     "metadata": {},
     "output_type": "display_data"
    },
    {
     "name": "stdout",
     "output_type": "stream",
     "text": [
      "Epoch : [3] Train CTC Loss : [1.77758] Val CTC Loss : [1.56715]\n"
     ]
    },
    {
     "data": {
      "application/vnd.jupyter.widget-view+json": {
       "model_id": "6a660c49eed54bdb97371cc2d8ba8f5b",
       "version_major": 2,
       "version_minor": 0
      },
      "text/plain": [
       "  0%|          | 0/562 [00:00<?, ?it/s]"
      ]
     },
     "metadata": {},
     "output_type": "display_data"
    },
    {
     "data": {
      "application/vnd.jupyter.widget-view+json": {
       "model_id": "370f5c77ba52469fae03cbdf9f8bc1e6",
       "version_major": 2,
       "version_minor": 0
      },
      "text/plain": [
       "  0%|          | 0/118 [00:00<?, ?it/s]"
      ]
     },
     "metadata": {},
     "output_type": "display_data"
    },
    {
     "name": "stdout",
     "output_type": "stream",
     "text": [
      "Epoch : [4] Train CTC Loss : [1.40045] Val CTC Loss : [1.43715]\n"
     ]
    },
    {
     "data": {
      "application/vnd.jupyter.widget-view+json": {
       "model_id": "74008d0eb3f6402090ae2b2c1134ab23",
       "version_major": 2,
       "version_minor": 0
      },
      "text/plain": [
       "  0%|          | 0/562 [00:00<?, ?it/s]"
      ]
     },
     "metadata": {},
     "output_type": "display_data"
    },
    {
     "data": {
      "application/vnd.jupyter.widget-view+json": {
       "model_id": "0782ed063d8149ccb7d55de50cd160bd",
       "version_major": 2,
       "version_minor": 0
      },
      "text/plain": [
       "  0%|          | 0/118 [00:00<?, ?it/s]"
      ]
     },
     "metadata": {},
     "output_type": "display_data"
    },
    {
     "name": "stdout",
     "output_type": "stream",
     "text": [
      "Epoch : [5] Train CTC Loss : [1.23214] Val CTC Loss : [1.36885]\n"
     ]
    },
    {
     "data": {
      "application/vnd.jupyter.widget-view+json": {
       "model_id": "eb536db5436d490b85835e46ffd73076",
       "version_major": 2,
       "version_minor": 0
      },
      "text/plain": [
       "  0%|          | 0/562 [00:00<?, ?it/s]"
      ]
     },
     "metadata": {},
     "output_type": "display_data"
    },
    {
     "data": {
      "application/vnd.jupyter.widget-view+json": {
       "model_id": "9ec9ed7c3404451fb27d0efee114e564",
       "version_major": 2,
       "version_minor": 0
      },
      "text/plain": [
       "  0%|          | 0/118 [00:00<?, ?it/s]"
      ]
     },
     "metadata": {},
     "output_type": "display_data"
    },
    {
     "name": "stdout",
     "output_type": "stream",
     "text": [
      "Epoch : [6] Train CTC Loss : [1.14140] Val CTC Loss : [1.34958]\n"
     ]
    },
    {
     "data": {
      "application/vnd.jupyter.widget-view+json": {
       "model_id": "8d5125921081439682ed53ef414fb0b7",
       "version_major": 2,
       "version_minor": 0
      },
      "text/plain": [
       "  0%|          | 0/562 [00:00<?, ?it/s]"
      ]
     },
     "metadata": {},
     "output_type": "display_data"
    },
    {
     "data": {
      "application/vnd.jupyter.widget-view+json": {
       "model_id": "6f8b05437e7745e2a2c287a072aa78a8",
       "version_major": 2,
       "version_minor": 0
      },
      "text/plain": [
       "  0%|          | 0/118 [00:00<?, ?it/s]"
      ]
     },
     "metadata": {},
     "output_type": "display_data"
    },
    {
     "name": "stdout",
     "output_type": "stream",
     "text": [
      "Epoch : [7] Train CTC Loss : [1.08408] Val CTC Loss : [1.34210]\n"
     ]
    },
    {
     "data": {
      "application/vnd.jupyter.widget-view+json": {
       "model_id": "c25cb03545ac4aee9f95e5ffc33cd4bf",
       "version_major": 2,
       "version_minor": 0
      },
      "text/plain": [
       "  0%|          | 0/562 [00:00<?, ?it/s]"
      ]
     },
     "metadata": {},
     "output_type": "display_data"
    },
    {
     "data": {
      "application/vnd.jupyter.widget-view+json": {
       "model_id": "b951bc4f776a46efb7ed64b24d3c8c7c",
       "version_major": 2,
       "version_minor": 0
      },
      "text/plain": [
       "  0%|          | 0/118 [00:00<?, ?it/s]"
      ]
     },
     "metadata": {},
     "output_type": "display_data"
    },
    {
     "name": "stdout",
     "output_type": "stream",
     "text": [
      "Epoch : [8] Train CTC Loss : [1.05149] Val CTC Loss : [1.33329]\n"
     ]
    },
    {
     "data": {
      "application/vnd.jupyter.widget-view+json": {
       "model_id": "e7e2d2ca2c0346288b3f4e5dde786ea9",
       "version_major": 2,
       "version_minor": 0
      },
      "text/plain": [
       "  0%|          | 0/562 [00:00<?, ?it/s]"
      ]
     },
     "metadata": {},
     "output_type": "display_data"
    },
    {
     "data": {
      "application/vnd.jupyter.widget-view+json": {
       "model_id": "71c77c69ebbd4061ac16a0aabb6f93b5",
       "version_major": 2,
       "version_minor": 0
      },
      "text/plain": [
       "  0%|          | 0/118 [00:00<?, ?it/s]"
      ]
     },
     "metadata": {},
     "output_type": "display_data"
    },
    {
     "name": "stdout",
     "output_type": "stream",
     "text": [
      "Epoch : [9] Train CTC Loss : [1.02145] Val CTC Loss : [1.37366]\n"
     ]
    },
    {
     "data": {
      "application/vnd.jupyter.widget-view+json": {
       "model_id": "66b3c37adeb84cd18118e2abecf9acdb",
       "version_major": 2,
       "version_minor": 0
      },
      "text/plain": [
       "  0%|          | 0/562 [00:00<?, ?it/s]"
      ]
     },
     "metadata": {},
     "output_type": "display_data"
    },
    {
     "data": {
      "application/vnd.jupyter.widget-view+json": {
       "model_id": "69d1cd3014fc47978bb864c490966335",
       "version_major": 2,
       "version_minor": 0
      },
      "text/plain": [
       "  0%|          | 0/118 [00:00<?, ?it/s]"
      ]
     },
     "metadata": {},
     "output_type": "display_data"
    },
    {
     "name": "stdout",
     "output_type": "stream",
     "text": [
      "Epoch : [10] Train CTC Loss : [1.00117] Val CTC Loss : [1.33211]\n"
     ]
    },
    {
     "data": {
      "application/vnd.jupyter.widget-view+json": {
       "model_id": "a28599b8fe57402280c79036c5a16d87",
       "version_major": 2,
       "version_minor": 0
      },
      "text/plain": [
       "  0%|          | 0/562 [00:00<?, ?it/s]"
      ]
     },
     "metadata": {},
     "output_type": "display_data"
    },
    {
     "data": {
      "application/vnd.jupyter.widget-view+json": {
       "model_id": "116c5d8ba7f64fe5947aa31d51a894ef",
       "version_major": 2,
       "version_minor": 0
      },
      "text/plain": [
       "  0%|          | 0/118 [00:00<?, ?it/s]"
      ]
     },
     "metadata": {},
     "output_type": "display_data"
    },
    {
     "name": "stdout",
     "output_type": "stream",
     "text": [
      "Epoch : [11] Train CTC Loss : [0.97456] Val CTC Loss : [1.32656]\n"
     ]
    },
    {
     "data": {
      "application/vnd.jupyter.widget-view+json": {
       "model_id": "03a9154644ba4e9bb48d48bf906be2b2",
       "version_major": 2,
       "version_minor": 0
      },
      "text/plain": [
       "  0%|          | 0/562 [00:00<?, ?it/s]"
      ]
     },
     "metadata": {},
     "output_type": "display_data"
    },
    {
     "data": {
      "application/vnd.jupyter.widget-view+json": {
       "model_id": "c34a8f99a878499ebbcf34ce85dc5a02",
       "version_major": 2,
       "version_minor": 0
      },
      "text/plain": [
       "  0%|          | 0/118 [00:00<?, ?it/s]"
      ]
     },
     "metadata": {},
     "output_type": "display_data"
    },
    {
     "name": "stdout",
     "output_type": "stream",
     "text": [
      "Epoch : [12] Train CTC Loss : [0.95191] Val CTC Loss : [1.33998]\n"
     ]
    },
    {
     "data": {
      "application/vnd.jupyter.widget-view+json": {
       "model_id": "e7b5ca92e28e4c6293b5c03cda5e30cf",
       "version_major": 2,
       "version_minor": 0
      },
      "text/plain": [
       "  0%|          | 0/562 [00:00<?, ?it/s]"
      ]
     },
     "metadata": {},
     "output_type": "display_data"
    },
    {
     "data": {
      "application/vnd.jupyter.widget-view+json": {
       "model_id": "1c2a4b23aeff405a9e1f6273bc3f23fa",
       "version_major": 2,
       "version_minor": 0
      },
      "text/plain": [
       "  0%|          | 0/118 [00:00<?, ?it/s]"
      ]
     },
     "metadata": {},
     "output_type": "display_data"
    },
    {
     "name": "stdout",
     "output_type": "stream",
     "text": [
      "Epoch : [13] Train CTC Loss : [0.93331] Val CTC Loss : [1.34193]\n"
     ]
    },
    {
     "data": {
      "application/vnd.jupyter.widget-view+json": {
       "model_id": "e4d63b756c5f415d897c9ea2a4ff0764",
       "version_major": 2,
       "version_minor": 0
      },
      "text/plain": [
       "  0%|          | 0/562 [00:00<?, ?it/s]"
      ]
     },
     "metadata": {},
     "output_type": "display_data"
    },
    {
     "data": {
      "application/vnd.jupyter.widget-view+json": {
       "model_id": "be8cab0a217344d2af14f3aa5202c82b",
       "version_major": 2,
       "version_minor": 0
      },
      "text/plain": [
       "  0%|          | 0/118 [00:00<?, ?it/s]"
      ]
     },
     "metadata": {},
     "output_type": "display_data"
    },
    {
     "name": "stdout",
     "output_type": "stream",
     "text": [
      "Epoch : [14] Train CTC Loss : [0.91622] Val CTC Loss : [1.34313]\n",
      "Epoch 00014: reducing learning rate of group 0 to 5.0000e-04.\n"
     ]
    },
    {
     "data": {
      "application/vnd.jupyter.widget-view+json": {
       "model_id": "5c2ad16309094eb2bf5907a9fe08935e",
       "version_major": 2,
       "version_minor": 0
      },
      "text/plain": [
       "  0%|          | 0/562 [00:00<?, ?it/s]"
      ]
     },
     "metadata": {},
     "output_type": "display_data"
    },
    {
     "data": {
      "application/vnd.jupyter.widget-view+json": {
       "model_id": "b0d96dced59941f6b8f3f64cedf4578e",
       "version_major": 2,
       "version_minor": 0
      },
      "text/plain": [
       "  0%|          | 0/118 [00:00<?, ?it/s]"
      ]
     },
     "metadata": {},
     "output_type": "display_data"
    },
    {
     "name": "stdout",
     "output_type": "stream",
     "text": [
      "Epoch : [15] Train CTC Loss : [0.84241] Val CTC Loss : [1.32987]\n"
     ]
    },
    {
     "data": {
      "application/vnd.jupyter.widget-view+json": {
       "model_id": "b19880dedb69427e98e91da9565f6ec5",
       "version_major": 2,
       "version_minor": 0
      },
      "text/plain": [
       "  0%|          | 0/562 [00:00<?, ?it/s]"
      ]
     },
     "metadata": {},
     "output_type": "display_data"
    },
    {
     "data": {
      "application/vnd.jupyter.widget-view+json": {
       "model_id": "3aec16820f9c4770b5e84e3c496070be",
       "version_major": 2,
       "version_minor": 0
      },
      "text/plain": [
       "  0%|          | 0/118 [00:00<?, ?it/s]"
      ]
     },
     "metadata": {},
     "output_type": "display_data"
    },
    {
     "name": "stdout",
     "output_type": "stream",
     "text": [
      "Epoch : [16] Train CTC Loss : [0.81770] Val CTC Loss : [1.32200]\n"
     ]
    },
    {
     "data": {
      "application/vnd.jupyter.widget-view+json": {
       "model_id": "3344bb08829b432a82db1de8a09e37a7",
       "version_major": 2,
       "version_minor": 0
      },
      "text/plain": [
       "  0%|          | 0/562 [00:00<?, ?it/s]"
      ]
     },
     "metadata": {},
     "output_type": "display_data"
    },
    {
     "data": {
      "application/vnd.jupyter.widget-view+json": {
       "model_id": "718c5c39efb44bee9ddce20cbc9592d8",
       "version_major": 2,
       "version_minor": 0
      },
      "text/plain": [
       "  0%|          | 0/118 [00:00<?, ?it/s]"
      ]
     },
     "metadata": {},
     "output_type": "display_data"
    },
    {
     "name": "stdout",
     "output_type": "stream",
     "text": [
      "Epoch : [17] Train CTC Loss : [0.80247] Val CTC Loss : [1.33684]\n"
     ]
    },
    {
     "data": {
      "application/vnd.jupyter.widget-view+json": {
       "model_id": "66b5c06243e24e3aa044f9869bcf3236",
       "version_major": 2,
       "version_minor": 0
      },
      "text/plain": [
       "  0%|          | 0/562 [00:00<?, ?it/s]"
      ]
     },
     "metadata": {},
     "output_type": "display_data"
    },
    {
     "data": {
      "application/vnd.jupyter.widget-view+json": {
       "model_id": "74acac0342c04430b86134f008cd1a7f",
       "version_major": 2,
       "version_minor": 0
      },
      "text/plain": [
       "  0%|          | 0/118 [00:00<?, ?it/s]"
      ]
     },
     "metadata": {},
     "output_type": "display_data"
    },
    {
     "name": "stdout",
     "output_type": "stream",
     "text": [
      "Epoch : [18] Train CTC Loss : [0.79018] Val CTC Loss : [1.34511]\n"
     ]
    },
    {
     "data": {
      "application/vnd.jupyter.widget-view+json": {
       "model_id": "0294fe2e000b43c280a216ca32725a2b",
       "version_major": 2,
       "version_minor": 0
      },
      "text/plain": [
       "  0%|          | 0/562 [00:00<?, ?it/s]"
      ]
     },
     "metadata": {},
     "output_type": "display_data"
    },
    {
     "data": {
      "application/vnd.jupyter.widget-view+json": {
       "model_id": "ed3806918b1b4a9da72265f0922744b6",
       "version_major": 2,
       "version_minor": 0
      },
      "text/plain": [
       "  0%|          | 0/118 [00:00<?, ?it/s]"
      ]
     },
     "metadata": {},
     "output_type": "display_data"
    },
    {
     "name": "stdout",
     "output_type": "stream",
     "text": [
      "Epoch : [19] Train CTC Loss : [0.77698] Val CTC Loss : [1.37434]\n",
      "Epoch 00019: reducing learning rate of group 0 to 2.5000e-04.\n"
     ]
    },
    {
     "data": {
      "application/vnd.jupyter.widget-view+json": {
       "model_id": "84ba38da59bc423ab6fddb0dda47a083",
       "version_major": 2,
       "version_minor": 0
      },
      "text/plain": [
       "  0%|          | 0/562 [00:00<?, ?it/s]"
      ]
     },
     "metadata": {},
     "output_type": "display_data"
    },
    {
     "data": {
      "application/vnd.jupyter.widget-view+json": {
       "model_id": "8212f9a39f88419ca129d98b64787cbf",
       "version_major": 2,
       "version_minor": 0
      },
      "text/plain": [
       "  0%|          | 0/118 [00:00<?, ?it/s]"
      ]
     },
     "metadata": {},
     "output_type": "display_data"
    },
    {
     "name": "stdout",
     "output_type": "stream",
     "text": [
      "Epoch : [20] Train CTC Loss : [0.73368] Val CTC Loss : [1.37912]\n"
     ]
    },
    {
     "data": {
      "application/vnd.jupyter.widget-view+json": {
       "model_id": "2f1b7dfd14f4478584ec1d8a0b21ffc2",
       "version_major": 2,
       "version_minor": 0
      },
      "text/plain": [
       "  0%|          | 0/562 [00:00<?, ?it/s]"
      ]
     },
     "metadata": {},
     "output_type": "display_data"
    },
    {
     "data": {
      "application/vnd.jupyter.widget-view+json": {
       "model_id": "b5f3c1326b264f46974760cb8829ee7c",
       "version_major": 2,
       "version_minor": 0
      },
      "text/plain": [
       "  0%|          | 0/118 [00:00<?, ?it/s]"
      ]
     },
     "metadata": {},
     "output_type": "display_data"
    },
    {
     "name": "stdout",
     "output_type": "stream",
     "text": [
      "Epoch : [21] Train CTC Loss : [0.71610] Val CTC Loss : [1.39948]\n"
     ]
    },
    {
     "data": {
      "application/vnd.jupyter.widget-view+json": {
       "model_id": "f4b0b421283a464c8fc98739fb91b4bc",
       "version_major": 2,
       "version_minor": 0
      },
      "text/plain": [
       "  0%|          | 0/562 [00:00<?, ?it/s]"
      ]
     },
     "metadata": {},
     "output_type": "display_data"
    },
    {
     "data": {
      "application/vnd.jupyter.widget-view+json": {
       "model_id": "77cc4c69c0a14ac09a70178d56d0e46f",
       "version_major": 2,
       "version_minor": 0
      },
      "text/plain": [
       "  0%|          | 0/118 [00:00<?, ?it/s]"
      ]
     },
     "metadata": {},
     "output_type": "display_data"
    },
    {
     "name": "stdout",
     "output_type": "stream",
     "text": [
      "Epoch : [22] Train CTC Loss : [0.70371] Val CTC Loss : [1.40574]\n",
      "Epoch 00022: reducing learning rate of group 0 to 1.2500e-04.\n"
     ]
    },
    {
     "data": {
      "application/vnd.jupyter.widget-view+json": {
       "model_id": "31d03774b2f646b79d49394443d3c749",
       "version_major": 2,
       "version_minor": 0
      },
      "text/plain": [
       "  0%|          | 0/562 [00:00<?, ?it/s]"
      ]
     },
     "metadata": {},
     "output_type": "display_data"
    },
    {
     "data": {
      "application/vnd.jupyter.widget-view+json": {
       "model_id": "cdf3fa1019cd4611b5b415de3c40e45e",
       "version_major": 2,
       "version_minor": 0
      },
      "text/plain": [
       "  0%|          | 0/118 [00:00<?, ?it/s]"
      ]
     },
     "metadata": {},
     "output_type": "display_data"
    },
    {
     "name": "stdout",
     "output_type": "stream",
     "text": [
      "Epoch : [23] Train CTC Loss : [0.67588] Val CTC Loss : [1.42399]\n"
     ]
    },
    {
     "data": {
      "application/vnd.jupyter.widget-view+json": {
       "model_id": "b45f9f91dfe54e39b377060cdc1d90fa",
       "version_major": 2,
       "version_minor": 0
      },
      "text/plain": [
       "  0%|          | 0/562 [00:00<?, ?it/s]"
      ]
     },
     "metadata": {},
     "output_type": "display_data"
    },
    {
     "data": {
      "application/vnd.jupyter.widget-view+json": {
       "model_id": "0c7095283d5e4d8eae29e8ec28e6b21a",
       "version_major": 2,
       "version_minor": 0
      },
      "text/plain": [
       "  0%|          | 0/118 [00:00<?, ?it/s]"
      ]
     },
     "metadata": {},
     "output_type": "display_data"
    },
    {
     "name": "stdout",
     "output_type": "stream",
     "text": [
      "Epoch : [24] Train CTC Loss : [0.66517] Val CTC Loss : [1.44479]\n"
     ]
    },
    {
     "data": {
      "application/vnd.jupyter.widget-view+json": {
       "model_id": "40401ad7fd174c8497ccc46afaf0ff78",
       "version_major": 2,
       "version_minor": 0
      },
      "text/plain": [
       "  0%|          | 0/562 [00:00<?, ?it/s]"
      ]
     },
     "metadata": {},
     "output_type": "display_data"
    },
    {
     "data": {
      "application/vnd.jupyter.widget-view+json": {
       "model_id": "9d2a8d0140c84af69f3ab491392f6324",
       "version_major": 2,
       "version_minor": 0
      },
      "text/plain": [
       "  0%|          | 0/118 [00:00<?, ?it/s]"
      ]
     },
     "metadata": {},
     "output_type": "display_data"
    },
    {
     "name": "stdout",
     "output_type": "stream",
     "text": [
      "Epoch : [25] Train CTC Loss : [0.65809] Val CTC Loss : [1.45226]\n",
      "Epoch 00025: reducing learning rate of group 0 to 6.2500e-05.\n"
     ]
    },
    {
     "data": {
      "application/vnd.jupyter.widget-view+json": {
       "model_id": "deabcc3b040d4330aac128e20331a2c1",
       "version_major": 2,
       "version_minor": 0
      },
      "text/plain": [
       "  0%|          | 0/562 [00:00<?, ?it/s]"
      ]
     },
     "metadata": {},
     "output_type": "display_data"
    },
    {
     "data": {
      "application/vnd.jupyter.widget-view+json": {
       "model_id": "c512929b7c4147239cd74bddb11e9630",
       "version_major": 2,
       "version_minor": 0
      },
      "text/plain": [
       "  0%|          | 0/118 [00:00<?, ?it/s]"
      ]
     },
     "metadata": {},
     "output_type": "display_data"
    },
    {
     "name": "stdout",
     "output_type": "stream",
     "text": [
      "Epoch : [26] Train CTC Loss : [0.64088] Val CTC Loss : [1.46868]\n"
     ]
    },
    {
     "data": {
      "application/vnd.jupyter.widget-view+json": {
       "model_id": "0b337f08b3294db3b620ae13068cb20b",
       "version_major": 2,
       "version_minor": 0
      },
      "text/plain": [
       "  0%|          | 0/562 [00:00<?, ?it/s]"
      ]
     },
     "metadata": {},
     "output_type": "display_data"
    },
    {
     "data": {
      "application/vnd.jupyter.widget-view+json": {
       "model_id": "c609a554855c4e078d5071987e08bce2",
       "version_major": 2,
       "version_minor": 0
      },
      "text/plain": [
       "  0%|          | 0/118 [00:00<?, ?it/s]"
      ]
     },
     "metadata": {},
     "output_type": "display_data"
    },
    {
     "name": "stdout",
     "output_type": "stream",
     "text": [
      "Epoch : [27] Train CTC Loss : [0.63497] Val CTC Loss : [1.47642]\n"
     ]
    },
    {
     "data": {
      "application/vnd.jupyter.widget-view+json": {
       "model_id": "348ba7fc5a8e421fa3429f6938f96975",
       "version_major": 2,
       "version_minor": 0
      },
      "text/plain": [
       "  0%|          | 0/562 [00:00<?, ?it/s]"
      ]
     },
     "metadata": {},
     "output_type": "display_data"
    },
    {
     "data": {
      "application/vnd.jupyter.widget-view+json": {
       "model_id": "77c2f2a0644f422293940d89739e8fd9",
       "version_major": 2,
       "version_minor": 0
      },
      "text/plain": [
       "  0%|          | 0/118 [00:00<?, ?it/s]"
      ]
     },
     "metadata": {},
     "output_type": "display_data"
    },
    {
     "name": "stdout",
     "output_type": "stream",
     "text": [
      "Epoch : [28] Train CTC Loss : [0.63091] Val CTC Loss : [1.49688]\n",
      "Epoch 00028: reducing learning rate of group 0 to 3.1250e-05.\n"
     ]
    },
    {
     "data": {
      "application/vnd.jupyter.widget-view+json": {
       "model_id": "222101e27ce14cb59e9118c4b7487873",
       "version_major": 2,
       "version_minor": 0
      },
      "text/plain": [
       "  0%|          | 0/562 [00:00<?, ?it/s]"
      ]
     },
     "metadata": {},
     "output_type": "display_data"
    },
    {
     "data": {
      "application/vnd.jupyter.widget-view+json": {
       "model_id": "4cffd20ccae3483280e4048bdb972ad1",
       "version_major": 2,
       "version_minor": 0
      },
      "text/plain": [
       "  0%|          | 0/118 [00:00<?, ?it/s]"
      ]
     },
     "metadata": {},
     "output_type": "display_data"
    },
    {
     "name": "stdout",
     "output_type": "stream",
     "text": [
      "Epoch : [29] Train CTC Loss : [0.62081] Val CTC Loss : [1.49879]\n"
     ]
    },
    {
     "data": {
      "application/vnd.jupyter.widget-view+json": {
       "model_id": "63deb624a55f4aac8b7b1b8a95347fda",
       "version_major": 2,
       "version_minor": 0
      },
      "text/plain": [
       "  0%|          | 0/562 [00:00<?, ?it/s]"
      ]
     },
     "metadata": {},
     "output_type": "display_data"
    },
    {
     "data": {
      "application/vnd.jupyter.widget-view+json": {
       "model_id": "d7541bca2ccc4af9a38215aa364a6522",
       "version_major": 2,
       "version_minor": 0
      },
      "text/plain": [
       "  0%|          | 0/118 [00:00<?, ?it/s]"
      ]
     },
     "metadata": {},
     "output_type": "display_data"
    },
    {
     "name": "stdout",
     "output_type": "stream",
     "text": [
      "Epoch : [30] Train CTC Loss : [0.61825] Val CTC Loss : [1.50526]\n"
     ]
    }
   ],
   "source": [
    "model = RecognitionModel_eff()\n",
    "model.eval()\n",
    "optimizer = torch.optim.Adam(params = model.parameters(), lr = CFG[\"LEARNING_RATE\"])\n",
    "scheduler = torch.optim.lr_scheduler.ReduceLROnPlateau(optimizer, mode='min', factor=0.5, patience=2,threshold_mode='abs',min_lr=1e-8, verbose=True)\n",
    "\n",
    "infer_model = train(model, optimizer, train_loader, val_loader, scheduler, device)"
   ]
  },
  {
   "cell_type": "code",
   "execution_count": 336,
   "id": "39c915a9",
   "metadata": {},
   "outputs": [],
   "source": [
    "torch.save(infer_model,'./weight_file/b5_30_lstm_cutmix.pt')"
   ]
  },
  {
   "cell_type": "code",
   "execution_count": 337,
   "id": "20f907ce",
   "metadata": {
    "scrolled": true
   },
   "outputs": [],
   "source": [
    "# model = RecognitionModel()\n",
    "# model.eval()\n",
    "# optimizer = torch.optim.Adam(params = model.parameters(), lr = CFG[\"LEARNING_RATE\"])\n",
    "# scheduler = torch.optim.lr_scheduler.ReduceLROnPlateau(optimizer, mode='min', factor=0.5, patience=2,threshold_mode='abs',min_lr=1e-8, verbose=True)\n",
    "\n",
    "# infer_model = train(model, optimizer, train_loader, val_loader, scheduler, device)"
   ]
  },
  {
   "cell_type": "code",
   "execution_count": 338,
   "id": "3021a4a4",
   "metadata": {},
   "outputs": [],
   "source": [
    "test = pd.read_csv('../open/test.csv')"
   ]
  },
  {
   "cell_type": "code",
   "execution_count": 339,
   "id": "8db43201",
   "metadata": {},
   "outputs": [],
   "source": [
    "test_dataset = CustomDataset(test['img_path'].values, None,test_transform)\n",
    "test_loader = DataLoader(test_dataset, batch_size = CFG['BATCH_SIZE'], shuffle=False, num_workers=CFG['NUM_WORKERS'])"
   ]
  },
  {
   "cell_type": "code",
   "execution_count": 340,
   "id": "59b8e58d",
   "metadata": {},
   "outputs": [],
   "source": [
    "def decode_predictions(text_batch_logits):\n",
    "    text_batch_tokens = F.softmax(text_batch_logits, 2).argmax(2) # [T, batch_size]\n",
    "    text_batch_tokens = text_batch_tokens.numpy().T # [batch_size, T]\n",
    "\n",
    "    text_batch_tokens_new = []\n",
    "    for text_tokens in text_batch_tokens:\n",
    "        text = [idx2char[idx] for idx in text_tokens]\n",
    "        text = \"\".join(text)\n",
    "        text_batch_tokens_new.append(text)\n",
    "\n",
    "    return text_batch_tokens_new\n",
    "\n",
    "def inference(model, test_loader, device):\n",
    "    model.eval()\n",
    "    preds = []\n",
    "    with torch.no_grad():\n",
    "        for image_batch in tqdm(iter(test_loader)):\n",
    "            image_batch = image_batch.to(device)\n",
    "            \n",
    "            text_batch_logits = model(image_batch)\n",
    "            \n",
    "            text_batch_pred = decode_predictions(text_batch_logits.cpu())\n",
    "            \n",
    "            preds.extend(text_batch_pred)\n",
    "    return preds"
   ]
  },
  {
   "cell_type": "code",
   "execution_count": 341,
   "id": "ec2ceac3",
   "metadata": {},
   "outputs": [
    {
     "data": {
      "application/vnd.jupyter.widget-view+json": {
       "model_id": "4943c2dcf4f64d50a8d8a008d0a9f0ee",
       "version_major": 2,
       "version_minor": 0
      },
      "text/plain": [
       "  0%|          | 0/290 [00:00<?, ?it/s]"
      ]
     },
     "metadata": {},
     "output_type": "display_data"
    }
   ],
   "source": [
    "predictions = inference(infer_model, test_loader, device)"
   ]
  },
  {
   "cell_type": "code",
   "execution_count": 342,
   "id": "dd6ff63a",
   "metadata": {},
   "outputs": [],
   "source": [
    "# 샘플 별 추론결과를 독립적으로 후처리\n",
    "def remove_duplicates(text):\n",
    "    if len(text) > 1:\n",
    "        letters = [text[0]] + [letter for idx, letter in enumerate(text[1:], start=1) if text[idx] != text[idx-1]]\n",
    "    elif len(text) == 1:\n",
    "        letters = [text[0]]\n",
    "    else:\n",
    "        return \"\"\n",
    "    return \"\".join(letters)\n",
    "\n",
    "def correct_prediction(word):\n",
    "    parts = word.split(\"-\")\n",
    "    parts = [remove_duplicates(part) for part in parts]\n",
    "    corrected_word = \"\".join(parts)\n",
    "    return corrected_word"
   ]
  },
  {
   "cell_type": "code",
   "execution_count": 343,
   "id": "f28013dc",
   "metadata": {},
   "outputs": [],
   "source": [
    "submit = pd.read_csv('../open/sample_submission.csv')\n",
    "submit['label'] = predictions\n",
    "submit['label'] = submit['label'].apply(correct_prediction)"
   ]
  },
  {
   "cell_type": "code",
   "execution_count": 344,
   "id": "c0057eaf",
   "metadata": {},
   "outputs": [],
   "source": [
    "submit.to_csv('./submission/submission_30_eff_lstm_cutmix.csv', index=False)"
   ]
  },
  {
   "cell_type": "code",
   "execution_count": 345,
   "id": "5167358d",
   "metadata": {
    "scrolled": true
   },
   "outputs": [
    {
     "data": {
      "text/html": [
       "<div>\n",
       "<style scoped>\n",
       "    .dataframe tbody tr th:only-of-type {\n",
       "        vertical-align: middle;\n",
       "    }\n",
       "\n",
       "    .dataframe tbody tr th {\n",
       "        vertical-align: top;\n",
       "    }\n",
       "\n",
       "    .dataframe thead th {\n",
       "        text-align: right;\n",
       "    }\n",
       "</style>\n",
       "<table border=\"1\" class=\"dataframe\">\n",
       "  <thead>\n",
       "    <tr style=\"text-align: right;\">\n",
       "      <th></th>\n",
       "      <th>id</th>\n",
       "      <th>label</th>\n",
       "    </tr>\n",
       "  </thead>\n",
       "  <tbody>\n",
       "    <tr>\n",
       "      <th>0</th>\n",
       "      <td>TEST_00000</td>\n",
       "      <td>남망</td>\n",
       "    </tr>\n",
       "    <tr>\n",
       "      <th>1</th>\n",
       "      <td>TEST_00001</td>\n",
       "      <td>상향</td>\n",
       "    </tr>\n",
       "    <tr>\n",
       "      <th>2</th>\n",
       "      <td>TEST_00002</td>\n",
       "      <td>받아이다</td>\n",
       "    </tr>\n",
       "    <tr>\n",
       "      <th>3</th>\n",
       "      <td>TEST_00003</td>\n",
       "      <td>바구니</td>\n",
       "    </tr>\n",
       "    <tr>\n",
       "      <th>4</th>\n",
       "      <td>TEST_00004</td>\n",
       "      <td>살</td>\n",
       "    </tr>\n",
       "    <tr>\n",
       "      <th>...</th>\n",
       "      <td>...</td>\n",
       "      <td>...</td>\n",
       "    </tr>\n",
       "    <tr>\n",
       "      <th>74116</th>\n",
       "      <td>TEST_74116</td>\n",
       "      <td>캐나다</td>\n",
       "    </tr>\n",
       "    <tr>\n",
       "      <th>74117</th>\n",
       "      <td>TEST_74117</td>\n",
       "      <td>사무</td>\n",
       "    </tr>\n",
       "    <tr>\n",
       "      <th>74118</th>\n",
       "      <td>TEST_74118</td>\n",
       "      <td>친절하다</td>\n",
       "    </tr>\n",
       "    <tr>\n",
       "      <th>74119</th>\n",
       "      <td>TEST_74119</td>\n",
       "      <td>쪽</td>\n",
       "    </tr>\n",
       "    <tr>\n",
       "      <th>74120</th>\n",
       "      <td>TEST_74120</td>\n",
       "      <td>부정하다</td>\n",
       "    </tr>\n",
       "  </tbody>\n",
       "</table>\n",
       "<p>74121 rows × 2 columns</p>\n",
       "</div>"
      ],
      "text/plain": [
       "               id label\n",
       "0      TEST_00000    남망\n",
       "1      TEST_00001    상향\n",
       "2      TEST_00002  받아이다\n",
       "3      TEST_00003   바구니\n",
       "4      TEST_00004     살\n",
       "...           ...   ...\n",
       "74116  TEST_74116   캐나다\n",
       "74117  TEST_74117    사무\n",
       "74118  TEST_74118  친절하다\n",
       "74119  TEST_74119     쪽\n",
       "74120  TEST_74120  부정하다\n",
       "\n",
       "[74121 rows x 2 columns]"
      ]
     },
     "execution_count": 345,
     "metadata": {},
     "output_type": "execute_result"
    }
   ],
   "source": [
    "sub_text = pd.read_csv('./submission/submission_30_eff_lstm_cutmix.csv')\n",
    "sub_text"
   ]
  },
  {
   "cell_type": "code",
   "execution_count": null,
   "id": "f8300f15",
   "metadata": {},
   "outputs": [],
   "source": [
    "# cutmix사용 혹은 ATTENTION 구조 사용"
   ]
  },
  {
   "cell_type": "code",
   "execution_count": 182,
   "id": "ca5be9a8",
   "metadata": {},
   "outputs": [],
   "source": [
    "import numpy as np\n",
    "import matplotlib.pyplot as plt\n",
    "import pandas as pd\n",
    "import cv2\n",
    "import random\n",
    "import os\n",
    "from tqdm.auto import tqdm\n",
    "import warnings\n",
    "warnings.filterwarnings('ignore')"
   ]
  },
  {
   "cell_type": "code",
   "execution_count": 185,
   "id": "a1ed1710",
   "metadata": {},
   "outputs": [],
   "source": [
    "df = pd.read_csv('../open/train.csv')\n",
    "df['len'] = df['label'].str.len()"
   ]
  },
  {
   "cell_type": "code",
   "execution_count": 189,
   "id": "7b7f745b",
   "metadata": {},
   "outputs": [
    {
     "data": {
      "text/plain": [
       "<matplotlib.image.AxesImage at 0x7f89a56442e0>"
      ]
     },
     "execution_count": 189,
     "metadata": {},
     "output_type": "execute_result"
    },
    {
     "data": {
      "image/png": "[encoded data removed]",
      "text/plain": [
       "<Figure size 640x480 with 1 Axes>"
      ]
     },
     "metadata": {},
     "output_type": "display_data"
    }
   ],
   "source": [
    "select1, select2 = random.randint(0, 76888), random.randint(0, 76888)\n",
    "imgFile1 = f'../open/train/TRAIN_{select1:05d}.png'\n",
    "imgFile2 = f'../open/train/TRAIN_{select2:05d}.png'\n",
    "\n",
    "\n",
    "# 이미지 읽기\n",
    "img1 = cv2.imread(imgFile1, 1); #1:color # 0:gray\n",
    "img2 = cv2.imread(imgFile2, 1);\n",
    "\n",
    "# 사이즈 조절\n",
    "img1 = cv2.resize(img1,(100,125))\n",
    "img2 = cv2.resize(img2,(100,125))\n",
    "\n",
    "# 이미지 붙이기\n",
    "addh = cv2.hconcat([img1, img2])\n",
    "plt.imshow(addh)"
   ]
  },
  {
   "cell_type": "code",
   "execution_count": 197,
   "id": "25f0d679",
   "metadata": {},
   "outputs": [],
   "source": [
    "os.makedirs(\"./Cut_mix\",exist_ok=True)"
   ]
  },
  {
   "cell_type": "code",
   "execution_count": 191,
   "id": "63469b4c",
   "metadata": {},
   "outputs": [
    {
     "name": "stdout",
     "output_type": "stream",
     "text": [
      "<class 'pandas.core.frame.DataFrame'>\n",
      "RangeIndex: 76888 entries, 0 to 76887\n",
      "Data columns (total 4 columns):\n",
      " #   Column    Non-Null Count  Dtype \n",
      "---  ------    --------------  ----- \n",
      " 0   id        76888 non-null  object\n",
      " 1   img_path  76888 non-null  object\n",
      " 2   label     76888 non-null  object\n",
      " 3   len       76888 non-null  int64 \n",
      "dtypes: int64(1), object(3)\n",
      "memory usage: 2.3+ MB\n"
     ]
    }
   ],
   "source": [
    "df.info()"
   ]
  },
  {
   "cell_type": "code",
   "execution_count": 192,
   "id": "abcc9d63",
   "metadata": {},
   "outputs": [
    {
     "data": {
      "text/html": [
       "<div>\n",
       "<style scoped>\n",
       "    .dataframe tbody tr th:only-of-type {\n",
       "        vertical-align: middle;\n",
       "    }\n",
       "\n",
       "    .dataframe tbody tr th {\n",
       "        vertical-align: top;\n",
       "    }\n",
       "\n",
       "    .dataframe thead th {\n",
       "        text-align: right;\n",
       "    }\n",
       "</style>\n",
       "<table border=\"1\" class=\"dataframe\">\n",
       "  <thead>\n",
       "    <tr style=\"text-align: right;\">\n",
       "      <th></th>\n",
       "      <th>len</th>\n",
       "      <th>len_count</th>\n",
       "    </tr>\n",
       "  </thead>\n",
       "  <tbody>\n",
       "    <tr>\n",
       "      <th>0</th>\n",
       "      <td>2</td>\n",
       "      <td>28631</td>\n",
       "    </tr>\n",
       "    <tr>\n",
       "      <th>1</th>\n",
       "      <td>1</td>\n",
       "      <td>23703</td>\n",
       "    </tr>\n",
       "    <tr>\n",
       "      <th>2</th>\n",
       "      <td>3</td>\n",
       "      <td>13514</td>\n",
       "    </tr>\n",
       "    <tr>\n",
       "      <th>3</th>\n",
       "      <td>4</td>\n",
       "      <td>9988</td>\n",
       "    </tr>\n",
       "    <tr>\n",
       "      <th>4</th>\n",
       "      <td>5</td>\n",
       "      <td>1026</td>\n",
       "    </tr>\n",
       "    <tr>\n",
       "      <th>5</th>\n",
       "      <td>6</td>\n",
       "      <td>26</td>\n",
       "    </tr>\n",
       "  </tbody>\n",
       "</table>\n",
       "</div>"
      ],
      "text/plain": [
       "   len  len_count\n",
       "0    2      28631\n",
       "1    1      23703\n",
       "2    3      13514\n",
       "3    4       9988\n",
       "4    5       1026\n",
       "5    6         26"
      ]
     },
     "metadata": {},
     "output_type": "display_data"
    }
   ],
   "source": [
    "df_len_count = pd.DataFrame(df['len'].value_counts())\n",
    "df_len_count.reset_index(inplace=True)\n",
    "df_len_count.columns = ['len', 'len_count']\n",
    "\n",
    "display(df_len_count)"
   ]
  },
  {
   "cell_type": "code",
   "execution_count": 193,
   "id": "6c0af9a5",
   "metadata": {},
   "outputs": [],
   "source": [
    "len2count = {k:v for k,v in zip(df_len_count['len'], df_len_count['len_count'])}"
   ]
  },
  {
   "cell_type": "code",
   "execution_count": 194,
   "id": "75a2dfc6",
   "metadata": {},
   "outputs": [
    {
     "data": {
      "text/plain": [
       "{2: 28631, 1: 23703, 3: 13514, 4: 9988, 5: 1026, 6: 26}"
      ]
     },
     "execution_count": 194,
     "metadata": {},
     "output_type": "execute_result"
    }
   ],
   "source": [
    "len2count"
   ]
  },
  {
   "cell_type": "code",
   "execution_count": 198,
   "id": "6a1cf476",
   "metadata": {
    "scrolled": true
   },
   "outputs": [
    {
     "data": {
      "application/vnd.jupyter.widget-view+json": {
       "model_id": "d8d68c50a1cb44dbb8796666383561fc",
       "version_major": 2,
       "version_minor": 0
      },
      "text/plain": [
       "  0%|          | 0/200000 [00:00<?, ?it/s]"
      ]
     },
     "metadata": {},
     "output_type": "display_data"
    }
   ],
   "source": [
    "idx = 76888 \n",
    "for i in tqdm(range(200000)):\n",
    "    select1, select2 = random.randint(0, 76887), random.randint(0, 76887)\n",
    "    imgFile1 = f'../open/train/TRAIN_{select1:05d}.png'\n",
    "    imgFile2 = f'../open/train/TRAIN_{select2:05d}.png'\n",
    "    \n",
    "    if df['len'][select1] + df['len'][select2] > 6:\n",
    "        continue\n",
    "        \n",
    "    if len2count[df['len'][select1] + df['len'][select2]] > 30000:\n",
    "        continue\n",
    "    \n",
    "    # 이미지 읽기\n",
    "    img1 = cv2.imread(imgFile1, 1);\n",
    "    img2 = cv2.imread(imgFile2, 1);\n",
    "    \n",
    "    img1 = cv2.resize(img1,(100,125))\n",
    "    img2 = cv2.resize(img2,(100,125))\n",
    "    \n",
    "    addh = cv2.hconcat([img1, img2])\n",
    "    \n",
    "    new_data = {\n",
    "        'id' : f\"TRAIN_{idx:06d}\",\n",
    "        'img_path' : f\"./Cut_mix/TRAIN_{idx:06d}.png\",\n",
    "        'label' : df['label'][select1] + df['label'][select2],\n",
    "        'len' : df['len'][select1] + df['len'][select2]\n",
    "    }\n",
    "    \n",
    "    df = df.append(new_data, ignore_index=True)\n",
    "    cv2.imwrite(f\"./Cut_mix/TRAIN_{idx:06d}.png\", addh)\n",
    "    idx += 1\n",
    "    len2count[df['len'][select1] + df['len'][select2]] += 1"
   ]
  },
  {
   "cell_type": "code",
   "execution_count": 199,
   "id": "f76fc6cb",
   "metadata": {},
   "outputs": [],
   "source": [
    "df.to_csv('./train_cutmix.csv', index=False)"
   ]
  },
  {
   "cell_type": "code",
   "execution_count": 200,
   "id": "2e8f5516",
   "metadata": {
    "scrolled": true
   },
   "outputs": [
    {
     "data": {
      "text/html": [
       "<div>\n",
       "<style scoped>\n",
       "    .dataframe tbody tr th:only-of-type {\n",
       "        vertical-align: middle;\n",
       "    }\n",
       "\n",
       "    .dataframe tbody tr th {\n",
       "        vertical-align: top;\n",
       "    }\n",
       "\n",
       "    .dataframe thead th {\n",
       "        text-align: right;\n",
       "    }\n",
       "</style>\n",
       "<table border=\"1\" class=\"dataframe\">\n",
       "  <thead>\n",
       "    <tr style=\"text-align: right;\">\n",
       "      <th></th>\n",
       "      <th>id</th>\n",
       "      <th>img_path</th>\n",
       "      <th>label</th>\n",
       "      <th>len</th>\n",
       "    </tr>\n",
       "  </thead>\n",
       "  <tbody>\n",
       "    <tr>\n",
       "      <th>0</th>\n",
       "      <td>TRAIN_00000</td>\n",
       "      <td>./train/TRAIN_00000.png</td>\n",
       "      <td>빨간색</td>\n",
       "      <td>3</td>\n",
       "    </tr>\n",
       "    <tr>\n",
       "      <th>1</th>\n",
       "      <td>TRAIN_00001</td>\n",
       "      <td>./train/TRAIN_00001.png</td>\n",
       "      <td>머</td>\n",
       "      <td>1</td>\n",
       "    </tr>\n",
       "    <tr>\n",
       "      <th>2</th>\n",
       "      <td>TRAIN_00002</td>\n",
       "      <td>./train/TRAIN_00002.png</td>\n",
       "      <td>차차</td>\n",
       "      <td>2</td>\n",
       "    </tr>\n",
       "    <tr>\n",
       "      <th>3</th>\n",
       "      <td>TRAIN_00003</td>\n",
       "      <td>./train/TRAIN_00003.png</td>\n",
       "      <td>써</td>\n",
       "      <td>1</td>\n",
       "    </tr>\n",
       "    <tr>\n",
       "      <th>4</th>\n",
       "      <td>TRAIN_00004</td>\n",
       "      <td>./train/TRAIN_00004.png</td>\n",
       "      <td>놓치다</td>\n",
       "      <td>3</td>\n",
       "    </tr>\n",
       "    <tr>\n",
       "      <th>...</th>\n",
       "      <td>...</td>\n",
       "      <td>...</td>\n",
       "      <td>...</td>\n",
       "      <td>...</td>\n",
       "    </tr>\n",
       "    <tr>\n",
       "      <th>173703</th>\n",
       "      <td>TRAIN_155657</td>\n",
       "      <td>./Cut_mix/TRAIN_155657.png</td>\n",
       "      <td>웬만하다지다</td>\n",
       "      <td>6</td>\n",
       "    </tr>\n",
       "    <tr>\n",
       "      <th>173704</th>\n",
       "      <td>TRAIN_155658</td>\n",
       "      <td>./Cut_mix/TRAIN_155658.png</td>\n",
       "      <td>깨어나다아픔</td>\n",
       "      <td>6</td>\n",
       "    </tr>\n",
       "    <tr>\n",
       "      <th>173705</th>\n",
       "      <td>TRAIN_155659</td>\n",
       "      <td>./Cut_mix/TRAIN_155659.png</td>\n",
       "      <td>나이싫어지다</td>\n",
       "      <td>6</td>\n",
       "    </tr>\n",
       "    <tr>\n",
       "      <th>173706</th>\n",
       "      <td>TRAIN_155660</td>\n",
       "      <td>./Cut_mix/TRAIN_155660.png</td>\n",
       "      <td>신문사바치다</td>\n",
       "      <td>6</td>\n",
       "    </tr>\n",
       "    <tr>\n",
       "      <th>173707</th>\n",
       "      <td>TRAIN_155661</td>\n",
       "      <td>./Cut_mix/TRAIN_155661.png</td>\n",
       "      <td>기여하다두뇌</td>\n",
       "      <td>6</td>\n",
       "    </tr>\n",
       "  </tbody>\n",
       "</table>\n",
       "<p>173708 rows × 4 columns</p>\n",
       "</div>"
      ],
      "text/plain": [
       "                  id                    img_path   label  len\n",
       "0        TRAIN_00000     ./train/TRAIN_00000.png     빨간색    3\n",
       "1        TRAIN_00001     ./train/TRAIN_00001.png       머    1\n",
       "2        TRAIN_00002     ./train/TRAIN_00002.png      차차    2\n",
       "3        TRAIN_00003     ./train/TRAIN_00003.png       써    1\n",
       "4        TRAIN_00004     ./train/TRAIN_00004.png     놓치다    3\n",
       "...              ...                         ...     ...  ...\n",
       "173703  TRAIN_155657  ./Cut_mix/TRAIN_155657.png  웬만하다지다    6\n",
       "173704  TRAIN_155658  ./Cut_mix/TRAIN_155658.png  깨어나다아픔    6\n",
       "173705  TRAIN_155659  ./Cut_mix/TRAIN_155659.png  나이싫어지다    6\n",
       "173706  TRAIN_155660  ./Cut_mix/TRAIN_155660.png  신문사바치다    6\n",
       "173707  TRAIN_155661  ./Cut_mix/TRAIN_155661.png  기여하다두뇌    6\n",
       "\n",
       "[173708 rows x 4 columns]"
      ]
     },
     "execution_count": 200,
     "metadata": {},
     "output_type": "execute_result"
    }
   ],
   "source": [
    "df"
   ]
  },
  {
   "cell_type": "code",
   "execution_count": null,
   "id": "fe87889c",
   "metadata": {},
   "outputs": [],
   "source": []
  }
 ],
 "metadata": {
  "kernelspec": {
   "display_name": "Python 3 (ipykernel)",
   "language": "python",
   "name": "python3"
  },
  "language_info": {
   "codemirror_mode": {
    "name": "ipython",
    "version": 3
   },
   "file_extension": ".py",
   "mimetype": "text/x-python",
   "name": "python",
   "nbconvert_exporter": "python",
   "pygments_lexer": "ipython3",
   "version": "3.9.13"
  }
 },
 "nbformat": 4,
 "nbformat_minor": 5
}
