{
 "cells": [
  {
   "cell_type": "code",
   "execution_count": 2,
   "id": "3038b604",
   "metadata": {},
   "outputs": [
    {
     "name": "stderr",
     "output_type": "stream",
     "text": [
      "/home/gsc/anaconda3/envs/dacon/lib/python3.9/site-packages/scipy/__init__.py:146: UserWarning: A NumPy version >=1.16.5 and <1.23.0 is required for this version of SciPy (detected version 1.23.4\n",
      "  warnings.warn(f\"A NumPy version >={np_minversion} and <{np_maxversion}\"\n"
     ]
    }
   ],
   "source": [
    "import random\n",
    "import pandas as pd\n",
    "import numpy as np\n",
    "import os\n",
    "from PIL import Image\n",
    "\n",
    "import torch\n",
    "import torch.nn as nn\n",
    "import torch.optim as optim\n",
    "import torch.nn.functional as F\n",
    "from torch.utils.data import Dataset, DataLoader\n",
    "\n",
    "from torchvision.models import resnet18\n",
    "from torchvision import transforms\n",
    "\n",
    "from tqdm.auto import tqdm\n",
    "from sklearn.metrics import accuracy_score\n",
    "from sklearn.model_selection import train_test_split\n",
    "\n",
    "import warnings\n",
    "warnings.filterwarnings(action='ignore') \n",
    "import cv2\n",
    "import albumentations as A\n",
    "from albumentations.pytorch.transforms import ToTensorV2\n"
   ]
  },
  {
   "cell_type": "code",
   "execution_count": 3,
   "id": "962ef679",
   "metadata": {},
   "outputs": [
    {
     "name": "stdout",
     "output_type": "stream",
     "text": [
      "cuda\n"
     ]
    }
   ],
   "source": [
    "device = torch.device('cuda') if torch.cuda.is_available() else torch.device('cpu')\n",
    "print(device)"
   ]
  },
  {
   "cell_type": "code",
   "execution_count": 47,
   "id": "c79e3ac8",
   "metadata": {},
   "outputs": [],
   "source": [
    "CFG = {\n",
    "    'IMG_HEIGHT_SIZE':64,\n",
    "    'IMG_WIDTH_SIZE':224,\n",
    "    'EPOCHS':50,\n",
    "    'LEARNING_RATE':1e-3,\n",
    "    'BATCH_SIZE':256,\n",
    "    'NUM_WORKERS':4, # 본인의 GPU, CPU 환경에 맞게 설정\n",
    "    'SEED':41\n",
    "}"
   ]
  },
  {
   "cell_type": "code",
   "execution_count": 48,
   "id": "95321bfb",
   "metadata": {},
   "outputs": [],
   "source": [
    "def seed_everything(seed):\n",
    "    random.seed(seed)\n",
    "    os.environ['PYTHONHASHSEED'] = str(seed)\n",
    "    np.random.seed(seed)\n",
    "    torch.manual_seed(seed)\n",
    "    torch.cuda.manual_seed(seed)\n",
    "    torch.backends.cudnn.deterministic = True\n",
    "    torch.backends.cudnn.benchmark = True\n",
    "\n",
    "seed_everything(CFG['SEED']) # Seed 고정"
   ]
  },
  {
   "cell_type": "code",
   "execution_count": 49,
   "id": "6525de39",
   "metadata": {},
   "outputs": [
    {
     "data": {
      "text/plain": [
       "'/home/gsc/dacon_KYOWON/Dacon_KYOWON'"
      ]
     },
     "execution_count": 49,
     "metadata": {},
     "output_type": "execute_result"
    }
   ],
   "source": [
    "os.getcwd()"
   ]
  },
  {
   "cell_type": "code",
   "execution_count": 50,
   "id": "00113144",
   "metadata": {},
   "outputs": [],
   "source": [
    "#window\n",
    "# base_dir = 'D:/Dacon_KYOWON/Dacon_KYOWON'\n",
    "# data_dir = \"D:/Dacon_KYOWON/open\"\n",
    "#ubuntu\n",
    "base_dir = '/home/gsc/dacon_KYOWON/Dacon_KYOWON'\n",
    "data_dir = '/home/gsc/dacon_KYOWON/open'\n"
   ]
  },
  {
   "cell_type": "code",
   "execution_count": 51,
   "id": "866ad39a",
   "metadata": {},
   "outputs": [],
   "source": [
    "df = pd.read_csv(f'{data_dir}/train.csv')"
   ]
  },
  {
   "cell_type": "code",
   "execution_count": 52,
   "id": "c944b4f4",
   "metadata": {},
   "outputs": [],
   "source": [
    "# 제공된 학습데이터 중 1글자 샘플들의 단어사전이 학습/테스트 데이터의 모든 글자를 담고 있으므로 학습 데이터로 우선 배치\n",
    "df['len'] = df['label'].str.len()\n",
    "train_v1 = df[df['len']==1]"
   ]
  },
  {
   "cell_type": "code",
   "execution_count": 53,
   "id": "ad963e85",
   "metadata": {},
   "outputs": [],
   "source": [
    "# 제공된 학습데이터 중 2글자 이상의 샘플들에 대해서 단어길이를 고려하여 Train (80%) / Validation (20%) 분할\n",
    "df = df[df['len']>1]\n",
    "train_v2, val, _, _ = train_test_split(df, df['len'], test_size=0.2, random_state=CFG['SEED'])"
   ]
  },
  {
   "cell_type": "markdown",
   "id": "6889d87a",
   "metadata": {},
   "source": [
    "데이터 길이를 1,2,3,4로 나눠보는 것은 어떨까"
   ]
  },
  {
   "cell_type": "code",
   "execution_count": 54,
   "id": "e53f4bdb",
   "metadata": {},
   "outputs": [
    {
     "name": "stdout",
     "output_type": "stream",
     "text": [
      "66251 10637\n"
     ]
    }
   ],
   "source": [
    "# 학습 데이터로 우선 배치한 1글자 샘플들과 분할된 2글자 이상의 학습 샘플을 concat하여 최종 학습 데이터로 사용\n",
    "train = pd.concat([train_v1, train_v2])\n",
    "print(len(train), len(val))"
   ]
  },
  {
   "cell_type": "code",
   "execution_count": 55,
   "id": "a4c55be2",
   "metadata": {},
   "outputs": [
    {
     "name": "stdout",
     "output_type": "stream",
     "text": [
      "2349\n"
     ]
    }
   ],
   "source": [
    "# 학습 데이터로부터 단어 사전(Vocabulary) 구축\n",
    "train_gt = [gt for gt in train['label']]\n",
    "train_gt = \"\".join(train_gt)\n",
    "letters = sorted(list(set(list(train_gt))))\n",
    "print(len(letters))"
   ]
  },
  {
   "cell_type": "code",
   "execution_count": 56,
   "id": "7c304964",
   "metadata": {},
   "outputs": [
    {
     "name": "stdout",
     "output_type": "stream",
     "text": [
      "2350\n"
     ]
    }
   ],
   "source": [
    "vocabulary = [\"-\"] + letters\n",
    "print(len(vocabulary))\n",
    "idx2char = {k:v for k,v in enumerate(vocabulary, start=0)}\n",
    "char2idx = {v:k for k,v in idx2char.items()}"
   ]
  },
  {
   "cell_type": "code",
   "execution_count": 57,
   "id": "934ae66f",
   "metadata": {},
   "outputs": [],
   "source": [
    "class CustomDataset(Dataset):\n",
    "    def __init__(self, img_path_list, label_list,transforms=None, train_mode=True):\n",
    "        self.img_path_list = img_path_list\n",
    "        self.label_list = label_list\n",
    "        self.transforms = transforms\n",
    "        self.train_mode = train_mode\n",
    "        \n",
    "    def __len__(self):\n",
    "        return len(self.img_path_list)\n",
    "    \n",
    "    def __getitem__(self, index):\n",
    "        img_path = self.img_path_list[index]\n",
    "        image = cv2.imread(f\"{data_dir}/{img_path.split('/')[-2]}/{img_path.split('/')[-1]}\")\n",
    "        image = cv2.cvtColor(image, cv2.COLOR_BGR2RGB)\n",
    "\n",
    "        if self.transforms is not None:\n",
    "            image = self.transforms(image=image)['image']\n",
    "           \n",
    "        if self.label_list is not None:\n",
    "            text = self.label_list[index]\n",
    "            return image, text\n",
    "        else:\n",
    "            return image\n",
    "  "
   ]
  },
  {
   "cell_type": "code",
   "execution_count": 58,
   "id": "2f0efc60",
   "metadata": {},
   "outputs": [],
   "source": [
    "def resize_transform(height,width, state='train'):\n",
    "    if state == 'train':\n",
    "        transform = A.Compose([\n",
    "                                #A.HorizontalFlip(p=0.2),\n",
    "                                #A.VerticalFlip(p=0.2),\n",
    "                                A.Rotate(limit=[-45,45], p=1),\n",
    "                                #A.RandomRotate90(p=0.2),\n",
    "                                A.Resize(height,width),\n",
    "                                #A.RandomResizedCrop(height=height, width=width, scale=(0.3, 1.0)),\n",
    "                                A.Normalize([0.485, 0.456, 0.406], [0.229, 0.224, 0.225]),\n",
    "                                ToTensorV2(),\n",
    "                                ])\n",
    "    else:\n",
    "        transform = A.Compose([\n",
    "                            A.Resize(height,width),\n",
    "                            A.Normalize(mean=(0.485, 0.456, 0.406), std=(0.229, 0.224, 0.225), max_pixel_value=255.0, always_apply=False, p=1.0),\n",
    "                            #A.RandomResizedCrop(height=CFG['IMG_SIZE'], width=CFG['IMG_SIZE'], scale=(0.3, 1.0)),               \n",
    "                            ToTensorV2()\n",
    "                            ])\n",
    "\n",
    "    return transform"
   ]
  },
  {
   "cell_type": "code",
   "execution_count": 59,
   "id": "34d91f83",
   "metadata": {},
   "outputs": [],
   "source": [
    "train_transform = resize_transform(CFG['IMG_HEIGHT_SIZE'],CFG['IMG_WIDTH_SIZE'])\n",
    "test_transform = resize_transform(CFG['IMG_HEIGHT_SIZE'],CFG['IMG_WIDTH_SIZE'],'test')"
   ]
  },
  {
   "cell_type": "code",
   "execution_count": 60,
   "id": "c0a955bb",
   "metadata": {},
   "outputs": [
    {
     "name": "stdout",
     "output_type": "stream",
     "text": [
      "['머' '써' '빈' ... '계속' '단계' '손수']\n"
     ]
    }
   ],
   "source": [
    "img_path = train['label'].values\n",
    "print(img_path)\n",
    "#print(f\"{data_dir}/{img_path.split('/')[-2]}/{img_path.split('/')[-1]}\")"
   ]
  },
  {
   "cell_type": "code",
   "execution_count": 61,
   "id": "2c548e9c",
   "metadata": {},
   "outputs": [],
   "source": [
    "train_dataset = CustomDataset(train['img_path'].values, train['label'].values, train_transform)\n",
    "train_loader = DataLoader(train_dataset, batch_size = CFG['BATCH_SIZE'], shuffle=True, num_workers=CFG['NUM_WORKERS'])\n",
    "\n",
    "val_dataset = CustomDataset(val['img_path'].values, val['label'].values,test_transform)\n",
    "val_loader = DataLoader(val_dataset, batch_size = CFG['BATCH_SIZE'], shuffle=True, num_workers=CFG['NUM_WORKERS'])"
   ]
  },
  {
   "cell_type": "code",
   "execution_count": 62,
   "id": "97d40466",
   "metadata": {},
   "outputs": [
    {
     "name": "stdout",
     "output_type": "stream",
     "text": [
      "torch.Size([256, 3, 64, 224]) ('신비', '그나마', '씻기다', '쉴', '일반', '셋', '수입되다', '세', '달리다', '뜁', '선원', '추가', '대량', '예매하다', '콩', '쯩', '못', '사모님', '뱀', '호주머니', '젤', '벌', '불', '베개', '수도권', '회복되다', '날씨', '유산', '견해', '체조', '얘', '튀김', '삼계탕', '어려움', '세', '발자국', '터', '함께', '스타', '샛', '참여하다', '븐', '학생증', '신인', '신청', '양복', '추진하다', '집중하다', '구분되다', '기타', '지구', '꽐', '명예', '대륙', '천장', '신', '칡', '창조', '걋', '나무', '향', '여행사', '강', '흄', '출발', '전철', '꿈', '캠페인', '유산', '자극', '품', '대출', '관광버스', '내외', '법', '딱', '알리다', '먹이다', '왼발', '이제', '씁', '뒷골목', '만들다', '특정하다', '학교생활', '잘나다', '륵', '우유', '찜', '가늘다', '낮다', '적다', '척', '도', '이', '맛', '바탕', '끌다', '애쓰다', '이거', '어느덧', '주사', '겁', '늰', '빵', '곡', '바탕', '상대편', '옆', '헤', '중단', '회', '악', '농민', '긴급', '실은', '활용', '수십', '사흘', '실리다', '확대되다', '읍', '택하다', '화', '꼬마', '이해하다', '불편하다', '전문직', '멀리', '죽', '가다', '많아지다', '암', '일자', '이념', '수입되다', '팀', '돌다', '악몽', '간단하다', '불리다', '발휘하다', '미술관', '과학자', '정확하다', '턱', '큽', '텍스트', '신', '이곳저곳', '무용가', '무', '자동', '참석', '기술', '뛸', '뱅', '만일', '소풍', '거듭', '깡패', '조', '소유하다', '일찍', '편견', '예금', '중심지', '고장', '톈', '벗기다', '차마', '마무리', '뎄', '쇠', '이르다', '불교', '적성', '몸', '처음', '지다', '찌꺼기', '캠페인', '형편', '복사하다', '헤', '땔', '물', '밝히다', '잊', '밭', '거품', '분량', '덛', '나들이', '번', '평', '몃', '만세', '할', '쇼핑', '쪘', '웬', '쫌', '얼마', '폭력', '몫', '읽', '이', '저', '힘없이', '이모', '여든', '달다', '해', '지다', '채', '앞장서다', '괜히', '멋', '극', '현재', '생활수준', '색', '싸우다', '과정', '방학', '한가하다', '기여하다', '밑', '쳐', '우리', '컨', '전망하다', '읓', '슬쩍', '약', '실제로', '기사', '의사', '전공하다', '가운데', '롬', '무더위', '키', '짠', '순간', '교직', '외출', '시인', '뮨', '죽음', '닯', '장면', '승부', '한반도', '못하다')\n"
     ]
    }
   ],
   "source": [
    "image_batch, text_batch = iter(train_loader).next()\n",
    "print(image_batch.size(), text_batch)"
   ]
  },
  {
   "cell_type": "code",
   "execution_count": 83,
   "id": "2c087736",
   "metadata": {},
   "outputs": [
    {
     "name": "stdout",
     "output_type": "stream",
     "text": [
      "Collecting torchsummary\n",
      "  Using cached torchsummary-1.5.1-py3-none-any.whl (2.8 kB)\n",
      "Installing collected packages: torchsummary\n",
      "Successfully installed torchsummary-1.5.1\n"
     ]
    }
   ],
   "source": [
    "!pip install torchsummary"
   ]
  },
  {
   "cell_type": "code",
   "execution_count": 84,
   "id": "fd22457b",
   "metadata": {
    "scrolled": true
   },
   "outputs": [],
   "source": [
    "from torchsummary import summary as summary_"
   ]
  },
  {
   "cell_type": "code",
   "execution_count": 98,
   "id": "1076ad0e",
   "metadata": {
    "scrolled": true
   },
   "outputs": [
    {
     "name": "stdout",
     "output_type": "stream",
     "text": [
      "----------------------------------------------------------------\n",
      "        Layer (type)               Output Shape         Param #\n",
      "================================================================\n",
      "            Conv2d-1          [-1, 64, 32, 112]           9,408\n",
      "       BatchNorm2d-2          [-1, 64, 32, 112]             128\n",
      "              ReLU-3          [-1, 64, 32, 112]               0\n",
      "         MaxPool2d-4           [-1, 64, 16, 56]               0\n",
      "            Conv2d-5           [-1, 64, 16, 56]          36,864\n",
      "       BatchNorm2d-6           [-1, 64, 16, 56]             128\n",
      "              ReLU-7           [-1, 64, 16, 56]               0\n",
      "            Conv2d-8           [-1, 64, 16, 56]          36,864\n",
      "       BatchNorm2d-9           [-1, 64, 16, 56]             128\n",
      "             ReLU-10           [-1, 64, 16, 56]               0\n",
      "       BasicBlock-11           [-1, 64, 16, 56]               0\n",
      "           Conv2d-12           [-1, 64, 16, 56]          36,864\n",
      "      BatchNorm2d-13           [-1, 64, 16, 56]             128\n",
      "             ReLU-14           [-1, 64, 16, 56]               0\n",
      "           Conv2d-15           [-1, 64, 16, 56]          36,864\n",
      "      BatchNorm2d-16           [-1, 64, 16, 56]             128\n",
      "             ReLU-17           [-1, 64, 16, 56]               0\n",
      "       BasicBlock-18           [-1, 64, 16, 56]               0\n",
      "           Conv2d-19           [-1, 128, 8, 28]          73,728\n",
      "      BatchNorm2d-20           [-1, 128, 8, 28]             256\n",
      "             ReLU-21           [-1, 128, 8, 28]               0\n",
      "           Conv2d-22           [-1, 128, 8, 28]         147,456\n",
      "      BatchNorm2d-23           [-1, 128, 8, 28]             256\n",
      "           Conv2d-24           [-1, 128, 8, 28]           8,192\n",
      "      BatchNorm2d-25           [-1, 128, 8, 28]             256\n",
      "             ReLU-26           [-1, 128, 8, 28]               0\n",
      "       BasicBlock-27           [-1, 128, 8, 28]               0\n",
      "           Conv2d-28           [-1, 128, 8, 28]         147,456\n",
      "      BatchNorm2d-29           [-1, 128, 8, 28]             256\n",
      "             ReLU-30           [-1, 128, 8, 28]               0\n",
      "           Conv2d-31           [-1, 128, 8, 28]         147,456\n",
      "      BatchNorm2d-32           [-1, 128, 8, 28]             256\n",
      "             ReLU-33           [-1, 128, 8, 28]               0\n",
      "       BasicBlock-34           [-1, 128, 8, 28]               0\n",
      "           Conv2d-35           [-1, 256, 4, 14]         294,912\n",
      "      BatchNorm2d-36           [-1, 256, 4, 14]             512\n",
      "             ReLU-37           [-1, 256, 4, 14]               0\n",
      "           Conv2d-38           [-1, 256, 4, 14]         589,824\n",
      "      BatchNorm2d-39           [-1, 256, 4, 14]             512\n",
      "           Conv2d-40           [-1, 256, 4, 14]          32,768\n",
      "      BatchNorm2d-41           [-1, 256, 4, 14]             512\n",
      "             ReLU-42           [-1, 256, 4, 14]               0\n",
      "       BasicBlock-43           [-1, 256, 4, 14]               0\n",
      "           Conv2d-44           [-1, 256, 4, 14]         589,824\n",
      "      BatchNorm2d-45           [-1, 256, 4, 14]             512\n",
      "             ReLU-46           [-1, 256, 4, 14]               0\n",
      "           Conv2d-47           [-1, 256, 4, 14]         589,824\n",
      "      BatchNorm2d-48           [-1, 256, 4, 14]             512\n",
      "             ReLU-49           [-1, 256, 4, 14]               0\n",
      "       BasicBlock-50           [-1, 256, 4, 14]               0\n",
      "           Conv2d-51            [-1, 512, 2, 7]       1,179,648\n",
      "      BatchNorm2d-52            [-1, 512, 2, 7]           1,024\n",
      "             ReLU-53            [-1, 512, 2, 7]               0\n",
      "           Conv2d-54            [-1, 512, 2, 7]       2,359,296\n",
      "      BatchNorm2d-55            [-1, 512, 2, 7]           1,024\n",
      "           Conv2d-56            [-1, 512, 2, 7]         131,072\n",
      "      BatchNorm2d-57            [-1, 512, 2, 7]           1,024\n",
      "             ReLU-58            [-1, 512, 2, 7]               0\n",
      "       BasicBlock-59            [-1, 512, 2, 7]               0\n",
      "           Conv2d-60            [-1, 512, 2, 7]       2,359,296\n",
      "      BatchNorm2d-61            [-1, 512, 2, 7]           1,024\n",
      "             ReLU-62            [-1, 512, 2, 7]               0\n",
      "           Conv2d-63            [-1, 512, 2, 7]       2,359,296\n",
      "      BatchNorm2d-64            [-1, 512, 2, 7]           1,024\n",
      "             ReLU-65            [-1, 512, 2, 7]               0\n",
      "       BasicBlock-66            [-1, 512, 2, 7]               0\n",
      "AdaptiveAvgPool2d-67            [-1, 512, 1, 1]               0\n",
      "           Linear-68                 [-1, 1000]         513,000\n",
      "================================================================\n",
      "Total params: 11,689,512\n",
      "Trainable params: 11,689,512\n",
      "Non-trainable params: 0\n",
      "----------------------------------------------------------------\n",
      "Input size (MB): 0.16\n",
      "Forward/backward pass size (MB): 17.95\n",
      "Params size (MB): 44.59\n",
      "Estimated Total Size (MB): 62.71\n",
      "----------------------------------------------------------------\n"
     ]
    }
   ],
   "source": [
    "resnet_test = resnet18(pretrained=True)\n",
    "resnet_test.cuda()\n",
    "summary_(resnet_test,(3,64,224))"
   ]
  },
  {
   "cell_type": "code",
   "execution_count": 104,
   "id": "5a94da59",
   "metadata": {},
   "outputs": [
    {
     "name": "stdout",
     "output_type": "stream",
     "text": [
      "----------------------------------------------------------------\n",
      "        Layer (type)               Output Shape         Param #\n",
      "================================================================\n",
      "            Conv2d-1          [-1, 48, 32, 112]           1,296\n",
      "       BatchNorm2d-2          [-1, 48, 32, 112]              96\n",
      "              SiLU-3          [-1, 48, 32, 112]               0\n",
      "            Conv2d-4          [-1, 48, 32, 112]             432\n",
      "       BatchNorm2d-5          [-1, 48, 32, 112]              96\n",
      "              SiLU-6          [-1, 48, 32, 112]               0\n",
      " AdaptiveAvgPool2d-7             [-1, 48, 1, 1]               0\n",
      "            Conv2d-8             [-1, 12, 1, 1]             588\n",
      "              SiLU-9             [-1, 12, 1, 1]               0\n",
      "           Conv2d-10             [-1, 48, 1, 1]             624\n",
      "          Sigmoid-11             [-1, 48, 1, 1]               0\n",
      "SqueezeExcitation-12          [-1, 48, 32, 112]               0\n",
      "           Conv2d-13          [-1, 24, 32, 112]           1,152\n",
      "      BatchNorm2d-14          [-1, 24, 32, 112]              48\n",
      "           MBConv-15          [-1, 24, 32, 112]               0\n",
      "           Conv2d-16          [-1, 24, 32, 112]             216\n",
      "      BatchNorm2d-17          [-1, 24, 32, 112]              48\n",
      "             SiLU-18          [-1, 24, 32, 112]               0\n",
      "AdaptiveAvgPool2d-19             [-1, 24, 1, 1]               0\n",
      "           Conv2d-20              [-1, 6, 1, 1]             150\n",
      "             SiLU-21              [-1, 6, 1, 1]               0\n",
      "           Conv2d-22             [-1, 24, 1, 1]             168\n",
      "          Sigmoid-23             [-1, 24, 1, 1]               0\n",
      "SqueezeExcitation-24          [-1, 24, 32, 112]               0\n",
      "           Conv2d-25          [-1, 24, 32, 112]             576\n",
      "      BatchNorm2d-26          [-1, 24, 32, 112]              48\n",
      "  StochasticDepth-27          [-1, 24, 32, 112]               0\n",
      "           MBConv-28          [-1, 24, 32, 112]               0\n",
      "           Conv2d-29          [-1, 24, 32, 112]             216\n",
      "      BatchNorm2d-30          [-1, 24, 32, 112]              48\n",
      "             SiLU-31          [-1, 24, 32, 112]               0\n",
      "AdaptiveAvgPool2d-32             [-1, 24, 1, 1]               0\n",
      "           Conv2d-33              [-1, 6, 1, 1]             150\n",
      "             SiLU-34              [-1, 6, 1, 1]               0\n",
      "           Conv2d-35             [-1, 24, 1, 1]             168\n",
      "          Sigmoid-36             [-1, 24, 1, 1]               0\n",
      "SqueezeExcitation-37          [-1, 24, 32, 112]               0\n",
      "           Conv2d-38          [-1, 24, 32, 112]             576\n",
      "      BatchNorm2d-39          [-1, 24, 32, 112]              48\n",
      "  StochasticDepth-40          [-1, 24, 32, 112]               0\n",
      "           MBConv-41          [-1, 24, 32, 112]               0\n",
      "           Conv2d-42         [-1, 144, 32, 112]           3,456\n",
      "      BatchNorm2d-43         [-1, 144, 32, 112]             288\n",
      "             SiLU-44         [-1, 144, 32, 112]               0\n",
      "           Conv2d-45          [-1, 144, 16, 56]           1,296\n",
      "      BatchNorm2d-46          [-1, 144, 16, 56]             288\n",
      "             SiLU-47          [-1, 144, 16, 56]               0\n",
      "AdaptiveAvgPool2d-48            [-1, 144, 1, 1]               0\n",
      "           Conv2d-49              [-1, 6, 1, 1]             870\n",
      "             SiLU-50              [-1, 6, 1, 1]               0\n",
      "           Conv2d-51            [-1, 144, 1, 1]           1,008\n",
      "          Sigmoid-52            [-1, 144, 1, 1]               0\n",
      "SqueezeExcitation-53          [-1, 144, 16, 56]               0\n",
      "           Conv2d-54           [-1, 40, 16, 56]           5,760\n",
      "      BatchNorm2d-55           [-1, 40, 16, 56]              80\n",
      "           MBConv-56           [-1, 40, 16, 56]               0\n",
      "           Conv2d-57          [-1, 240, 16, 56]           9,600\n",
      "      BatchNorm2d-58          [-1, 240, 16, 56]             480\n",
      "             SiLU-59          [-1, 240, 16, 56]               0\n",
      "           Conv2d-60          [-1, 240, 16, 56]           2,160\n",
      "      BatchNorm2d-61          [-1, 240, 16, 56]             480\n",
      "             SiLU-62          [-1, 240, 16, 56]               0\n",
      "AdaptiveAvgPool2d-63            [-1, 240, 1, 1]               0\n",
      "           Conv2d-64             [-1, 10, 1, 1]           2,410\n",
      "             SiLU-65             [-1, 10, 1, 1]               0\n",
      "           Conv2d-66            [-1, 240, 1, 1]           2,640\n",
      "          Sigmoid-67            [-1, 240, 1, 1]               0\n",
      "SqueezeExcitation-68          [-1, 240, 16, 56]               0\n",
      "           Conv2d-69           [-1, 40, 16, 56]           9,600\n",
      "      BatchNorm2d-70           [-1, 40, 16, 56]              80\n",
      "  StochasticDepth-71           [-1, 40, 16, 56]               0\n",
      "           MBConv-72           [-1, 40, 16, 56]               0\n",
      "           Conv2d-73          [-1, 240, 16, 56]           9,600\n",
      "      BatchNorm2d-74          [-1, 240, 16, 56]             480\n",
      "             SiLU-75          [-1, 240, 16, 56]               0\n",
      "           Conv2d-76          [-1, 240, 16, 56]           2,160\n",
      "      BatchNorm2d-77          [-1, 240, 16, 56]             480\n",
      "             SiLU-78          [-1, 240, 16, 56]               0\n",
      "AdaptiveAvgPool2d-79            [-1, 240, 1, 1]               0\n",
      "           Conv2d-80             [-1, 10, 1, 1]           2,410\n",
      "             SiLU-81             [-1, 10, 1, 1]               0\n",
      "           Conv2d-82            [-1, 240, 1, 1]           2,640\n",
      "          Sigmoid-83            [-1, 240, 1, 1]               0\n",
      "SqueezeExcitation-84          [-1, 240, 16, 56]               0\n",
      "           Conv2d-85           [-1, 40, 16, 56]           9,600\n",
      "      BatchNorm2d-86           [-1, 40, 16, 56]              80\n",
      "  StochasticDepth-87           [-1, 40, 16, 56]               0\n",
      "           MBConv-88           [-1, 40, 16, 56]               0\n",
      "           Conv2d-89          [-1, 240, 16, 56]           9,600\n",
      "      BatchNorm2d-90          [-1, 240, 16, 56]             480\n",
      "             SiLU-91          [-1, 240, 16, 56]               0\n",
      "           Conv2d-92          [-1, 240, 16, 56]           2,160\n",
      "      BatchNorm2d-93          [-1, 240, 16, 56]             480\n",
      "             SiLU-94          [-1, 240, 16, 56]               0\n",
      "AdaptiveAvgPool2d-95            [-1, 240, 1, 1]               0\n",
      "           Conv2d-96             [-1, 10, 1, 1]           2,410\n",
      "             SiLU-97             [-1, 10, 1, 1]               0\n",
      "           Conv2d-98            [-1, 240, 1, 1]           2,640\n",
      "          Sigmoid-99            [-1, 240, 1, 1]               0\n",
      "SqueezeExcitation-100          [-1, 240, 16, 56]               0\n",
      "          Conv2d-101           [-1, 40, 16, 56]           9,600\n",
      "     BatchNorm2d-102           [-1, 40, 16, 56]              80\n",
      " StochasticDepth-103           [-1, 40, 16, 56]               0\n",
      "          MBConv-104           [-1, 40, 16, 56]               0\n",
      "          Conv2d-105          [-1, 240, 16, 56]           9,600\n",
      "     BatchNorm2d-106          [-1, 240, 16, 56]             480\n",
      "            SiLU-107          [-1, 240, 16, 56]               0\n",
      "          Conv2d-108          [-1, 240, 16, 56]           2,160\n",
      "     BatchNorm2d-109          [-1, 240, 16, 56]             480\n",
      "            SiLU-110          [-1, 240, 16, 56]               0\n",
      "AdaptiveAvgPool2d-111            [-1, 240, 1, 1]               0\n",
      "          Conv2d-112             [-1, 10, 1, 1]           2,410\n",
      "            SiLU-113             [-1, 10, 1, 1]               0\n",
      "          Conv2d-114            [-1, 240, 1, 1]           2,640\n",
      "         Sigmoid-115            [-1, 240, 1, 1]               0\n",
      "SqueezeExcitation-116          [-1, 240, 16, 56]               0\n",
      "          Conv2d-117           [-1, 40, 16, 56]           9,600\n",
      "     BatchNorm2d-118           [-1, 40, 16, 56]              80\n",
      " StochasticDepth-119           [-1, 40, 16, 56]               0\n",
      "          MBConv-120           [-1, 40, 16, 56]               0\n",
      "          Conv2d-121          [-1, 240, 16, 56]           9,600\n",
      "     BatchNorm2d-122          [-1, 240, 16, 56]             480\n",
      "            SiLU-123          [-1, 240, 16, 56]               0\n",
      "          Conv2d-124           [-1, 240, 8, 28]           6,000\n",
      "     BatchNorm2d-125           [-1, 240, 8, 28]             480\n",
      "            SiLU-126           [-1, 240, 8, 28]               0\n",
      "AdaptiveAvgPool2d-127            [-1, 240, 1, 1]               0\n",
      "          Conv2d-128             [-1, 10, 1, 1]           2,410\n",
      "            SiLU-129             [-1, 10, 1, 1]               0\n",
      "          Conv2d-130            [-1, 240, 1, 1]           2,640\n",
      "         Sigmoid-131            [-1, 240, 1, 1]               0\n",
      "SqueezeExcitation-132           [-1, 240, 8, 28]               0\n",
      "          Conv2d-133            [-1, 64, 8, 28]          15,360\n",
      "     BatchNorm2d-134            [-1, 64, 8, 28]             128\n",
      "          MBConv-135            [-1, 64, 8, 28]               0\n",
      "          Conv2d-136           [-1, 384, 8, 28]          24,576\n",
      "     BatchNorm2d-137           [-1, 384, 8, 28]             768\n",
      "            SiLU-138           [-1, 384, 8, 28]               0\n",
      "          Conv2d-139           [-1, 384, 8, 28]           9,600\n",
      "     BatchNorm2d-140           [-1, 384, 8, 28]             768\n",
      "            SiLU-141           [-1, 384, 8, 28]               0\n",
      "AdaptiveAvgPool2d-142            [-1, 384, 1, 1]               0\n",
      "          Conv2d-143             [-1, 16, 1, 1]           6,160\n",
      "            SiLU-144             [-1, 16, 1, 1]               0\n",
      "          Conv2d-145            [-1, 384, 1, 1]           6,528\n",
      "         Sigmoid-146            [-1, 384, 1, 1]               0\n",
      "SqueezeExcitation-147           [-1, 384, 8, 28]               0\n",
      "          Conv2d-148            [-1, 64, 8, 28]          24,576\n",
      "     BatchNorm2d-149            [-1, 64, 8, 28]             128\n",
      " StochasticDepth-150            [-1, 64, 8, 28]               0\n",
      "          MBConv-151            [-1, 64, 8, 28]               0\n",
      "          Conv2d-152           [-1, 384, 8, 28]          24,576\n",
      "     BatchNorm2d-153           [-1, 384, 8, 28]             768\n",
      "            SiLU-154           [-1, 384, 8, 28]               0\n",
      "          Conv2d-155           [-1, 384, 8, 28]           9,600\n",
      "     BatchNorm2d-156           [-1, 384, 8, 28]             768\n",
      "            SiLU-157           [-1, 384, 8, 28]               0\n",
      "AdaptiveAvgPool2d-158            [-1, 384, 1, 1]               0\n",
      "          Conv2d-159             [-1, 16, 1, 1]           6,160\n",
      "            SiLU-160             [-1, 16, 1, 1]               0\n",
      "          Conv2d-161            [-1, 384, 1, 1]           6,528\n",
      "         Sigmoid-162            [-1, 384, 1, 1]               0\n",
      "SqueezeExcitation-163           [-1, 384, 8, 28]               0\n",
      "          Conv2d-164            [-1, 64, 8, 28]          24,576\n",
      "     BatchNorm2d-165            [-1, 64, 8, 28]             128\n",
      " StochasticDepth-166            [-1, 64, 8, 28]               0\n",
      "          MBConv-167            [-1, 64, 8, 28]               0\n",
      "          Conv2d-168           [-1, 384, 8, 28]          24,576\n",
      "     BatchNorm2d-169           [-1, 384, 8, 28]             768\n",
      "            SiLU-170           [-1, 384, 8, 28]               0\n",
      "          Conv2d-171           [-1, 384, 8, 28]           9,600\n",
      "     BatchNorm2d-172           [-1, 384, 8, 28]             768\n",
      "            SiLU-173           [-1, 384, 8, 28]               0\n",
      "AdaptiveAvgPool2d-174            [-1, 384, 1, 1]               0\n",
      "          Conv2d-175             [-1, 16, 1, 1]           6,160\n",
      "            SiLU-176             [-1, 16, 1, 1]               0\n",
      "          Conv2d-177            [-1, 384, 1, 1]           6,528\n",
      "         Sigmoid-178            [-1, 384, 1, 1]               0\n",
      "SqueezeExcitation-179           [-1, 384, 8, 28]               0\n",
      "          Conv2d-180            [-1, 64, 8, 28]          24,576\n",
      "     BatchNorm2d-181            [-1, 64, 8, 28]             128\n",
      " StochasticDepth-182            [-1, 64, 8, 28]               0\n",
      "          MBConv-183            [-1, 64, 8, 28]               0\n",
      "          Conv2d-184           [-1, 384, 8, 28]          24,576\n",
      "     BatchNorm2d-185           [-1, 384, 8, 28]             768\n",
      "            SiLU-186           [-1, 384, 8, 28]               0\n",
      "          Conv2d-187           [-1, 384, 8, 28]           9,600\n",
      "     BatchNorm2d-188           [-1, 384, 8, 28]             768\n",
      "            SiLU-189           [-1, 384, 8, 28]               0\n",
      "AdaptiveAvgPool2d-190            [-1, 384, 1, 1]               0\n",
      "          Conv2d-191             [-1, 16, 1, 1]           6,160\n",
      "            SiLU-192             [-1, 16, 1, 1]               0\n",
      "          Conv2d-193            [-1, 384, 1, 1]           6,528\n",
      "         Sigmoid-194            [-1, 384, 1, 1]               0\n",
      "SqueezeExcitation-195           [-1, 384, 8, 28]               0\n",
      "          Conv2d-196            [-1, 64, 8, 28]          24,576\n",
      "     BatchNorm2d-197            [-1, 64, 8, 28]             128\n",
      " StochasticDepth-198            [-1, 64, 8, 28]               0\n",
      "          MBConv-199            [-1, 64, 8, 28]               0\n",
      "          Conv2d-200           [-1, 384, 8, 28]          24,576\n",
      "     BatchNorm2d-201           [-1, 384, 8, 28]             768\n",
      "            SiLU-202           [-1, 384, 8, 28]               0\n",
      "          Conv2d-203           [-1, 384, 4, 14]           3,456\n",
      "     BatchNorm2d-204           [-1, 384, 4, 14]             768\n",
      "            SiLU-205           [-1, 384, 4, 14]               0\n",
      "AdaptiveAvgPool2d-206            [-1, 384, 1, 1]               0\n",
      "          Conv2d-207             [-1, 16, 1, 1]           6,160\n",
      "            SiLU-208             [-1, 16, 1, 1]               0\n",
      "          Conv2d-209            [-1, 384, 1, 1]           6,528\n",
      "         Sigmoid-210            [-1, 384, 1, 1]               0\n",
      "SqueezeExcitation-211           [-1, 384, 4, 14]               0\n",
      "          Conv2d-212           [-1, 128, 4, 14]          49,152\n",
      "     BatchNorm2d-213           [-1, 128, 4, 14]             256\n",
      "          MBConv-214           [-1, 128, 4, 14]               0\n",
      "          Conv2d-215           [-1, 768, 4, 14]          98,304\n",
      "     BatchNorm2d-216           [-1, 768, 4, 14]           1,536\n",
      "            SiLU-217           [-1, 768, 4, 14]               0\n",
      "          Conv2d-218           [-1, 768, 4, 14]           6,912\n",
      "     BatchNorm2d-219           [-1, 768, 4, 14]           1,536\n",
      "            SiLU-220           [-1, 768, 4, 14]               0\n",
      "AdaptiveAvgPool2d-221            [-1, 768, 1, 1]               0\n",
      "          Conv2d-222             [-1, 32, 1, 1]          24,608\n",
      "            SiLU-223             [-1, 32, 1, 1]               0\n",
      "          Conv2d-224            [-1, 768, 1, 1]          25,344\n",
      "         Sigmoid-225            [-1, 768, 1, 1]               0\n",
      "SqueezeExcitation-226           [-1, 768, 4, 14]               0\n",
      "          Conv2d-227           [-1, 128, 4, 14]          98,304\n",
      "     BatchNorm2d-228           [-1, 128, 4, 14]             256\n",
      " StochasticDepth-229           [-1, 128, 4, 14]               0\n",
      "          MBConv-230           [-1, 128, 4, 14]               0\n",
      "          Conv2d-231           [-1, 768, 4, 14]          98,304\n",
      "     BatchNorm2d-232           [-1, 768, 4, 14]           1,536\n",
      "            SiLU-233           [-1, 768, 4, 14]               0\n",
      "          Conv2d-234           [-1, 768, 4, 14]           6,912\n",
      "     BatchNorm2d-235           [-1, 768, 4, 14]           1,536\n",
      "            SiLU-236           [-1, 768, 4, 14]               0\n",
      "AdaptiveAvgPool2d-237            [-1, 768, 1, 1]               0\n",
      "          Conv2d-238             [-1, 32, 1, 1]          24,608\n",
      "            SiLU-239             [-1, 32, 1, 1]               0\n",
      "          Conv2d-240            [-1, 768, 1, 1]          25,344\n",
      "         Sigmoid-241            [-1, 768, 1, 1]               0\n",
      "SqueezeExcitation-242           [-1, 768, 4, 14]               0\n",
      "          Conv2d-243           [-1, 128, 4, 14]          98,304\n",
      "     BatchNorm2d-244           [-1, 128, 4, 14]             256\n",
      " StochasticDepth-245           [-1, 128, 4, 14]               0\n",
      "          MBConv-246           [-1, 128, 4, 14]               0\n",
      "          Conv2d-247           [-1, 768, 4, 14]          98,304\n",
      "     BatchNorm2d-248           [-1, 768, 4, 14]           1,536\n",
      "            SiLU-249           [-1, 768, 4, 14]               0\n",
      "          Conv2d-250           [-1, 768, 4, 14]           6,912\n",
      "     BatchNorm2d-251           [-1, 768, 4, 14]           1,536\n",
      "            SiLU-252           [-1, 768, 4, 14]               0\n",
      "AdaptiveAvgPool2d-253            [-1, 768, 1, 1]               0\n",
      "          Conv2d-254             [-1, 32, 1, 1]          24,608\n",
      "            SiLU-255             [-1, 32, 1, 1]               0\n",
      "          Conv2d-256            [-1, 768, 1, 1]          25,344\n",
      "         Sigmoid-257            [-1, 768, 1, 1]               0\n",
      "SqueezeExcitation-258           [-1, 768, 4, 14]               0\n",
      "          Conv2d-259           [-1, 128, 4, 14]          98,304\n",
      "     BatchNorm2d-260           [-1, 128, 4, 14]             256\n",
      " StochasticDepth-261           [-1, 128, 4, 14]               0\n",
      "          MBConv-262           [-1, 128, 4, 14]               0\n",
      "          Conv2d-263           [-1, 768, 4, 14]          98,304\n",
      "     BatchNorm2d-264           [-1, 768, 4, 14]           1,536\n",
      "            SiLU-265           [-1, 768, 4, 14]               0\n",
      "          Conv2d-266           [-1, 768, 4, 14]           6,912\n",
      "     BatchNorm2d-267           [-1, 768, 4, 14]           1,536\n",
      "            SiLU-268           [-1, 768, 4, 14]               0\n",
      "AdaptiveAvgPool2d-269            [-1, 768, 1, 1]               0\n",
      "          Conv2d-270             [-1, 32, 1, 1]          24,608\n",
      "            SiLU-271             [-1, 32, 1, 1]               0\n",
      "          Conv2d-272            [-1, 768, 1, 1]          25,344\n",
      "         Sigmoid-273            [-1, 768, 1, 1]               0\n",
      "SqueezeExcitation-274           [-1, 768, 4, 14]               0\n",
      "          Conv2d-275           [-1, 128, 4, 14]          98,304\n",
      "     BatchNorm2d-276           [-1, 128, 4, 14]             256\n",
      " StochasticDepth-277           [-1, 128, 4, 14]               0\n",
      "          MBConv-278           [-1, 128, 4, 14]               0\n",
      "          Conv2d-279           [-1, 768, 4, 14]          98,304\n",
      "     BatchNorm2d-280           [-1, 768, 4, 14]           1,536\n",
      "            SiLU-281           [-1, 768, 4, 14]               0\n",
      "          Conv2d-282           [-1, 768, 4, 14]           6,912\n",
      "     BatchNorm2d-283           [-1, 768, 4, 14]           1,536\n",
      "            SiLU-284           [-1, 768, 4, 14]               0\n",
      "AdaptiveAvgPool2d-285            [-1, 768, 1, 1]               0\n",
      "          Conv2d-286             [-1, 32, 1, 1]          24,608\n",
      "            SiLU-287             [-1, 32, 1, 1]               0\n",
      "          Conv2d-288            [-1, 768, 1, 1]          25,344\n",
      "         Sigmoid-289            [-1, 768, 1, 1]               0\n",
      "SqueezeExcitation-290           [-1, 768, 4, 14]               0\n",
      "          Conv2d-291           [-1, 128, 4, 14]          98,304\n",
      "     BatchNorm2d-292           [-1, 128, 4, 14]             256\n",
      " StochasticDepth-293           [-1, 128, 4, 14]               0\n",
      "          MBConv-294           [-1, 128, 4, 14]               0\n",
      "          Conv2d-295           [-1, 768, 4, 14]          98,304\n",
      "     BatchNorm2d-296           [-1, 768, 4, 14]           1,536\n",
      "            SiLU-297           [-1, 768, 4, 14]               0\n",
      "          Conv2d-298           [-1, 768, 4, 14]           6,912\n",
      "     BatchNorm2d-299           [-1, 768, 4, 14]           1,536\n",
      "            SiLU-300           [-1, 768, 4, 14]               0\n",
      "AdaptiveAvgPool2d-301            [-1, 768, 1, 1]               0\n",
      "          Conv2d-302             [-1, 32, 1, 1]          24,608\n",
      "            SiLU-303             [-1, 32, 1, 1]               0\n",
      "          Conv2d-304            [-1, 768, 1, 1]          25,344\n",
      "         Sigmoid-305            [-1, 768, 1, 1]               0\n",
      "SqueezeExcitation-306           [-1, 768, 4, 14]               0\n",
      "          Conv2d-307           [-1, 128, 4, 14]          98,304\n",
      "     BatchNorm2d-308           [-1, 128, 4, 14]             256\n",
      " StochasticDepth-309           [-1, 128, 4, 14]               0\n",
      "          MBConv-310           [-1, 128, 4, 14]               0\n",
      "          Conv2d-311           [-1, 768, 4, 14]          98,304\n",
      "     BatchNorm2d-312           [-1, 768, 4, 14]           1,536\n",
      "            SiLU-313           [-1, 768, 4, 14]               0\n",
      "          Conv2d-314           [-1, 768, 4, 14]          19,200\n",
      "     BatchNorm2d-315           [-1, 768, 4, 14]           1,536\n",
      "            SiLU-316           [-1, 768, 4, 14]               0\n",
      "AdaptiveAvgPool2d-317            [-1, 768, 1, 1]               0\n",
      "          Conv2d-318             [-1, 32, 1, 1]          24,608\n",
      "            SiLU-319             [-1, 32, 1, 1]               0\n",
      "          Conv2d-320            [-1, 768, 1, 1]          25,344\n",
      "         Sigmoid-321            [-1, 768, 1, 1]               0\n",
      "SqueezeExcitation-322           [-1, 768, 4, 14]               0\n",
      "          Conv2d-323           [-1, 176, 4, 14]         135,168\n",
      "     BatchNorm2d-324           [-1, 176, 4, 14]             352\n",
      "          MBConv-325           [-1, 176, 4, 14]               0\n",
      "          Conv2d-326          [-1, 1056, 4, 14]         185,856\n",
      "     BatchNorm2d-327          [-1, 1056, 4, 14]           2,112\n",
      "            SiLU-328          [-1, 1056, 4, 14]               0\n",
      "          Conv2d-329          [-1, 1056, 4, 14]          26,400\n",
      "     BatchNorm2d-330          [-1, 1056, 4, 14]           2,112\n",
      "            SiLU-331          [-1, 1056, 4, 14]               0\n",
      "AdaptiveAvgPool2d-332           [-1, 1056, 1, 1]               0\n",
      "          Conv2d-333             [-1, 44, 1, 1]          46,508\n",
      "            SiLU-334             [-1, 44, 1, 1]               0\n",
      "          Conv2d-335           [-1, 1056, 1, 1]          47,520\n",
      "         Sigmoid-336           [-1, 1056, 1, 1]               0\n",
      "SqueezeExcitation-337          [-1, 1056, 4, 14]               0\n",
      "          Conv2d-338           [-1, 176, 4, 14]         185,856\n",
      "     BatchNorm2d-339           [-1, 176, 4, 14]             352\n",
      " StochasticDepth-340           [-1, 176, 4, 14]               0\n",
      "          MBConv-341           [-1, 176, 4, 14]               0\n",
      "          Conv2d-342          [-1, 1056, 4, 14]         185,856\n",
      "     BatchNorm2d-343          [-1, 1056, 4, 14]           2,112\n",
      "            SiLU-344          [-1, 1056, 4, 14]               0\n",
      "          Conv2d-345          [-1, 1056, 4, 14]          26,400\n",
      "     BatchNorm2d-346          [-1, 1056, 4, 14]           2,112\n",
      "            SiLU-347          [-1, 1056, 4, 14]               0\n",
      "AdaptiveAvgPool2d-348           [-1, 1056, 1, 1]               0\n",
      "          Conv2d-349             [-1, 44, 1, 1]          46,508\n",
      "            SiLU-350             [-1, 44, 1, 1]               0\n",
      "          Conv2d-351           [-1, 1056, 1, 1]          47,520\n",
      "         Sigmoid-352           [-1, 1056, 1, 1]               0\n",
      "SqueezeExcitation-353          [-1, 1056, 4, 14]               0\n",
      "          Conv2d-354           [-1, 176, 4, 14]         185,856\n",
      "     BatchNorm2d-355           [-1, 176, 4, 14]             352\n",
      " StochasticDepth-356           [-1, 176, 4, 14]               0\n",
      "          MBConv-357           [-1, 176, 4, 14]               0\n",
      "          Conv2d-358          [-1, 1056, 4, 14]         185,856\n",
      "     BatchNorm2d-359          [-1, 1056, 4, 14]           2,112\n",
      "            SiLU-360          [-1, 1056, 4, 14]               0\n",
      "          Conv2d-361          [-1, 1056, 4, 14]          26,400\n",
      "     BatchNorm2d-362          [-1, 1056, 4, 14]           2,112\n",
      "            SiLU-363          [-1, 1056, 4, 14]               0\n",
      "AdaptiveAvgPool2d-364           [-1, 1056, 1, 1]               0\n",
      "          Conv2d-365             [-1, 44, 1, 1]          46,508\n",
      "            SiLU-366             [-1, 44, 1, 1]               0\n",
      "          Conv2d-367           [-1, 1056, 1, 1]          47,520\n",
      "         Sigmoid-368           [-1, 1056, 1, 1]               0\n",
      "SqueezeExcitation-369          [-1, 1056, 4, 14]               0\n",
      "          Conv2d-370           [-1, 176, 4, 14]         185,856\n",
      "     BatchNorm2d-371           [-1, 176, 4, 14]             352\n",
      " StochasticDepth-372           [-1, 176, 4, 14]               0\n",
      "          MBConv-373           [-1, 176, 4, 14]               0\n",
      "          Conv2d-374          [-1, 1056, 4, 14]         185,856\n",
      "     BatchNorm2d-375          [-1, 1056, 4, 14]           2,112\n",
      "            SiLU-376          [-1, 1056, 4, 14]               0\n",
      "          Conv2d-377          [-1, 1056, 4, 14]          26,400\n",
      "     BatchNorm2d-378          [-1, 1056, 4, 14]           2,112\n",
      "            SiLU-379          [-1, 1056, 4, 14]               0\n",
      "AdaptiveAvgPool2d-380           [-1, 1056, 1, 1]               0\n",
      "          Conv2d-381             [-1, 44, 1, 1]          46,508\n",
      "            SiLU-382             [-1, 44, 1, 1]               0\n",
      "          Conv2d-383           [-1, 1056, 1, 1]          47,520\n",
      "         Sigmoid-384           [-1, 1056, 1, 1]               0\n",
      "SqueezeExcitation-385          [-1, 1056, 4, 14]               0\n",
      "          Conv2d-386           [-1, 176, 4, 14]         185,856\n",
      "     BatchNorm2d-387           [-1, 176, 4, 14]             352\n",
      " StochasticDepth-388           [-1, 176, 4, 14]               0\n",
      "          MBConv-389           [-1, 176, 4, 14]               0\n",
      "          Conv2d-390          [-1, 1056, 4, 14]         185,856\n",
      "     BatchNorm2d-391          [-1, 1056, 4, 14]           2,112\n",
      "            SiLU-392          [-1, 1056, 4, 14]               0\n",
      "          Conv2d-393          [-1, 1056, 4, 14]          26,400\n",
      "     BatchNorm2d-394          [-1, 1056, 4, 14]           2,112\n",
      "            SiLU-395          [-1, 1056, 4, 14]               0\n",
      "AdaptiveAvgPool2d-396           [-1, 1056, 1, 1]               0\n",
      "          Conv2d-397             [-1, 44, 1, 1]          46,508\n",
      "            SiLU-398             [-1, 44, 1, 1]               0\n",
      "          Conv2d-399           [-1, 1056, 1, 1]          47,520\n",
      "         Sigmoid-400           [-1, 1056, 1, 1]               0\n",
      "SqueezeExcitation-401          [-1, 1056, 4, 14]               0\n",
      "          Conv2d-402           [-1, 176, 4, 14]         185,856\n",
      "     BatchNorm2d-403           [-1, 176, 4, 14]             352\n",
      " StochasticDepth-404           [-1, 176, 4, 14]               0\n",
      "          MBConv-405           [-1, 176, 4, 14]               0\n",
      "          Conv2d-406          [-1, 1056, 4, 14]         185,856\n",
      "     BatchNorm2d-407          [-1, 1056, 4, 14]           2,112\n",
      "            SiLU-408          [-1, 1056, 4, 14]               0\n",
      "          Conv2d-409          [-1, 1056, 4, 14]          26,400\n",
      "     BatchNorm2d-410          [-1, 1056, 4, 14]           2,112\n",
      "            SiLU-411          [-1, 1056, 4, 14]               0\n",
      "AdaptiveAvgPool2d-412           [-1, 1056, 1, 1]               0\n",
      "          Conv2d-413             [-1, 44, 1, 1]          46,508\n",
      "            SiLU-414             [-1, 44, 1, 1]               0\n",
      "          Conv2d-415           [-1, 1056, 1, 1]          47,520\n",
      "         Sigmoid-416           [-1, 1056, 1, 1]               0\n",
      "SqueezeExcitation-417          [-1, 1056, 4, 14]               0\n",
      "          Conv2d-418           [-1, 176, 4, 14]         185,856\n",
      "     BatchNorm2d-419           [-1, 176, 4, 14]             352\n",
      " StochasticDepth-420           [-1, 176, 4, 14]               0\n",
      "          MBConv-421           [-1, 176, 4, 14]               0\n",
      "          Conv2d-422          [-1, 1056, 4, 14]         185,856\n",
      "     BatchNorm2d-423          [-1, 1056, 4, 14]           2,112\n",
      "            SiLU-424          [-1, 1056, 4, 14]               0\n",
      "          Conv2d-425           [-1, 1056, 2, 7]          26,400\n",
      "     BatchNorm2d-426           [-1, 1056, 2, 7]           2,112\n",
      "            SiLU-427           [-1, 1056, 2, 7]               0\n",
      "AdaptiveAvgPool2d-428           [-1, 1056, 1, 1]               0\n",
      "          Conv2d-429             [-1, 44, 1, 1]          46,508\n",
      "            SiLU-430             [-1, 44, 1, 1]               0\n",
      "          Conv2d-431           [-1, 1056, 1, 1]          47,520\n",
      "         Sigmoid-432           [-1, 1056, 1, 1]               0\n",
      "SqueezeExcitation-433           [-1, 1056, 2, 7]               0\n",
      "          Conv2d-434            [-1, 304, 2, 7]         321,024\n",
      "     BatchNorm2d-435            [-1, 304, 2, 7]             608\n",
      "          MBConv-436            [-1, 304, 2, 7]               0\n",
      "          Conv2d-437           [-1, 1824, 2, 7]         554,496\n",
      "     BatchNorm2d-438           [-1, 1824, 2, 7]           3,648\n",
      "            SiLU-439           [-1, 1824, 2, 7]               0\n",
      "          Conv2d-440           [-1, 1824, 2, 7]          45,600\n",
      "     BatchNorm2d-441           [-1, 1824, 2, 7]           3,648\n",
      "            SiLU-442           [-1, 1824, 2, 7]               0\n",
      "AdaptiveAvgPool2d-443           [-1, 1824, 1, 1]               0\n",
      "          Conv2d-444             [-1, 76, 1, 1]         138,700\n",
      "            SiLU-445             [-1, 76, 1, 1]               0\n",
      "          Conv2d-446           [-1, 1824, 1, 1]         140,448\n",
      "         Sigmoid-447           [-1, 1824, 1, 1]               0\n",
      "SqueezeExcitation-448           [-1, 1824, 2, 7]               0\n",
      "          Conv2d-449            [-1, 304, 2, 7]         554,496\n",
      "     BatchNorm2d-450            [-1, 304, 2, 7]             608\n",
      " StochasticDepth-451            [-1, 304, 2, 7]               0\n",
      "          MBConv-452            [-1, 304, 2, 7]               0\n",
      "          Conv2d-453           [-1, 1824, 2, 7]         554,496\n",
      "     BatchNorm2d-454           [-1, 1824, 2, 7]           3,648\n",
      "            SiLU-455           [-1, 1824, 2, 7]               0\n",
      "          Conv2d-456           [-1, 1824, 2, 7]          45,600\n",
      "     BatchNorm2d-457           [-1, 1824, 2, 7]           3,648\n",
      "            SiLU-458           [-1, 1824, 2, 7]               0\n",
      "AdaptiveAvgPool2d-459           [-1, 1824, 1, 1]               0\n",
      "          Conv2d-460             [-1, 76, 1, 1]         138,700\n",
      "            SiLU-461             [-1, 76, 1, 1]               0\n",
      "          Conv2d-462           [-1, 1824, 1, 1]         140,448\n",
      "         Sigmoid-463           [-1, 1824, 1, 1]               0\n",
      "SqueezeExcitation-464           [-1, 1824, 2, 7]               0\n",
      "          Conv2d-465            [-1, 304, 2, 7]         554,496\n",
      "     BatchNorm2d-466            [-1, 304, 2, 7]             608\n",
      " StochasticDepth-467            [-1, 304, 2, 7]               0\n",
      "          MBConv-468            [-1, 304, 2, 7]               0\n",
      "          Conv2d-469           [-1, 1824, 2, 7]         554,496\n",
      "     BatchNorm2d-470           [-1, 1824, 2, 7]           3,648\n",
      "            SiLU-471           [-1, 1824, 2, 7]               0\n",
      "          Conv2d-472           [-1, 1824, 2, 7]          45,600\n",
      "     BatchNorm2d-473           [-1, 1824, 2, 7]           3,648\n",
      "            SiLU-474           [-1, 1824, 2, 7]               0\n",
      "AdaptiveAvgPool2d-475           [-1, 1824, 1, 1]               0\n",
      "          Conv2d-476             [-1, 76, 1, 1]         138,700\n",
      "            SiLU-477             [-1, 76, 1, 1]               0\n",
      "          Conv2d-478           [-1, 1824, 1, 1]         140,448\n",
      "         Sigmoid-479           [-1, 1824, 1, 1]               0\n",
      "SqueezeExcitation-480           [-1, 1824, 2, 7]               0\n",
      "          Conv2d-481            [-1, 304, 2, 7]         554,496\n",
      "     BatchNorm2d-482            [-1, 304, 2, 7]             608\n",
      " StochasticDepth-483            [-1, 304, 2, 7]               0\n",
      "          MBConv-484            [-1, 304, 2, 7]               0\n",
      "          Conv2d-485           [-1, 1824, 2, 7]         554,496\n",
      "     BatchNorm2d-486           [-1, 1824, 2, 7]           3,648\n",
      "            SiLU-487           [-1, 1824, 2, 7]               0\n",
      "          Conv2d-488           [-1, 1824, 2, 7]          45,600\n",
      "     BatchNorm2d-489           [-1, 1824, 2, 7]           3,648\n",
      "            SiLU-490           [-1, 1824, 2, 7]               0\n",
      "AdaptiveAvgPool2d-491           [-1, 1824, 1, 1]               0\n",
      "          Conv2d-492             [-1, 76, 1, 1]         138,700\n",
      "            SiLU-493             [-1, 76, 1, 1]               0\n",
      "          Conv2d-494           [-1, 1824, 1, 1]         140,448\n",
      "         Sigmoid-495           [-1, 1824, 1, 1]               0\n",
      "SqueezeExcitation-496           [-1, 1824, 2, 7]               0\n",
      "          Conv2d-497            [-1, 304, 2, 7]         554,496\n",
      "     BatchNorm2d-498            [-1, 304, 2, 7]             608\n",
      " StochasticDepth-499            [-1, 304, 2, 7]               0\n",
      "          MBConv-500            [-1, 304, 2, 7]               0\n",
      "          Conv2d-501           [-1, 1824, 2, 7]         554,496\n",
      "     BatchNorm2d-502           [-1, 1824, 2, 7]           3,648\n",
      "            SiLU-503           [-1, 1824, 2, 7]               0\n",
      "          Conv2d-504           [-1, 1824, 2, 7]          45,600\n",
      "     BatchNorm2d-505           [-1, 1824, 2, 7]           3,648\n",
      "            SiLU-506           [-1, 1824, 2, 7]               0\n",
      "AdaptiveAvgPool2d-507           [-1, 1824, 1, 1]               0\n",
      "          Conv2d-508             [-1, 76, 1, 1]         138,700\n",
      "            SiLU-509             [-1, 76, 1, 1]               0\n",
      "          Conv2d-510           [-1, 1824, 1, 1]         140,448\n",
      "         Sigmoid-511           [-1, 1824, 1, 1]               0\n",
      "SqueezeExcitation-512           [-1, 1824, 2, 7]               0\n",
      "          Conv2d-513            [-1, 304, 2, 7]         554,496\n",
      "     BatchNorm2d-514            [-1, 304, 2, 7]             608\n",
      " StochasticDepth-515            [-1, 304, 2, 7]               0\n",
      "          MBConv-516            [-1, 304, 2, 7]               0\n",
      "          Conv2d-517           [-1, 1824, 2, 7]         554,496\n",
      "     BatchNorm2d-518           [-1, 1824, 2, 7]           3,648\n",
      "            SiLU-519           [-1, 1824, 2, 7]               0\n",
      "          Conv2d-520           [-1, 1824, 2, 7]          45,600\n",
      "     BatchNorm2d-521           [-1, 1824, 2, 7]           3,648\n",
      "            SiLU-522           [-1, 1824, 2, 7]               0\n",
      "AdaptiveAvgPool2d-523           [-1, 1824, 1, 1]               0\n",
      "          Conv2d-524             [-1, 76, 1, 1]         138,700\n",
      "            SiLU-525             [-1, 76, 1, 1]               0\n",
      "          Conv2d-526           [-1, 1824, 1, 1]         140,448\n",
      "         Sigmoid-527           [-1, 1824, 1, 1]               0\n",
      "SqueezeExcitation-528           [-1, 1824, 2, 7]               0\n",
      "          Conv2d-529            [-1, 304, 2, 7]         554,496\n",
      "     BatchNorm2d-530            [-1, 304, 2, 7]             608\n",
      " StochasticDepth-531            [-1, 304, 2, 7]               0\n",
      "          MBConv-532            [-1, 304, 2, 7]               0\n",
      "          Conv2d-533           [-1, 1824, 2, 7]         554,496\n",
      "     BatchNorm2d-534           [-1, 1824, 2, 7]           3,648\n",
      "            SiLU-535           [-1, 1824, 2, 7]               0\n",
      "          Conv2d-536           [-1, 1824, 2, 7]          45,600\n",
      "     BatchNorm2d-537           [-1, 1824, 2, 7]           3,648\n",
      "            SiLU-538           [-1, 1824, 2, 7]               0\n",
      "AdaptiveAvgPool2d-539           [-1, 1824, 1, 1]               0\n",
      "          Conv2d-540             [-1, 76, 1, 1]         138,700\n",
      "            SiLU-541             [-1, 76, 1, 1]               0\n",
      "          Conv2d-542           [-1, 1824, 1, 1]         140,448\n",
      "         Sigmoid-543           [-1, 1824, 1, 1]               0\n",
      "SqueezeExcitation-544           [-1, 1824, 2, 7]               0\n",
      "          Conv2d-545            [-1, 304, 2, 7]         554,496\n",
      "     BatchNorm2d-546            [-1, 304, 2, 7]             608\n",
      " StochasticDepth-547            [-1, 304, 2, 7]               0\n",
      "          MBConv-548            [-1, 304, 2, 7]               0\n",
      "          Conv2d-549           [-1, 1824, 2, 7]         554,496\n",
      "     BatchNorm2d-550           [-1, 1824, 2, 7]           3,648\n",
      "            SiLU-551           [-1, 1824, 2, 7]               0\n",
      "          Conv2d-552           [-1, 1824, 2, 7]          45,600\n",
      "     BatchNorm2d-553           [-1, 1824, 2, 7]           3,648\n",
      "            SiLU-554           [-1, 1824, 2, 7]               0\n",
      "AdaptiveAvgPool2d-555           [-1, 1824, 1, 1]               0\n",
      "          Conv2d-556             [-1, 76, 1, 1]         138,700\n",
      "            SiLU-557             [-1, 76, 1, 1]               0\n",
      "          Conv2d-558           [-1, 1824, 1, 1]         140,448\n",
      "         Sigmoid-559           [-1, 1824, 1, 1]               0\n",
      "SqueezeExcitation-560           [-1, 1824, 2, 7]               0\n",
      "          Conv2d-561            [-1, 304, 2, 7]         554,496\n",
      "     BatchNorm2d-562            [-1, 304, 2, 7]             608\n",
      " StochasticDepth-563            [-1, 304, 2, 7]               0\n",
      "          MBConv-564            [-1, 304, 2, 7]               0\n",
      "          Conv2d-565           [-1, 1824, 2, 7]         554,496\n",
      "     BatchNorm2d-566           [-1, 1824, 2, 7]           3,648\n",
      "            SiLU-567           [-1, 1824, 2, 7]               0\n",
      "          Conv2d-568           [-1, 1824, 2, 7]          16,416\n",
      "     BatchNorm2d-569           [-1, 1824, 2, 7]           3,648\n",
      "            SiLU-570           [-1, 1824, 2, 7]               0\n",
      "AdaptiveAvgPool2d-571           [-1, 1824, 1, 1]               0\n",
      "          Conv2d-572             [-1, 76, 1, 1]         138,700\n",
      "            SiLU-573             [-1, 76, 1, 1]               0\n",
      "          Conv2d-574           [-1, 1824, 1, 1]         140,448\n",
      "         Sigmoid-575           [-1, 1824, 1, 1]               0\n",
      "SqueezeExcitation-576           [-1, 1824, 2, 7]               0\n",
      "          Conv2d-577            [-1, 512, 2, 7]         933,888\n",
      "     BatchNorm2d-578            [-1, 512, 2, 7]           1,024\n",
      "          MBConv-579            [-1, 512, 2, 7]               0\n",
      "          Conv2d-580           [-1, 3072, 2, 7]       1,572,864\n",
      "     BatchNorm2d-581           [-1, 3072, 2, 7]           6,144\n",
      "            SiLU-582           [-1, 3072, 2, 7]               0\n",
      "          Conv2d-583           [-1, 3072, 2, 7]          27,648\n",
      "     BatchNorm2d-584           [-1, 3072, 2, 7]           6,144\n",
      "            SiLU-585           [-1, 3072, 2, 7]               0\n",
      "AdaptiveAvgPool2d-586           [-1, 3072, 1, 1]               0\n",
      "          Conv2d-587            [-1, 128, 1, 1]         393,344\n",
      "            SiLU-588            [-1, 128, 1, 1]               0\n",
      "          Conv2d-589           [-1, 3072, 1, 1]         396,288\n",
      "         Sigmoid-590           [-1, 3072, 1, 1]               0\n",
      "SqueezeExcitation-591           [-1, 3072, 2, 7]               0\n",
      "          Conv2d-592            [-1, 512, 2, 7]       1,572,864\n",
      "     BatchNorm2d-593            [-1, 512, 2, 7]           1,024\n",
      " StochasticDepth-594            [-1, 512, 2, 7]               0\n",
      "          MBConv-595            [-1, 512, 2, 7]               0\n",
      "          Conv2d-596           [-1, 3072, 2, 7]       1,572,864\n",
      "     BatchNorm2d-597           [-1, 3072, 2, 7]           6,144\n",
      "            SiLU-598           [-1, 3072, 2, 7]               0\n",
      "          Conv2d-599           [-1, 3072, 2, 7]          27,648\n",
      "     BatchNorm2d-600           [-1, 3072, 2, 7]           6,144\n",
      "            SiLU-601           [-1, 3072, 2, 7]               0\n",
      "AdaptiveAvgPool2d-602           [-1, 3072, 1, 1]               0\n",
      "          Conv2d-603            [-1, 128, 1, 1]         393,344\n",
      "            SiLU-604            [-1, 128, 1, 1]               0\n",
      "          Conv2d-605           [-1, 3072, 1, 1]         396,288\n",
      "         Sigmoid-606           [-1, 3072, 1, 1]               0\n",
      "SqueezeExcitation-607           [-1, 3072, 2, 7]               0\n",
      "          Conv2d-608            [-1, 512, 2, 7]       1,572,864\n",
      "     BatchNorm2d-609            [-1, 512, 2, 7]           1,024\n",
      " StochasticDepth-610            [-1, 512, 2, 7]               0\n",
      "          MBConv-611            [-1, 512, 2, 7]               0\n",
      "          Conv2d-612           [-1, 2048, 2, 7]       1,048,576\n",
      "     BatchNorm2d-613           [-1, 2048, 2, 7]           4,096\n",
      "            SiLU-614           [-1, 2048, 2, 7]               0\n",
      "AdaptiveAvgPool2d-615           [-1, 2048, 1, 1]               0\n",
      "         Dropout-616                 [-1, 2048]               0\n",
      "          Linear-617                 [-1, 1000]       2,049,000\n",
      "================================================================\n",
      "Total params: 30,389,784\n",
      "Trainable params: 30,389,784\n",
      "Non-trainable params: 0\n",
      "----------------------------------------------------------------\n",
      "Input size (MB): 0.16\n",
      "Forward/backward pass size (MB): 178.73\n",
      "Params size (MB): 115.93\n",
      "Estimated Total Size (MB): 294.82\n",
      "----------------------------------------------------------------\n"
     ]
    }
   ],
   "source": [
    "import torchvision.models as models\n",
    "eff_test = models.efficientnet_b5(pretrained=True)\n",
    "eff_test.cuda()\n",
    "summary_(eff_test,(3,64,224))"
   ]
  },
  {
   "cell_type": "code",
   "execution_count": 138,
   "id": "9b50a4a7",
   "metadata": {},
   "outputs": [],
   "source": [
    "class RecognitionModel_eff(nn.Module):\n",
    "    def __init__(self, num_chars=len(char2idx), rnn_hidden_size=256):\n",
    "        super(RecognitionModel_eff, self).__init__()\n",
    "        self.num_chars = num_chars\n",
    "        self.rnn_hidden_size = rnn_hidden_size\n",
    "        \n",
    "        # CNN Backbone = 사전학습된 resnet18 활용\n",
    "        # https://arxiv.org/abs/1512.03385\n",
    "        effnet = models.efficientnet_b5(pretrained=True)\n",
    "        # CNN Feature Extract\n",
    "        effnet_modules = list(effnet.features)[:-3]\n",
    "        self.feature_extract = nn.Sequential(\n",
    "            *effnet_modules,\n",
    "            nn.Conv2d(176, 256, kernel_size=(3,6), stride=1, padding=1),\n",
    "            nn.BatchNorm2d(256),\n",
    "            nn.ReLU(inplace=True)\n",
    "        )\n",
    "\n",
    "        self.linear1 = nn.Linear(1024, rnn_hidden_size)\n",
    "        \n",
    "        # RNN\n",
    "        self.rnn = nn.RNN(input_size=rnn_hidden_size, \n",
    "                            hidden_size=rnn_hidden_size,\n",
    "                            bidirectional=True, \n",
    "                            batch_first=True)\n",
    "        self.linear2 = nn.Linear(self.rnn_hidden_size*2, num_chars)\n",
    "        \n",
    "        \n",
    "    def forward(self, x):\n",
    "        # CNN\n",
    "        x = self.feature_extract(x) # [batch_size, channels, height, width]\n",
    "        x = x.permute(0, 3, 1, 2) # [batch_size, width, channels, height]\n",
    "         \n",
    "        batch_size = x.size(0)\n",
    "        T = x.size(1)\n",
    "        x = x.view(batch_size, T, -1) # [batch_size, T==width, num_features==channels*height]\n",
    "        x = self.linear1(x)\n",
    "        \n",
    "        # RNN\n",
    "        x, hidden = self.rnn(x)\n",
    "        \n",
    "        output = self.linear2(x)\n",
    "        output = output.permute(1, 0, 2) # [T==10, batch_size, num_classes==num_features]\n",
    "        \n",
    "        return output"
   ]
  },
  {
   "cell_type": "code",
   "execution_count": 140,
   "id": "02b5b91a",
   "metadata": {},
   "outputs": [
    {
     "name": "stdout",
     "output_type": "stream",
     "text": [
      "----------------------------------------------------------------\n",
      "        Layer (type)               Output Shape         Param #\n",
      "================================================================\n",
      "            Conv2d-1          [-1, 48, 32, 112]           1,296\n",
      "       BatchNorm2d-2          [-1, 48, 32, 112]              96\n",
      "              SiLU-3          [-1, 48, 32, 112]               0\n",
      "            Conv2d-4          [-1, 48, 32, 112]             432\n",
      "       BatchNorm2d-5          [-1, 48, 32, 112]              96\n",
      "              SiLU-6          [-1, 48, 32, 112]               0\n",
      " AdaptiveAvgPool2d-7             [-1, 48, 1, 1]               0\n",
      "            Conv2d-8             [-1, 12, 1, 1]             588\n",
      "              SiLU-9             [-1, 12, 1, 1]               0\n",
      "           Conv2d-10             [-1, 48, 1, 1]             624\n",
      "          Sigmoid-11             [-1, 48, 1, 1]               0\n",
      "SqueezeExcitation-12          [-1, 48, 32, 112]               0\n",
      "           Conv2d-13          [-1, 24, 32, 112]           1,152\n",
      "      BatchNorm2d-14          [-1, 24, 32, 112]              48\n",
      "           MBConv-15          [-1, 24, 32, 112]               0\n",
      "           Conv2d-16          [-1, 24, 32, 112]             216\n",
      "      BatchNorm2d-17          [-1, 24, 32, 112]              48\n",
      "             SiLU-18          [-1, 24, 32, 112]               0\n",
      "AdaptiveAvgPool2d-19             [-1, 24, 1, 1]               0\n",
      "           Conv2d-20              [-1, 6, 1, 1]             150\n",
      "             SiLU-21              [-1, 6, 1, 1]               0\n",
      "           Conv2d-22             [-1, 24, 1, 1]             168\n",
      "          Sigmoid-23             [-1, 24, 1, 1]               0\n",
      "SqueezeExcitation-24          [-1, 24, 32, 112]               0\n",
      "           Conv2d-25          [-1, 24, 32, 112]             576\n",
      "      BatchNorm2d-26          [-1, 24, 32, 112]              48\n",
      "  StochasticDepth-27          [-1, 24, 32, 112]               0\n",
      "           MBConv-28          [-1, 24, 32, 112]               0\n",
      "           Conv2d-29          [-1, 24, 32, 112]             216\n",
      "      BatchNorm2d-30          [-1, 24, 32, 112]              48\n",
      "             SiLU-31          [-1, 24, 32, 112]               0\n",
      "AdaptiveAvgPool2d-32             [-1, 24, 1, 1]               0\n",
      "           Conv2d-33              [-1, 6, 1, 1]             150\n",
      "             SiLU-34              [-1, 6, 1, 1]               0\n",
      "           Conv2d-35             [-1, 24, 1, 1]             168\n",
      "          Sigmoid-36             [-1, 24, 1, 1]               0\n",
      "SqueezeExcitation-37          [-1, 24, 32, 112]               0\n",
      "           Conv2d-38          [-1, 24, 32, 112]             576\n",
      "      BatchNorm2d-39          [-1, 24, 32, 112]              48\n",
      "  StochasticDepth-40          [-1, 24, 32, 112]               0\n",
      "           MBConv-41          [-1, 24, 32, 112]               0\n",
      "           Conv2d-42         [-1, 144, 32, 112]           3,456\n",
      "      BatchNorm2d-43         [-1, 144, 32, 112]             288\n",
      "             SiLU-44         [-1, 144, 32, 112]               0\n",
      "           Conv2d-45          [-1, 144, 16, 56]           1,296\n",
      "      BatchNorm2d-46          [-1, 144, 16, 56]             288\n",
      "             SiLU-47          [-1, 144, 16, 56]               0\n",
      "AdaptiveAvgPool2d-48            [-1, 144, 1, 1]               0\n",
      "           Conv2d-49              [-1, 6, 1, 1]             870\n",
      "             SiLU-50              [-1, 6, 1, 1]               0\n",
      "           Conv2d-51            [-1, 144, 1, 1]           1,008\n",
      "          Sigmoid-52            [-1, 144, 1, 1]               0\n",
      "SqueezeExcitation-53          [-1, 144, 16, 56]               0\n",
      "           Conv2d-54           [-1, 40, 16, 56]           5,760\n",
      "      BatchNorm2d-55           [-1, 40, 16, 56]              80\n",
      "           MBConv-56           [-1, 40, 16, 56]               0\n",
      "           Conv2d-57          [-1, 240, 16, 56]           9,600\n",
      "      BatchNorm2d-58          [-1, 240, 16, 56]             480\n",
      "             SiLU-59          [-1, 240, 16, 56]               0\n",
      "           Conv2d-60          [-1, 240, 16, 56]           2,160\n",
      "      BatchNorm2d-61          [-1, 240, 16, 56]             480\n",
      "             SiLU-62          [-1, 240, 16, 56]               0\n",
      "AdaptiveAvgPool2d-63            [-1, 240, 1, 1]               0\n",
      "           Conv2d-64             [-1, 10, 1, 1]           2,410\n",
      "             SiLU-65             [-1, 10, 1, 1]               0\n",
      "           Conv2d-66            [-1, 240, 1, 1]           2,640\n",
      "          Sigmoid-67            [-1, 240, 1, 1]               0\n",
      "SqueezeExcitation-68          [-1, 240, 16, 56]               0\n",
      "           Conv2d-69           [-1, 40, 16, 56]           9,600\n",
      "      BatchNorm2d-70           [-1, 40, 16, 56]              80\n",
      "  StochasticDepth-71           [-1, 40, 16, 56]               0\n",
      "           MBConv-72           [-1, 40, 16, 56]               0\n",
      "           Conv2d-73          [-1, 240, 16, 56]           9,600\n",
      "      BatchNorm2d-74          [-1, 240, 16, 56]             480\n",
      "             SiLU-75          [-1, 240, 16, 56]               0\n",
      "           Conv2d-76          [-1, 240, 16, 56]           2,160\n",
      "      BatchNorm2d-77          [-1, 240, 16, 56]             480\n",
      "             SiLU-78          [-1, 240, 16, 56]               0\n",
      "AdaptiveAvgPool2d-79            [-1, 240, 1, 1]               0\n",
      "           Conv2d-80             [-1, 10, 1, 1]           2,410\n",
      "             SiLU-81             [-1, 10, 1, 1]               0\n",
      "           Conv2d-82            [-1, 240, 1, 1]           2,640\n",
      "          Sigmoid-83            [-1, 240, 1, 1]               0\n",
      "SqueezeExcitation-84          [-1, 240, 16, 56]               0\n",
      "           Conv2d-85           [-1, 40, 16, 56]           9,600\n",
      "      BatchNorm2d-86           [-1, 40, 16, 56]              80\n",
      "  StochasticDepth-87           [-1, 40, 16, 56]               0\n",
      "           MBConv-88           [-1, 40, 16, 56]               0\n",
      "           Conv2d-89          [-1, 240, 16, 56]           9,600\n",
      "      BatchNorm2d-90          [-1, 240, 16, 56]             480\n",
      "             SiLU-91          [-1, 240, 16, 56]               0\n",
      "           Conv2d-92          [-1, 240, 16, 56]           2,160\n",
      "      BatchNorm2d-93          [-1, 240, 16, 56]             480\n",
      "             SiLU-94          [-1, 240, 16, 56]               0\n",
      "AdaptiveAvgPool2d-95            [-1, 240, 1, 1]               0\n",
      "           Conv2d-96             [-1, 10, 1, 1]           2,410\n",
      "             SiLU-97             [-1, 10, 1, 1]               0\n",
      "           Conv2d-98            [-1, 240, 1, 1]           2,640\n",
      "          Sigmoid-99            [-1, 240, 1, 1]               0\n",
      "SqueezeExcitation-100          [-1, 240, 16, 56]               0\n",
      "          Conv2d-101           [-1, 40, 16, 56]           9,600\n",
      "     BatchNorm2d-102           [-1, 40, 16, 56]              80\n",
      " StochasticDepth-103           [-1, 40, 16, 56]               0\n",
      "          MBConv-104           [-1, 40, 16, 56]               0\n",
      "          Conv2d-105          [-1, 240, 16, 56]           9,600\n",
      "     BatchNorm2d-106          [-1, 240, 16, 56]             480\n",
      "            SiLU-107          [-1, 240, 16, 56]               0\n",
      "          Conv2d-108          [-1, 240, 16, 56]           2,160\n",
      "     BatchNorm2d-109          [-1, 240, 16, 56]             480\n",
      "            SiLU-110          [-1, 240, 16, 56]               0\n",
      "AdaptiveAvgPool2d-111            [-1, 240, 1, 1]               0\n",
      "          Conv2d-112             [-1, 10, 1, 1]           2,410\n",
      "            SiLU-113             [-1, 10, 1, 1]               0\n",
      "          Conv2d-114            [-1, 240, 1, 1]           2,640\n",
      "         Sigmoid-115            [-1, 240, 1, 1]               0\n",
      "SqueezeExcitation-116          [-1, 240, 16, 56]               0\n",
      "          Conv2d-117           [-1, 40, 16, 56]           9,600\n",
      "     BatchNorm2d-118           [-1, 40, 16, 56]              80\n",
      " StochasticDepth-119           [-1, 40, 16, 56]               0\n",
      "          MBConv-120           [-1, 40, 16, 56]               0\n",
      "          Conv2d-121          [-1, 240, 16, 56]           9,600\n",
      "     BatchNorm2d-122          [-1, 240, 16, 56]             480\n",
      "            SiLU-123          [-1, 240, 16, 56]               0\n",
      "          Conv2d-124           [-1, 240, 8, 28]           6,000\n",
      "     BatchNorm2d-125           [-1, 240, 8, 28]             480\n",
      "            SiLU-126           [-1, 240, 8, 28]               0\n",
      "AdaptiveAvgPool2d-127            [-1, 240, 1, 1]               0\n",
      "          Conv2d-128             [-1, 10, 1, 1]           2,410\n",
      "            SiLU-129             [-1, 10, 1, 1]               0\n",
      "          Conv2d-130            [-1, 240, 1, 1]           2,640\n",
      "         Sigmoid-131            [-1, 240, 1, 1]               0\n",
      "SqueezeExcitation-132           [-1, 240, 8, 28]               0\n",
      "          Conv2d-133            [-1, 64, 8, 28]          15,360\n",
      "     BatchNorm2d-134            [-1, 64, 8, 28]             128\n",
      "          MBConv-135            [-1, 64, 8, 28]               0\n",
      "          Conv2d-136           [-1, 384, 8, 28]          24,576\n",
      "     BatchNorm2d-137           [-1, 384, 8, 28]             768\n",
      "            SiLU-138           [-1, 384, 8, 28]               0\n",
      "          Conv2d-139           [-1, 384, 8, 28]           9,600\n",
      "     BatchNorm2d-140           [-1, 384, 8, 28]             768\n",
      "            SiLU-141           [-1, 384, 8, 28]               0\n",
      "AdaptiveAvgPool2d-142            [-1, 384, 1, 1]               0\n",
      "          Conv2d-143             [-1, 16, 1, 1]           6,160\n",
      "            SiLU-144             [-1, 16, 1, 1]               0\n",
      "          Conv2d-145            [-1, 384, 1, 1]           6,528\n",
      "         Sigmoid-146            [-1, 384, 1, 1]               0\n",
      "SqueezeExcitation-147           [-1, 384, 8, 28]               0\n",
      "          Conv2d-148            [-1, 64, 8, 28]          24,576\n",
      "     BatchNorm2d-149            [-1, 64, 8, 28]             128\n",
      " StochasticDepth-150            [-1, 64, 8, 28]               0\n",
      "          MBConv-151            [-1, 64, 8, 28]               0\n",
      "          Conv2d-152           [-1, 384, 8, 28]          24,576\n",
      "     BatchNorm2d-153           [-1, 384, 8, 28]             768\n",
      "            SiLU-154           [-1, 384, 8, 28]               0\n",
      "          Conv2d-155           [-1, 384, 8, 28]           9,600\n",
      "     BatchNorm2d-156           [-1, 384, 8, 28]             768\n",
      "            SiLU-157           [-1, 384, 8, 28]               0\n",
      "AdaptiveAvgPool2d-158            [-1, 384, 1, 1]               0\n",
      "          Conv2d-159             [-1, 16, 1, 1]           6,160\n",
      "            SiLU-160             [-1, 16, 1, 1]               0\n",
      "          Conv2d-161            [-1, 384, 1, 1]           6,528\n",
      "         Sigmoid-162            [-1, 384, 1, 1]               0\n",
      "SqueezeExcitation-163           [-1, 384, 8, 28]               0\n",
      "          Conv2d-164            [-1, 64, 8, 28]          24,576\n",
      "     BatchNorm2d-165            [-1, 64, 8, 28]             128\n",
      " StochasticDepth-166            [-1, 64, 8, 28]               0\n",
      "          MBConv-167            [-1, 64, 8, 28]               0\n",
      "          Conv2d-168           [-1, 384, 8, 28]          24,576\n",
      "     BatchNorm2d-169           [-1, 384, 8, 28]             768\n",
      "            SiLU-170           [-1, 384, 8, 28]               0\n",
      "          Conv2d-171           [-1, 384, 8, 28]           9,600\n",
      "     BatchNorm2d-172           [-1, 384, 8, 28]             768\n",
      "            SiLU-173           [-1, 384, 8, 28]               0\n",
      "AdaptiveAvgPool2d-174            [-1, 384, 1, 1]               0\n",
      "          Conv2d-175             [-1, 16, 1, 1]           6,160\n",
      "            SiLU-176             [-1, 16, 1, 1]               0\n",
      "          Conv2d-177            [-1, 384, 1, 1]           6,528\n",
      "         Sigmoid-178            [-1, 384, 1, 1]               0\n",
      "SqueezeExcitation-179           [-1, 384, 8, 28]               0\n",
      "          Conv2d-180            [-1, 64, 8, 28]          24,576\n",
      "     BatchNorm2d-181            [-1, 64, 8, 28]             128\n",
      " StochasticDepth-182            [-1, 64, 8, 28]               0\n",
      "          MBConv-183            [-1, 64, 8, 28]               0\n",
      "          Conv2d-184           [-1, 384, 8, 28]          24,576\n",
      "     BatchNorm2d-185           [-1, 384, 8, 28]             768\n",
      "            SiLU-186           [-1, 384, 8, 28]               0\n",
      "          Conv2d-187           [-1, 384, 8, 28]           9,600\n",
      "     BatchNorm2d-188           [-1, 384, 8, 28]             768\n",
      "            SiLU-189           [-1, 384, 8, 28]               0\n",
      "AdaptiveAvgPool2d-190            [-1, 384, 1, 1]               0\n",
      "          Conv2d-191             [-1, 16, 1, 1]           6,160\n",
      "            SiLU-192             [-1, 16, 1, 1]               0\n",
      "          Conv2d-193            [-1, 384, 1, 1]           6,528\n",
      "         Sigmoid-194            [-1, 384, 1, 1]               0\n",
      "SqueezeExcitation-195           [-1, 384, 8, 28]               0\n",
      "          Conv2d-196            [-1, 64, 8, 28]          24,576\n",
      "     BatchNorm2d-197            [-1, 64, 8, 28]             128\n",
      " StochasticDepth-198            [-1, 64, 8, 28]               0\n",
      "          MBConv-199            [-1, 64, 8, 28]               0\n",
      "          Conv2d-200           [-1, 384, 8, 28]          24,576\n",
      "     BatchNorm2d-201           [-1, 384, 8, 28]             768\n",
      "            SiLU-202           [-1, 384, 8, 28]               0\n",
      "          Conv2d-203           [-1, 384, 4, 14]           3,456\n",
      "     BatchNorm2d-204           [-1, 384, 4, 14]             768\n",
      "            SiLU-205           [-1, 384, 4, 14]               0\n",
      "AdaptiveAvgPool2d-206            [-1, 384, 1, 1]               0\n",
      "          Conv2d-207             [-1, 16, 1, 1]           6,160\n",
      "            SiLU-208             [-1, 16, 1, 1]               0\n",
      "          Conv2d-209            [-1, 384, 1, 1]           6,528\n",
      "         Sigmoid-210            [-1, 384, 1, 1]               0\n",
      "SqueezeExcitation-211           [-1, 384, 4, 14]               0\n",
      "          Conv2d-212           [-1, 128, 4, 14]          49,152\n",
      "     BatchNorm2d-213           [-1, 128, 4, 14]             256\n",
      "          MBConv-214           [-1, 128, 4, 14]               0\n",
      "          Conv2d-215           [-1, 768, 4, 14]          98,304\n",
      "     BatchNorm2d-216           [-1, 768, 4, 14]           1,536\n",
      "            SiLU-217           [-1, 768, 4, 14]               0\n",
      "          Conv2d-218           [-1, 768, 4, 14]           6,912\n",
      "     BatchNorm2d-219           [-1, 768, 4, 14]           1,536\n",
      "            SiLU-220           [-1, 768, 4, 14]               0\n",
      "AdaptiveAvgPool2d-221            [-1, 768, 1, 1]               0\n",
      "          Conv2d-222             [-1, 32, 1, 1]          24,608\n",
      "            SiLU-223             [-1, 32, 1, 1]               0\n",
      "          Conv2d-224            [-1, 768, 1, 1]          25,344\n",
      "         Sigmoid-225            [-1, 768, 1, 1]               0\n",
      "SqueezeExcitation-226           [-1, 768, 4, 14]               0\n",
      "          Conv2d-227           [-1, 128, 4, 14]          98,304\n",
      "     BatchNorm2d-228           [-1, 128, 4, 14]             256\n",
      " StochasticDepth-229           [-1, 128, 4, 14]               0\n",
      "          MBConv-230           [-1, 128, 4, 14]               0\n",
      "          Conv2d-231           [-1, 768, 4, 14]          98,304\n",
      "     BatchNorm2d-232           [-1, 768, 4, 14]           1,536\n",
      "            SiLU-233           [-1, 768, 4, 14]               0\n",
      "          Conv2d-234           [-1, 768, 4, 14]           6,912\n",
      "     BatchNorm2d-235           [-1, 768, 4, 14]           1,536\n",
      "            SiLU-236           [-1, 768, 4, 14]               0\n",
      "AdaptiveAvgPool2d-237            [-1, 768, 1, 1]               0\n",
      "          Conv2d-238             [-1, 32, 1, 1]          24,608\n",
      "            SiLU-239             [-1, 32, 1, 1]               0\n",
      "          Conv2d-240            [-1, 768, 1, 1]          25,344\n",
      "         Sigmoid-241            [-1, 768, 1, 1]               0\n",
      "SqueezeExcitation-242           [-1, 768, 4, 14]               0\n",
      "          Conv2d-243           [-1, 128, 4, 14]          98,304\n",
      "     BatchNorm2d-244           [-1, 128, 4, 14]             256\n",
      " StochasticDepth-245           [-1, 128, 4, 14]               0\n",
      "          MBConv-246           [-1, 128, 4, 14]               0\n",
      "          Conv2d-247           [-1, 768, 4, 14]          98,304\n",
      "     BatchNorm2d-248           [-1, 768, 4, 14]           1,536\n",
      "            SiLU-249           [-1, 768, 4, 14]               0\n",
      "          Conv2d-250           [-1, 768, 4, 14]           6,912\n",
      "     BatchNorm2d-251           [-1, 768, 4, 14]           1,536\n",
      "            SiLU-252           [-1, 768, 4, 14]               0\n",
      "AdaptiveAvgPool2d-253            [-1, 768, 1, 1]               0\n",
      "          Conv2d-254             [-1, 32, 1, 1]          24,608\n",
      "            SiLU-255             [-1, 32, 1, 1]               0\n",
      "          Conv2d-256            [-1, 768, 1, 1]          25,344\n",
      "         Sigmoid-257            [-1, 768, 1, 1]               0\n",
      "SqueezeExcitation-258           [-1, 768, 4, 14]               0\n",
      "          Conv2d-259           [-1, 128, 4, 14]          98,304\n",
      "     BatchNorm2d-260           [-1, 128, 4, 14]             256\n",
      " StochasticDepth-261           [-1, 128, 4, 14]               0\n",
      "          MBConv-262           [-1, 128, 4, 14]               0\n",
      "          Conv2d-263           [-1, 768, 4, 14]          98,304\n",
      "     BatchNorm2d-264           [-1, 768, 4, 14]           1,536\n",
      "            SiLU-265           [-1, 768, 4, 14]               0\n",
      "          Conv2d-266           [-1, 768, 4, 14]           6,912\n",
      "     BatchNorm2d-267           [-1, 768, 4, 14]           1,536\n",
      "            SiLU-268           [-1, 768, 4, 14]               0\n",
      "AdaptiveAvgPool2d-269            [-1, 768, 1, 1]               0\n",
      "          Conv2d-270             [-1, 32, 1, 1]          24,608\n",
      "            SiLU-271             [-1, 32, 1, 1]               0\n",
      "          Conv2d-272            [-1, 768, 1, 1]          25,344\n",
      "         Sigmoid-273            [-1, 768, 1, 1]               0\n",
      "SqueezeExcitation-274           [-1, 768, 4, 14]               0\n",
      "          Conv2d-275           [-1, 128, 4, 14]          98,304\n",
      "     BatchNorm2d-276           [-1, 128, 4, 14]             256\n",
      " StochasticDepth-277           [-1, 128, 4, 14]               0\n",
      "          MBConv-278           [-1, 128, 4, 14]               0\n",
      "          Conv2d-279           [-1, 768, 4, 14]          98,304\n",
      "     BatchNorm2d-280           [-1, 768, 4, 14]           1,536\n",
      "            SiLU-281           [-1, 768, 4, 14]               0\n",
      "          Conv2d-282           [-1, 768, 4, 14]           6,912\n",
      "     BatchNorm2d-283           [-1, 768, 4, 14]           1,536\n",
      "            SiLU-284           [-1, 768, 4, 14]               0\n",
      "AdaptiveAvgPool2d-285            [-1, 768, 1, 1]               0\n",
      "          Conv2d-286             [-1, 32, 1, 1]          24,608\n",
      "            SiLU-287             [-1, 32, 1, 1]               0\n",
      "          Conv2d-288            [-1, 768, 1, 1]          25,344\n",
      "         Sigmoid-289            [-1, 768, 1, 1]               0\n",
      "SqueezeExcitation-290           [-1, 768, 4, 14]               0\n",
      "          Conv2d-291           [-1, 128, 4, 14]          98,304\n",
      "     BatchNorm2d-292           [-1, 128, 4, 14]             256\n",
      " StochasticDepth-293           [-1, 128, 4, 14]               0\n",
      "          MBConv-294           [-1, 128, 4, 14]               0\n",
      "          Conv2d-295           [-1, 768, 4, 14]          98,304\n",
      "     BatchNorm2d-296           [-1, 768, 4, 14]           1,536\n",
      "            SiLU-297           [-1, 768, 4, 14]               0\n",
      "          Conv2d-298           [-1, 768, 4, 14]           6,912\n",
      "     BatchNorm2d-299           [-1, 768, 4, 14]           1,536\n",
      "            SiLU-300           [-1, 768, 4, 14]               0\n",
      "AdaptiveAvgPool2d-301            [-1, 768, 1, 1]               0\n",
      "          Conv2d-302             [-1, 32, 1, 1]          24,608\n",
      "            SiLU-303             [-1, 32, 1, 1]               0\n",
      "          Conv2d-304            [-1, 768, 1, 1]          25,344\n",
      "         Sigmoid-305            [-1, 768, 1, 1]               0\n",
      "SqueezeExcitation-306           [-1, 768, 4, 14]               0\n",
      "          Conv2d-307           [-1, 128, 4, 14]          98,304\n",
      "     BatchNorm2d-308           [-1, 128, 4, 14]             256\n",
      " StochasticDepth-309           [-1, 128, 4, 14]               0\n",
      "          MBConv-310           [-1, 128, 4, 14]               0\n",
      "          Conv2d-311           [-1, 768, 4, 14]          98,304\n",
      "     BatchNorm2d-312           [-1, 768, 4, 14]           1,536\n",
      "            SiLU-313           [-1, 768, 4, 14]               0\n",
      "          Conv2d-314           [-1, 768, 4, 14]          19,200\n",
      "     BatchNorm2d-315           [-1, 768, 4, 14]           1,536\n",
      "            SiLU-316           [-1, 768, 4, 14]               0\n",
      "AdaptiveAvgPool2d-317            [-1, 768, 1, 1]               0\n",
      "          Conv2d-318             [-1, 32, 1, 1]          24,608\n",
      "            SiLU-319             [-1, 32, 1, 1]               0\n",
      "          Conv2d-320            [-1, 768, 1, 1]          25,344\n",
      "         Sigmoid-321            [-1, 768, 1, 1]               0\n",
      "SqueezeExcitation-322           [-1, 768, 4, 14]               0\n",
      "          Conv2d-323           [-1, 176, 4, 14]         135,168\n",
      "     BatchNorm2d-324           [-1, 176, 4, 14]             352\n",
      "          MBConv-325           [-1, 176, 4, 14]               0\n",
      "          Conv2d-326          [-1, 1056, 4, 14]         185,856\n",
      "     BatchNorm2d-327          [-1, 1056, 4, 14]           2,112\n",
      "            SiLU-328          [-1, 1056, 4, 14]               0\n",
      "          Conv2d-329          [-1, 1056, 4, 14]          26,400\n",
      "     BatchNorm2d-330          [-1, 1056, 4, 14]           2,112\n",
      "            SiLU-331          [-1, 1056, 4, 14]               0\n",
      "AdaptiveAvgPool2d-332           [-1, 1056, 1, 1]               0\n",
      "          Conv2d-333             [-1, 44, 1, 1]          46,508\n",
      "            SiLU-334             [-1, 44, 1, 1]               0\n",
      "          Conv2d-335           [-1, 1056, 1, 1]          47,520\n",
      "         Sigmoid-336           [-1, 1056, 1, 1]               0\n",
      "SqueezeExcitation-337          [-1, 1056, 4, 14]               0\n",
      "          Conv2d-338           [-1, 176, 4, 14]         185,856\n",
      "     BatchNorm2d-339           [-1, 176, 4, 14]             352\n",
      " StochasticDepth-340           [-1, 176, 4, 14]               0\n",
      "          MBConv-341           [-1, 176, 4, 14]               0\n",
      "          Conv2d-342          [-1, 1056, 4, 14]         185,856\n",
      "     BatchNorm2d-343          [-1, 1056, 4, 14]           2,112\n",
      "            SiLU-344          [-1, 1056, 4, 14]               0\n",
      "          Conv2d-345          [-1, 1056, 4, 14]          26,400\n",
      "     BatchNorm2d-346          [-1, 1056, 4, 14]           2,112\n",
      "            SiLU-347          [-1, 1056, 4, 14]               0\n",
      "AdaptiveAvgPool2d-348           [-1, 1056, 1, 1]               0\n",
      "          Conv2d-349             [-1, 44, 1, 1]          46,508\n",
      "            SiLU-350             [-1, 44, 1, 1]               0\n",
      "          Conv2d-351           [-1, 1056, 1, 1]          47,520\n",
      "         Sigmoid-352           [-1, 1056, 1, 1]               0\n",
      "SqueezeExcitation-353          [-1, 1056, 4, 14]               0\n",
      "          Conv2d-354           [-1, 176, 4, 14]         185,856\n",
      "     BatchNorm2d-355           [-1, 176, 4, 14]             352\n",
      " StochasticDepth-356           [-1, 176, 4, 14]               0\n",
      "          MBConv-357           [-1, 176, 4, 14]               0\n",
      "          Conv2d-358          [-1, 1056, 4, 14]         185,856\n",
      "     BatchNorm2d-359          [-1, 1056, 4, 14]           2,112\n",
      "            SiLU-360          [-1, 1056, 4, 14]               0\n",
      "          Conv2d-361          [-1, 1056, 4, 14]          26,400\n",
      "     BatchNorm2d-362          [-1, 1056, 4, 14]           2,112\n",
      "            SiLU-363          [-1, 1056, 4, 14]               0\n",
      "AdaptiveAvgPool2d-364           [-1, 1056, 1, 1]               0\n",
      "          Conv2d-365             [-1, 44, 1, 1]          46,508\n",
      "            SiLU-366             [-1, 44, 1, 1]               0\n",
      "          Conv2d-367           [-1, 1056, 1, 1]          47,520\n",
      "         Sigmoid-368           [-1, 1056, 1, 1]               0\n",
      "SqueezeExcitation-369          [-1, 1056, 4, 14]               0\n",
      "          Conv2d-370           [-1, 176, 4, 14]         185,856\n",
      "     BatchNorm2d-371           [-1, 176, 4, 14]             352\n",
      " StochasticDepth-372           [-1, 176, 4, 14]               0\n",
      "          MBConv-373           [-1, 176, 4, 14]               0\n",
      "          Conv2d-374          [-1, 1056, 4, 14]         185,856\n",
      "     BatchNorm2d-375          [-1, 1056, 4, 14]           2,112\n",
      "            SiLU-376          [-1, 1056, 4, 14]               0\n",
      "          Conv2d-377          [-1, 1056, 4, 14]          26,400\n",
      "     BatchNorm2d-378          [-1, 1056, 4, 14]           2,112\n",
      "            SiLU-379          [-1, 1056, 4, 14]               0\n",
      "AdaptiveAvgPool2d-380           [-1, 1056, 1, 1]               0\n",
      "          Conv2d-381             [-1, 44, 1, 1]          46,508\n",
      "            SiLU-382             [-1, 44, 1, 1]               0\n",
      "          Conv2d-383           [-1, 1056, 1, 1]          47,520\n",
      "         Sigmoid-384           [-1, 1056, 1, 1]               0\n",
      "SqueezeExcitation-385          [-1, 1056, 4, 14]               0\n",
      "          Conv2d-386           [-1, 176, 4, 14]         185,856\n",
      "     BatchNorm2d-387           [-1, 176, 4, 14]             352\n",
      " StochasticDepth-388           [-1, 176, 4, 14]               0\n",
      "          MBConv-389           [-1, 176, 4, 14]               0\n",
      "          Conv2d-390          [-1, 1056, 4, 14]         185,856\n",
      "     BatchNorm2d-391          [-1, 1056, 4, 14]           2,112\n",
      "            SiLU-392          [-1, 1056, 4, 14]               0\n",
      "          Conv2d-393          [-1, 1056, 4, 14]          26,400\n",
      "     BatchNorm2d-394          [-1, 1056, 4, 14]           2,112\n",
      "            SiLU-395          [-1, 1056, 4, 14]               0\n",
      "AdaptiveAvgPool2d-396           [-1, 1056, 1, 1]               0\n",
      "          Conv2d-397             [-1, 44, 1, 1]          46,508\n",
      "            SiLU-398             [-1, 44, 1, 1]               0\n",
      "          Conv2d-399           [-1, 1056, 1, 1]          47,520\n",
      "         Sigmoid-400           [-1, 1056, 1, 1]               0\n",
      "SqueezeExcitation-401          [-1, 1056, 4, 14]               0\n",
      "          Conv2d-402           [-1, 176, 4, 14]         185,856\n",
      "     BatchNorm2d-403           [-1, 176, 4, 14]             352\n",
      " StochasticDepth-404           [-1, 176, 4, 14]               0\n",
      "          MBConv-405           [-1, 176, 4, 14]               0\n",
      "          Conv2d-406          [-1, 1056, 4, 14]         185,856\n",
      "     BatchNorm2d-407          [-1, 1056, 4, 14]           2,112\n",
      "            SiLU-408          [-1, 1056, 4, 14]               0\n",
      "          Conv2d-409          [-1, 1056, 4, 14]          26,400\n",
      "     BatchNorm2d-410          [-1, 1056, 4, 14]           2,112\n",
      "            SiLU-411          [-1, 1056, 4, 14]               0\n",
      "AdaptiveAvgPool2d-412           [-1, 1056, 1, 1]               0\n",
      "          Conv2d-413             [-1, 44, 1, 1]          46,508\n",
      "            SiLU-414             [-1, 44, 1, 1]               0\n",
      "          Conv2d-415           [-1, 1056, 1, 1]          47,520\n",
      "         Sigmoid-416           [-1, 1056, 1, 1]               0\n",
      "SqueezeExcitation-417          [-1, 1056, 4, 14]               0\n",
      "          Conv2d-418           [-1, 176, 4, 14]         185,856\n",
      "     BatchNorm2d-419           [-1, 176, 4, 14]             352\n",
      " StochasticDepth-420           [-1, 176, 4, 14]               0\n",
      "          MBConv-421           [-1, 176, 4, 14]               0\n",
      "          Conv2d-422           [-1, 256, 4, 11]         811,264\n",
      "     BatchNorm2d-423           [-1, 256, 4, 11]             512\n",
      "            ReLU-424           [-1, 256, 4, 11]               0\n",
      "          Linear-425              [-1, 11, 256]         262,400\n",
      "             RNN-426  [[-1, 11, 512], [-1, 2, 256]]               0\n",
      "          Linear-427             [-1, 11, 2350]       1,205,550\n",
      "================================================================\n",
      "Total params: 7,657,638\n",
      "Trainable params: 7,657,638\n",
      "Non-trainable params: 0\n",
      "----------------------------------------------------------------\n",
      "Input size (MB): 0.16\n",
      "Forward/backward pass size (MB): 135.55\n",
      "Params size (MB): 29.21\n",
      "Estimated Total Size (MB): 164.92\n",
      "----------------------------------------------------------------\n"
     ]
    }
   ],
   "source": [
    "RecognitionModel_eff_test = RecognitionModel_eff()\n",
    "RecognitionModel_eff_test.cuda()\n",
    "summary_(RecognitionModel_eff_test,(3,64,224))\n",
    "#RecognitionModel_eff_test.state_dict().keys()"
   ]
  },
  {
   "cell_type": "code",
   "execution_count": null,
   "id": "b787e941",
   "metadata": {},
   "outputs": [],
   "source": [
    "RecognitionModel_test = RecognitionModel()\n",
    "RecognitionModel_test.cuda()\n",
    "summary_(RecognitionModel_test,(3,64,224))"
   ]
  },
  {
   "cell_type": "code",
   "execution_count": 63,
   "id": "f1125bf0",
   "metadata": {},
   "outputs": [],
   "source": [
    "class RecognitionModel(nn.Module):\n",
    "    def __init__(self, num_chars=len(char2idx), rnn_hidden_size=256):\n",
    "        super(RecognitionModel, self).__init__()\n",
    "        self.num_chars = num_chars\n",
    "        self.rnn_hidden_size = rnn_hidden_size\n",
    "        \n",
    "        # CNN Backbone = 사전학습된 resnet18 활용\n",
    "        # https://arxiv.org/abs/1512.03385\n",
    "        resnet = resnet18(pretrained=True)\n",
    "        # CNN Feature Extract\n",
    "        resnet_modules = list(resnet.children())[:-3]\n",
    "        self.feature_extract = nn.Sequential(\n",
    "            *resnet_modules,\n",
    "            nn.Conv2d(256, 256, kernel_size=(3,6), stride=1, padding=1),\n",
    "            nn.BatchNorm2d(256),\n",
    "            nn.ReLU(inplace=True)\n",
    "        )\n",
    "\n",
    "        self.linear1 = nn.Linear(1024, rnn_hidden_size)\n",
    "        \n",
    "        # RNN\n",
    "        self.rnn = nn.RNN(input_size=rnn_hidden_size, \n",
    "                            hidden_size=rnn_hidden_size,\n",
    "                            bidirectional=True, \n",
    "                            batch_first=True)\n",
    "        self.linear2 = nn.Linear(self.rnn_hidden_size*2, num_chars)\n",
    "        \n",
    "        \n",
    "    def forward(self, x):\n",
    "        # CNN\n",
    "        x = self.feature_extract(x) # [batch_size, channels, height, width]\n",
    "        x = x.permute(0, 3, 1, 2) # [batch_size, width, channels, height]\n",
    "         \n",
    "        batch_size = x.size(0)\n",
    "        T = x.size(1)\n",
    "        x = x.view(batch_size, T, -1) # [batch_size, T==width, num_features==channels*height]\n",
    "        x = self.linear1(x)\n",
    "        \n",
    "        # RNN\n",
    "        x, hidden = self.rnn(x)\n",
    "        \n",
    "        output = self.linear2(x)\n",
    "        output = output.permute(1, 0, 2) # [T==10, batch_size, num_classes==num_features]\n",
    "        \n",
    "        return output"
   ]
  },
  {
   "cell_type": "code",
   "execution_count": 141,
   "id": "662e30f7",
   "metadata": {},
   "outputs": [],
   "source": [
    "criterion = nn.CTCLoss(blank=0) # idx 0 : '-'"
   ]
  },
  {
   "cell_type": "code",
   "execution_count": 142,
   "id": "c037d5ae",
   "metadata": {},
   "outputs": [],
   "source": [
    "def encode_text_batch(text_batch):\n",
    "    text_batch_targets_lens = [len(text) for text in text_batch]\n",
    "    text_batch_targets_lens = torch.IntTensor(text_batch_targets_lens)\n",
    "    \n",
    "    text_batch_concat = \"\".join(text_batch)\n",
    "    text_batch_targets = [char2idx[c] for c in text_batch_concat]\n",
    "    text_batch_targets = torch.IntTensor(text_batch_targets)\n",
    "    \n",
    "    return text_batch_targets, text_batch_targets_lens"
   ]
  },
  {
   "cell_type": "code",
   "execution_count": 143,
   "id": "f65dfc25",
   "metadata": {},
   "outputs": [],
   "source": [
    "def compute_loss(text_batch, text_batch_logits):\n",
    "    \"\"\"\n",
    "    text_batch: list of strings of length equal to batch size\n",
    "    text_batch_logits: Tensor of size([T, batch_size, num_classes])\n",
    "    \"\"\"\n",
    "    text_batch_logps = F.log_softmax(text_batch_logits, 2) # [T, batch_size, num_classes]  \n",
    "    text_batch_logps_lens = torch.full(size=(text_batch_logps.size(1),), \n",
    "                                       fill_value=text_batch_logps.size(0), \n",
    "                                       dtype=torch.int32).to(device) # [batch_size] \n",
    "\n",
    "    text_batch_targets, text_batch_targets_lens = encode_text_batch(text_batch)\n",
    "    loss = criterion(text_batch_logps, text_batch_targets, text_batch_logps_lens, text_batch_targets_lens)\n",
    "\n",
    "    return loss"
   ]
  },
  {
   "cell_type": "code",
   "execution_count": 144,
   "id": "83f50492",
   "metadata": {},
   "outputs": [],
   "source": [
    "def train(model, optimizer, train_loader, val_loader, scheduler, device):\n",
    "    model.to(device)\n",
    "    \n",
    "    best_loss = 999999\n",
    "    best_model = None\n",
    "    for epoch in range(1, CFG['EPOCHS']+1):\n",
    "        model.train()\n",
    "        train_loss = []\n",
    "        for image_batch, text_batch in tqdm(iter(train_loader)):\n",
    "            image_batch = image_batch.to(device)\n",
    "            \n",
    "            optimizer.zero_grad()\n",
    "            \n",
    "            text_batch_logits = model(image_batch)\n",
    "            loss = compute_loss(text_batch, text_batch_logits)\n",
    "            \n",
    "            loss.backward()\n",
    "            optimizer.step()\n",
    "            \n",
    "            train_loss.append(loss.item())\n",
    "        \n",
    "        _train_loss = np.mean(train_loss)\n",
    "        \n",
    "        _val_loss = validation(model, val_loader, device)\n",
    "        print(f'Epoch : [{epoch}] Train CTC Loss : [{_train_loss:.5f}] Val CTC Loss : [{_val_loss:.5f}]')\n",
    "        \n",
    "        if scheduler is not None:\n",
    "            scheduler.step(_val_loss)\n",
    "        \n",
    "        if best_loss > _val_loss:\n",
    "            best_loss = _val_loss\n",
    "            best_model = model\n",
    "    \n",
    "    return best_model"
   ]
  },
  {
   "cell_type": "code",
   "execution_count": 145,
   "id": "c875ee7a",
   "metadata": {},
   "outputs": [],
   "source": [
    "def validation(model, val_loader, device):\n",
    "    model.eval()\n",
    "    val_loss = []\n",
    "    with torch.no_grad():\n",
    "        for image_batch, text_batch in tqdm(iter(val_loader)):\n",
    "            image_batch = image_batch.to(device)\n",
    "            \n",
    "            text_batch_logits = model(image_batch)\n",
    "            loss = compute_loss(text_batch, text_batch_logits)\n",
    "            \n",
    "            val_loss.append(loss.item())\n",
    "    \n",
    "    _val_loss = np.mean(val_loss)\n",
    "    return _val_loss"
   ]
  },
  {
   "cell_type": "code",
   "execution_count": 146,
   "id": "e375f030",
   "metadata": {},
   "outputs": [
    {
     "data": {
      "application/vnd.jupyter.widget-view+json": {
       "model_id": "f197ddc5c6b3400cba3cd07095104ce3",
       "version_major": 2,
       "version_minor": 0
      },
      "text/plain": [
       "  0%|          | 0/259 [00:00<?, ?it/s]"
      ]
     },
     "metadata": {},
     "output_type": "display_data"
    },
    {
     "data": {
      "application/vnd.jupyter.widget-view+json": {
       "model_id": "11068f65d45b41a9a8f0a7b213610ba8",
       "version_major": 2,
       "version_minor": 0
      },
      "text/plain": [
       "  0%|          | 0/42 [00:00<?, ?it/s]"
      ]
     },
     "metadata": {},
     "output_type": "display_data"
    },
    {
     "name": "stdout",
     "output_type": "stream",
     "text": [
      "Epoch : [1] Train CTC Loss : [6.99589] Val CTC Loss : [5.44485]\n"
     ]
    },
    {
     "data": {
      "application/vnd.jupyter.widget-view+json": {
       "model_id": "d72775465fb64a639afaf002fcf570af",
       "version_major": 2,
       "version_minor": 0
      },
      "text/plain": [
       "  0%|          | 0/259 [00:00<?, ?it/s]"
      ]
     },
     "metadata": {},
     "output_type": "display_data"
    },
    {
     "data": {
      "application/vnd.jupyter.widget-view+json": {
       "model_id": "6ec747e3d3824c89a00b73b79febb71c",
       "version_major": 2,
       "version_minor": 0
      },
      "text/plain": [
       "  0%|          | 0/42 [00:00<?, ?it/s]"
      ]
     },
     "metadata": {},
     "output_type": "display_data"
    },
    {
     "name": "stdout",
     "output_type": "stream",
     "text": [
      "Epoch : [2] Train CTC Loss : [5.37781] Val CTC Loss : [3.82829]\n"
     ]
    },
    {
     "data": {
      "application/vnd.jupyter.widget-view+json": {
       "model_id": "5bb2fd1804d1482e9f62b46d07f2b2d0",
       "version_major": 2,
       "version_minor": 0
      },
      "text/plain": [
       "  0%|          | 0/259 [00:00<?, ?it/s]"
      ]
     },
     "metadata": {},
     "output_type": "display_data"
    },
    {
     "data": {
      "application/vnd.jupyter.widget-view+json": {
       "model_id": "9af688d4dea04286ac399e25feacacae",
       "version_major": 2,
       "version_minor": 0
      },
      "text/plain": [
       "  0%|          | 0/42 [00:00<?, ?it/s]"
      ]
     },
     "metadata": {},
     "output_type": "display_data"
    },
    {
     "name": "stdout",
     "output_type": "stream",
     "text": [
      "Epoch : [3] Train CTC Loss : [3.95382] Val CTC Loss : [2.27937]\n"
     ]
    },
    {
     "data": {
      "application/vnd.jupyter.widget-view+json": {
       "model_id": "aecf058f7aaf4c27938b90f851bb1c54",
       "version_major": 2,
       "version_minor": 0
      },
      "text/plain": [
       "  0%|          | 0/259 [00:00<?, ?it/s]"
      ]
     },
     "metadata": {},
     "output_type": "display_data"
    },
    {
     "data": {
      "application/vnd.jupyter.widget-view+json": {
       "model_id": "f938966f9ba146b58408dfd76c830ae8",
       "version_major": 2,
       "version_minor": 0
      },
      "text/plain": [
       "  0%|          | 0/42 [00:00<?, ?it/s]"
      ]
     },
     "metadata": {},
     "output_type": "display_data"
    },
    {
     "name": "stdout",
     "output_type": "stream",
     "text": [
      "Epoch : [4] Train CTC Loss : [2.43728] Val CTC Loss : [0.99604]\n"
     ]
    },
    {
     "data": {
      "application/vnd.jupyter.widget-view+json": {
       "model_id": "232f982bf2934459bd5b3c0209e5c6e7",
       "version_major": 2,
       "version_minor": 0
      },
      "text/plain": [
       "  0%|          | 0/259 [00:00<?, ?it/s]"
      ]
     },
     "metadata": {},
     "output_type": "display_data"
    },
    {
     "data": {
      "application/vnd.jupyter.widget-view+json": {
       "model_id": "3d6f241e494b47148cb8ba032decfb41",
       "version_major": 2,
       "version_minor": 0
      },
      "text/plain": [
       "  0%|          | 0/42 [00:00<?, ?it/s]"
      ]
     },
     "metadata": {},
     "output_type": "display_data"
    },
    {
     "name": "stdout",
     "output_type": "stream",
     "text": [
      "Epoch : [5] Train CTC Loss : [1.40943] Val CTC Loss : [0.55840]\n"
     ]
    },
    {
     "data": {
      "application/vnd.jupyter.widget-view+json": {
       "model_id": "22beff6aa33b4e169c6c8c8e1709b226",
       "version_major": 2,
       "version_minor": 0
      },
      "text/plain": [
       "  0%|          | 0/259 [00:00<?, ?it/s]"
      ]
     },
     "metadata": {},
     "output_type": "display_data"
    },
    {
     "data": {
      "application/vnd.jupyter.widget-view+json": {
       "model_id": "f1ed980af490464e80e7ee1969336d83",
       "version_major": 2,
       "version_minor": 0
      },
      "text/plain": [
       "  0%|          | 0/42 [00:00<?, ?it/s]"
      ]
     },
     "metadata": {},
     "output_type": "display_data"
    },
    {
     "name": "stdout",
     "output_type": "stream",
     "text": [
      "Epoch : [6] Train CTC Loss : [0.88524] Val CTC Loss : [0.34672]\n"
     ]
    },
    {
     "data": {
      "application/vnd.jupyter.widget-view+json": {
       "model_id": "2fd84bb155274b59be98901c825f15e9",
       "version_major": 2,
       "version_minor": 0
      },
      "text/plain": [
       "  0%|          | 0/259 [00:00<?, ?it/s]"
      ]
     },
     "metadata": {},
     "output_type": "display_data"
    },
    {
     "data": {
      "application/vnd.jupyter.widget-view+json": {
       "model_id": "8ac18f1de0a44389bd10dc7a6421bbfd",
       "version_major": 2,
       "version_minor": 0
      },
      "text/plain": [
       "  0%|          | 0/42 [00:00<?, ?it/s]"
      ]
     },
     "metadata": {},
     "output_type": "display_data"
    },
    {
     "name": "stdout",
     "output_type": "stream",
     "text": [
      "Epoch : [7] Train CTC Loss : [0.60441] Val CTC Loss : [0.24706]\n"
     ]
    },
    {
     "data": {
      "application/vnd.jupyter.widget-view+json": {
       "model_id": "744919b6e80c4140a6e0aff757c48e54",
       "version_major": 2,
       "version_minor": 0
      },
      "text/plain": [
       "  0%|          | 0/259 [00:00<?, ?it/s]"
      ]
     },
     "metadata": {},
     "output_type": "display_data"
    },
    {
     "data": {
      "application/vnd.jupyter.widget-view+json": {
       "model_id": "56a8d2b0bf9e44ceb06414c71e6199f8",
       "version_major": 2,
       "version_minor": 0
      },
      "text/plain": [
       "  0%|          | 0/42 [00:00<?, ?it/s]"
      ]
     },
     "metadata": {},
     "output_type": "display_data"
    },
    {
     "name": "stdout",
     "output_type": "stream",
     "text": [
      "Epoch : [8] Train CTC Loss : [0.44584] Val CTC Loss : [0.18568]\n"
     ]
    },
    {
     "data": {
      "application/vnd.jupyter.widget-view+json": {
       "model_id": "ebf5d12aa968417787b7244d98199144",
       "version_major": 2,
       "version_minor": 0
      },
      "text/plain": [
       "  0%|          | 0/259 [00:00<?, ?it/s]"
      ]
     },
     "metadata": {},
     "output_type": "display_data"
    },
    {
     "data": {
      "application/vnd.jupyter.widget-view+json": {
       "model_id": "a7c78b41e42441f48f2dfc16e0ac0886",
       "version_major": 2,
       "version_minor": 0
      },
      "text/plain": [
       "  0%|          | 0/42 [00:00<?, ?it/s]"
      ]
     },
     "metadata": {},
     "output_type": "display_data"
    },
    {
     "name": "stdout",
     "output_type": "stream",
     "text": [
      "Epoch : [9] Train CTC Loss : [0.33099] Val CTC Loss : [0.13634]\n"
     ]
    },
    {
     "data": {
      "application/vnd.jupyter.widget-view+json": {
       "model_id": "ec17c3a79edb445b9143f1b3bba9b43f",
       "version_major": 2,
       "version_minor": 0
      },
      "text/plain": [
       "  0%|          | 0/259 [00:00<?, ?it/s]"
      ]
     },
     "metadata": {},
     "output_type": "display_data"
    },
    {
     "data": {
      "application/vnd.jupyter.widget-view+json": {
       "model_id": "dff03f2bbb914011a65c97bcc018fe9d",
       "version_major": 2,
       "version_minor": 0
      },
      "text/plain": [
       "  0%|          | 0/42 [00:00<?, ?it/s]"
      ]
     },
     "metadata": {},
     "output_type": "display_data"
    },
    {
     "name": "stdout",
     "output_type": "stream",
     "text": [
      "Epoch : [10] Train CTC Loss : [0.26823] Val CTC Loss : [0.12483]\n"
     ]
    },
    {
     "data": {
      "application/vnd.jupyter.widget-view+json": {
       "model_id": "c995cf3e949948b586252aa5a9faad70",
       "version_major": 2,
       "version_minor": 0
      },
      "text/plain": [
       "  0%|          | 0/259 [00:00<?, ?it/s]"
      ]
     },
     "metadata": {},
     "output_type": "display_data"
    },
    {
     "data": {
      "application/vnd.jupyter.widget-view+json": {
       "model_id": "570a5a1bef9342e5be1f2ec312c7d427",
       "version_major": 2,
       "version_minor": 0
      },
      "text/plain": [
       "  0%|          | 0/42 [00:00<?, ?it/s]"
      ]
     },
     "metadata": {},
     "output_type": "display_data"
    },
    {
     "name": "stdout",
     "output_type": "stream",
     "text": [
      "Epoch : [11] Train CTC Loss : [0.23975] Val CTC Loss : [0.12610]\n"
     ]
    },
    {
     "data": {
      "application/vnd.jupyter.widget-view+json": {
       "model_id": "453950bb72fd42bb980debf6466b2294",
       "version_major": 2,
       "version_minor": 0
      },
      "text/plain": [
       "  0%|          | 0/259 [00:00<?, ?it/s]"
      ]
     },
     "metadata": {},
     "output_type": "display_data"
    },
    {
     "data": {
      "application/vnd.jupyter.widget-view+json": {
       "model_id": "17e3d92fc9234188869ee3ec0a5bcc22",
       "version_major": 2,
       "version_minor": 0
      },
      "text/plain": [
       "  0%|          | 0/42 [00:00<?, ?it/s]"
      ]
     },
     "metadata": {},
     "output_type": "display_data"
    },
    {
     "name": "stdout",
     "output_type": "stream",
     "text": [
      "Epoch : [12] Train CTC Loss : [0.19910] Val CTC Loss : [0.09331]\n"
     ]
    },
    {
     "data": {
      "application/vnd.jupyter.widget-view+json": {
       "model_id": "273f86398026425b9ea9be5b74f048fb",
       "version_major": 2,
       "version_minor": 0
      },
      "text/plain": [
       "  0%|          | 0/259 [00:00<?, ?it/s]"
      ]
     },
     "metadata": {},
     "output_type": "display_data"
    },
    {
     "data": {
      "application/vnd.jupyter.widget-view+json": {
       "model_id": "1265db5f411c44ff8552c9d12ab51193",
       "version_major": 2,
       "version_minor": 0
      },
      "text/plain": [
       "  0%|          | 0/42 [00:00<?, ?it/s]"
      ]
     },
     "metadata": {},
     "output_type": "display_data"
    },
    {
     "name": "stdout",
     "output_type": "stream",
     "text": [
      "Epoch : [13] Train CTC Loss : [0.18590] Val CTC Loss : [0.12012]\n"
     ]
    },
    {
     "data": {
      "application/vnd.jupyter.widget-view+json": {
       "model_id": "65140f58f61346d7b9f32b8936cb0b94",
       "version_major": 2,
       "version_minor": 0
      },
      "text/plain": [
       "  0%|          | 0/259 [00:00<?, ?it/s]"
      ]
     },
     "metadata": {},
     "output_type": "display_data"
    },
    {
     "data": {
      "application/vnd.jupyter.widget-view+json": {
       "model_id": "7ba33391bf5044d09b9d81c51e9d4fea",
       "version_major": 2,
       "version_minor": 0
      },
      "text/plain": [
       "  0%|          | 0/42 [00:00<?, ?it/s]"
      ]
     },
     "metadata": {},
     "output_type": "display_data"
    },
    {
     "name": "stdout",
     "output_type": "stream",
     "text": [
      "Epoch : [14] Train CTC Loss : [0.17289] Val CTC Loss : [0.11683]\n"
     ]
    },
    {
     "data": {
      "application/vnd.jupyter.widget-view+json": {
       "model_id": "a25896aa8b824a9e9e007dc56092c80d",
       "version_major": 2,
       "version_minor": 0
      },
      "text/plain": [
       "  0%|          | 0/259 [00:00<?, ?it/s]"
      ]
     },
     "metadata": {},
     "output_type": "display_data"
    },
    {
     "data": {
      "application/vnd.jupyter.widget-view+json": {
       "model_id": "1261083aa1be4180b78dd438cd4ae42c",
       "version_major": 2,
       "version_minor": 0
      },
      "text/plain": [
       "  0%|          | 0/42 [00:00<?, ?it/s]"
      ]
     },
     "metadata": {},
     "output_type": "display_data"
    },
    {
     "name": "stdout",
     "output_type": "stream",
     "text": [
      "Epoch : [15] Train CTC Loss : [0.15176] Val CTC Loss : [0.08838]\n"
     ]
    },
    {
     "data": {
      "application/vnd.jupyter.widget-view+json": {
       "model_id": "9d6dbe6408e54dbda198ed3f8232544e",
       "version_major": 2,
       "version_minor": 0
      },
      "text/plain": [
       "  0%|          | 0/259 [00:00<?, ?it/s]"
      ]
     },
     "metadata": {},
     "output_type": "display_data"
    },
    {
     "data": {
      "application/vnd.jupyter.widget-view+json": {
       "model_id": "4bb5d09958b54acd9f33d1b54009aaad",
       "version_major": 2,
       "version_minor": 0
      },
      "text/plain": [
       "  0%|          | 0/42 [00:00<?, ?it/s]"
      ]
     },
     "metadata": {},
     "output_type": "display_data"
    },
    {
     "name": "stdout",
     "output_type": "stream",
     "text": [
      "Epoch : [16] Train CTC Loss : [0.14396] Val CTC Loss : [0.09557]\n"
     ]
    },
    {
     "data": {
      "application/vnd.jupyter.widget-view+json": {
       "model_id": "10662a5a30da464fb9cc2a216a667c25",
       "version_major": 2,
       "version_minor": 0
      },
      "text/plain": [
       "  0%|          | 0/259 [00:00<?, ?it/s]"
      ]
     },
     "metadata": {},
     "output_type": "display_data"
    },
    {
     "data": {
      "application/vnd.jupyter.widget-view+json": {
       "model_id": "9a5279378d06415cac1033ce0b9469f0",
       "version_major": 2,
       "version_minor": 0
      },
      "text/plain": [
       "  0%|          | 0/42 [00:00<?, ?it/s]"
      ]
     },
     "metadata": {},
     "output_type": "display_data"
    },
    {
     "name": "stdout",
     "output_type": "stream",
     "text": [
      "Epoch : [17] Train CTC Loss : [0.13442] Val CTC Loss : [0.08138]\n"
     ]
    },
    {
     "data": {
      "application/vnd.jupyter.widget-view+json": {
       "model_id": "769d59241a7f4f9ba022b0f606340287",
       "version_major": 2,
       "version_minor": 0
      },
      "text/plain": [
       "  0%|          | 0/259 [00:00<?, ?it/s]"
      ]
     },
     "metadata": {},
     "output_type": "display_data"
    },
    {
     "data": {
      "application/vnd.jupyter.widget-view+json": {
       "model_id": "e1411389591e4a39900e97740aaa94aa",
       "version_major": 2,
       "version_minor": 0
      },
      "text/plain": [
       "  0%|          | 0/42 [00:00<?, ?it/s]"
      ]
     },
     "metadata": {},
     "output_type": "display_data"
    },
    {
     "name": "stdout",
     "output_type": "stream",
     "text": [
      "Epoch : [18] Train CTC Loss : [0.13386] Val CTC Loss : [0.08766]\n"
     ]
    },
    {
     "data": {
      "application/vnd.jupyter.widget-view+json": {
       "model_id": "7c514365c4574276bc60ce251935d41f",
       "version_major": 2,
       "version_minor": 0
      },
      "text/plain": [
       "  0%|          | 0/259 [00:00<?, ?it/s]"
      ]
     },
     "metadata": {},
     "output_type": "display_data"
    },
    {
     "data": {
      "application/vnd.jupyter.widget-view+json": {
       "model_id": "c4ee8861272d41918eafc7cfed22d271",
       "version_major": 2,
       "version_minor": 0
      },
      "text/plain": [
       "  0%|          | 0/42 [00:00<?, ?it/s]"
      ]
     },
     "metadata": {},
     "output_type": "display_data"
    },
    {
     "name": "stdout",
     "output_type": "stream",
     "text": [
      "Epoch : [19] Train CTC Loss : [0.12978] Val CTC Loss : [0.07741]\n"
     ]
    },
    {
     "data": {
      "application/vnd.jupyter.widget-view+json": {
       "model_id": "c85bc03291ac48c0b8959ea5d3b62d79",
       "version_major": 2,
       "version_minor": 0
      },
      "text/plain": [
       "  0%|          | 0/259 [00:00<?, ?it/s]"
      ]
     },
     "metadata": {},
     "output_type": "display_data"
    },
    {
     "data": {
      "application/vnd.jupyter.widget-view+json": {
       "model_id": "9373dc112c5e49c2a579c42cd99ac5da",
       "version_major": 2,
       "version_minor": 0
      },
      "text/plain": [
       "  0%|          | 0/42 [00:00<?, ?it/s]"
      ]
     },
     "metadata": {},
     "output_type": "display_data"
    },
    {
     "name": "stdout",
     "output_type": "stream",
     "text": [
      "Epoch : [20] Train CTC Loss : [0.14530] Val CTC Loss : [0.08432]\n"
     ]
    },
    {
     "data": {
      "application/vnd.jupyter.widget-view+json": {
       "model_id": "279fa686e56e4d8f9997a084bde9b98a",
       "version_major": 2,
       "version_minor": 0
      },
      "text/plain": [
       "  0%|          | 0/259 [00:00<?, ?it/s]"
      ]
     },
     "metadata": {},
     "output_type": "display_data"
    },
    {
     "data": {
      "application/vnd.jupyter.widget-view+json": {
       "model_id": "f9b5f48c358d4bffa4737bf791bd8013",
       "version_major": 2,
       "version_minor": 0
      },
      "text/plain": [
       "  0%|          | 0/42 [00:00<?, ?it/s]"
      ]
     },
     "metadata": {},
     "output_type": "display_data"
    },
    {
     "name": "stdout",
     "output_type": "stream",
     "text": [
      "Epoch : [21] Train CTC Loss : [0.12238] Val CTC Loss : [0.09344]\n"
     ]
    },
    {
     "data": {
      "application/vnd.jupyter.widget-view+json": {
       "model_id": "8b0b7af9366d4678b98c5acdd0744fda",
       "version_major": 2,
       "version_minor": 0
      },
      "text/plain": [
       "  0%|          | 0/259 [00:00<?, ?it/s]"
      ]
     },
     "metadata": {},
     "output_type": "display_data"
    },
    {
     "data": {
      "application/vnd.jupyter.widget-view+json": {
       "model_id": "8149dacef3344cf896ac37b5be8208ee",
       "version_major": 2,
       "version_minor": 0
      },
      "text/plain": [
       "  0%|          | 0/42 [00:00<?, ?it/s]"
      ]
     },
     "metadata": {},
     "output_type": "display_data"
    },
    {
     "name": "stdout",
     "output_type": "stream",
     "text": [
      "Epoch : [22] Train CTC Loss : [0.10283] Val CTC Loss : [0.10659]\n",
      "Epoch 00022: reducing learning rate of group 0 to 5.0000e-04.\n"
     ]
    },
    {
     "data": {
      "application/vnd.jupyter.widget-view+json": {
       "model_id": "3c7bdaf8caf74839b56eb49317208531",
       "version_major": 2,
       "version_minor": 0
      },
      "text/plain": [
       "  0%|          | 0/259 [00:00<?, ?it/s]"
      ]
     },
     "metadata": {},
     "output_type": "display_data"
    },
    {
     "data": {
      "application/vnd.jupyter.widget-view+json": {
       "model_id": "0794277a97624e17bf03008434091e39",
       "version_major": 2,
       "version_minor": 0
      },
      "text/plain": [
       "  0%|          | 0/42 [00:00<?, ?it/s]"
      ]
     },
     "metadata": {},
     "output_type": "display_data"
    },
    {
     "name": "stdout",
     "output_type": "stream",
     "text": [
      "Epoch : [23] Train CTC Loss : [0.05394] Val CTC Loss : [0.04491]\n"
     ]
    },
    {
     "data": {
      "application/vnd.jupyter.widget-view+json": {
       "model_id": "25a6a6afe2424784932bfe3566c80e53",
       "version_major": 2,
       "version_minor": 0
      },
      "text/plain": [
       "  0%|          | 0/259 [00:00<?, ?it/s]"
      ]
     },
     "metadata": {},
     "output_type": "display_data"
    },
    {
     "data": {
      "application/vnd.jupyter.widget-view+json": {
       "model_id": "576027b23e8f4415a7ff8838e90080c9",
       "version_major": 2,
       "version_minor": 0
      },
      "text/plain": [
       "  0%|          | 0/42 [00:00<?, ?it/s]"
      ]
     },
     "metadata": {},
     "output_type": "display_data"
    },
    {
     "name": "stdout",
     "output_type": "stream",
     "text": [
      "Epoch : [24] Train CTC Loss : [0.03716] Val CTC Loss : [0.04250]\n"
     ]
    },
    {
     "data": {
      "application/vnd.jupyter.widget-view+json": {
       "model_id": "258c6ee53c58461ea5ac5774e2bb1386",
       "version_major": 2,
       "version_minor": 0
      },
      "text/plain": [
       "  0%|          | 0/259 [00:00<?, ?it/s]"
      ]
     },
     "metadata": {},
     "output_type": "display_data"
    },
    {
     "data": {
      "application/vnd.jupyter.widget-view+json": {
       "model_id": "a8552735c5c841568c0d4a9d9dd8286d",
       "version_major": 2,
       "version_minor": 0
      },
      "text/plain": [
       "  0%|          | 0/42 [00:00<?, ?it/s]"
      ]
     },
     "metadata": {},
     "output_type": "display_data"
    },
    {
     "name": "stdout",
     "output_type": "stream",
     "text": [
      "Epoch : [25] Train CTC Loss : [0.03416] Val CTC Loss : [0.03815]\n"
     ]
    },
    {
     "data": {
      "application/vnd.jupyter.widget-view+json": {
       "model_id": "b6d404c9946945deabeaa53619c21308",
       "version_major": 2,
       "version_minor": 0
      },
      "text/plain": [
       "  0%|          | 0/259 [00:00<?, ?it/s]"
      ]
     },
     "metadata": {},
     "output_type": "display_data"
    },
    {
     "data": {
      "application/vnd.jupyter.widget-view+json": {
       "model_id": "3222fa121ab844e49d760f1fd44ae7df",
       "version_major": 2,
       "version_minor": 0
      },
      "text/plain": [
       "  0%|          | 0/42 [00:00<?, ?it/s]"
      ]
     },
     "metadata": {},
     "output_type": "display_data"
    },
    {
     "name": "stdout",
     "output_type": "stream",
     "text": [
      "Epoch : [26] Train CTC Loss : [0.02683] Val CTC Loss : [0.03915]\n"
     ]
    },
    {
     "data": {
      "application/vnd.jupyter.widget-view+json": {
       "model_id": "d0d6bd4f5f894b19af3976c5228b9dc0",
       "version_major": 2,
       "version_minor": 0
      },
      "text/plain": [
       "  0%|          | 0/259 [00:00<?, ?it/s]"
      ]
     },
     "metadata": {},
     "output_type": "display_data"
    },
    {
     "data": {
      "application/vnd.jupyter.widget-view+json": {
       "model_id": "4cf5053de8774f6fb341a843fb1995ef",
       "version_major": 2,
       "version_minor": 0
      },
      "text/plain": [
       "  0%|          | 0/42 [00:00<?, ?it/s]"
      ]
     },
     "metadata": {},
     "output_type": "display_data"
    },
    {
     "name": "stdout",
     "output_type": "stream",
     "text": [
      "Epoch : [27] Train CTC Loss : [0.03523] Val CTC Loss : [0.03685]\n"
     ]
    },
    {
     "data": {
      "application/vnd.jupyter.widget-view+json": {
       "model_id": "fe715ddbde7c4130a72dd164fd74a3d7",
       "version_major": 2,
       "version_minor": 0
      },
      "text/plain": [
       "  0%|          | 0/259 [00:00<?, ?it/s]"
      ]
     },
     "metadata": {},
     "output_type": "display_data"
    },
    {
     "data": {
      "application/vnd.jupyter.widget-view+json": {
       "model_id": "fd092635a96648fb8a7741fe883853c7",
       "version_major": 2,
       "version_minor": 0
      },
      "text/plain": [
       "  0%|          | 0/42 [00:00<?, ?it/s]"
      ]
     },
     "metadata": {},
     "output_type": "display_data"
    },
    {
     "name": "stdout",
     "output_type": "stream",
     "text": [
      "Epoch : [28] Train CTC Loss : [0.02740] Val CTC Loss : [0.03860]\n"
     ]
    },
    {
     "data": {
      "application/vnd.jupyter.widget-view+json": {
       "model_id": "2ead8ef40b254c68bd1918a5bdf9254e",
       "version_major": 2,
       "version_minor": 0
      },
      "text/plain": [
       "  0%|          | 0/259 [00:00<?, ?it/s]"
      ]
     },
     "metadata": {},
     "output_type": "display_data"
    },
    {
     "data": {
      "application/vnd.jupyter.widget-view+json": {
       "model_id": "c2eaf51c63a94705b6e9a65afe2324d8",
       "version_major": 2,
       "version_minor": 0
      },
      "text/plain": [
       "  0%|          | 0/42 [00:00<?, ?it/s]"
      ]
     },
     "metadata": {},
     "output_type": "display_data"
    },
    {
     "name": "stdout",
     "output_type": "stream",
     "text": [
      "Epoch : [29] Train CTC Loss : [0.03065] Val CTC Loss : [0.03729]\n"
     ]
    },
    {
     "data": {
      "application/vnd.jupyter.widget-view+json": {
       "model_id": "f75724b1617441afb4058f20964b7059",
       "version_major": 2,
       "version_minor": 0
      },
      "text/plain": [
       "  0%|          | 0/259 [00:00<?, ?it/s]"
      ]
     },
     "metadata": {},
     "output_type": "display_data"
    },
    {
     "data": {
      "application/vnd.jupyter.widget-view+json": {
       "model_id": "a1810079d1cd4ccdb77674530790a05c",
       "version_major": 2,
       "version_minor": 0
      },
      "text/plain": [
       "  0%|          | 0/42 [00:00<?, ?it/s]"
      ]
     },
     "metadata": {},
     "output_type": "display_data"
    },
    {
     "name": "stdout",
     "output_type": "stream",
     "text": [
      "Epoch : [30] Train CTC Loss : [0.03404] Val CTC Loss : [0.05937]\n",
      "Epoch 00030: reducing learning rate of group 0 to 2.5000e-04.\n"
     ]
    },
    {
     "data": {
      "application/vnd.jupyter.widget-view+json": {
       "model_id": "5f3e299b279f48ce85a5119001b8b1b6",
       "version_major": 2,
       "version_minor": 0
      },
      "text/plain": [
       "  0%|          | 0/259 [00:00<?, ?it/s]"
      ]
     },
     "metadata": {},
     "output_type": "display_data"
    },
    {
     "data": {
      "application/vnd.jupyter.widget-view+json": {
       "model_id": "4fe47a1d3c944f66a6f964d8896e7953",
       "version_major": 2,
       "version_minor": 0
      },
      "text/plain": [
       "  0%|          | 0/42 [00:00<?, ?it/s]"
      ]
     },
     "metadata": {},
     "output_type": "display_data"
    },
    {
     "name": "stdout",
     "output_type": "stream",
     "text": [
      "Epoch : [31] Train CTC Loss : [0.02349] Val CTC Loss : [0.03552]\n"
     ]
    },
    {
     "data": {
      "application/vnd.jupyter.widget-view+json": {
       "model_id": "16a40ba3aa7645a6812fdcb1b483b5a3",
       "version_major": 2,
       "version_minor": 0
      },
      "text/plain": [
       "  0%|          | 0/259 [00:00<?, ?it/s]"
      ]
     },
     "metadata": {},
     "output_type": "display_data"
    },
    {
     "data": {
      "application/vnd.jupyter.widget-view+json": {
       "model_id": "b5749e4606814eb08a5a0987f735149c",
       "version_major": 2,
       "version_minor": 0
      },
      "text/plain": [
       "  0%|          | 0/42 [00:00<?, ?it/s]"
      ]
     },
     "metadata": {},
     "output_type": "display_data"
    },
    {
     "name": "stdout",
     "output_type": "stream",
     "text": [
      "Epoch : [32] Train CTC Loss : [0.01526] Val CTC Loss : [0.02854]\n"
     ]
    },
    {
     "data": {
      "application/vnd.jupyter.widget-view+json": {
       "model_id": "cee9e401ab75401b9288b5c3363a3f34",
       "version_major": 2,
       "version_minor": 0
      },
      "text/plain": [
       "  0%|          | 0/259 [00:00<?, ?it/s]"
      ]
     },
     "metadata": {},
     "output_type": "display_data"
    },
    {
     "data": {
      "application/vnd.jupyter.widget-view+json": {
       "model_id": "57bd27f1e6f24097a93224944860299e",
       "version_major": 2,
       "version_minor": 0
      },
      "text/plain": [
       "  0%|          | 0/42 [00:00<?, ?it/s]"
      ]
     },
     "metadata": {},
     "output_type": "display_data"
    },
    {
     "name": "stdout",
     "output_type": "stream",
     "text": [
      "Epoch : [33] Train CTC Loss : [0.01460] Val CTC Loss : [0.02886]\n"
     ]
    },
    {
     "data": {
      "application/vnd.jupyter.widget-view+json": {
       "model_id": "1e5ce73f2eb84755b7056948588ad026",
       "version_major": 2,
       "version_minor": 0
      },
      "text/plain": [
       "  0%|          | 0/259 [00:00<?, ?it/s]"
      ]
     },
     "metadata": {},
     "output_type": "display_data"
    },
    {
     "data": {
      "application/vnd.jupyter.widget-view+json": {
       "model_id": "e3308f1cf4aa47d68ffa34fc7965b9e1",
       "version_major": 2,
       "version_minor": 0
      },
      "text/plain": [
       "  0%|          | 0/42 [00:00<?, ?it/s]"
      ]
     },
     "metadata": {},
     "output_type": "display_data"
    },
    {
     "name": "stdout",
     "output_type": "stream",
     "text": [
      "Epoch : [34] Train CTC Loss : [0.01513] Val CTC Loss : [0.03101]\n"
     ]
    },
    {
     "data": {
      "application/vnd.jupyter.widget-view+json": {
       "model_id": "cc8c1bc4b5af4bc0b15b2c0ae61064d5",
       "version_major": 2,
       "version_minor": 0
      },
      "text/plain": [
       "  0%|          | 0/259 [00:00<?, ?it/s]"
      ]
     },
     "metadata": {},
     "output_type": "display_data"
    },
    {
     "data": {
      "application/vnd.jupyter.widget-view+json": {
       "model_id": "deaa6534369b4c7389496b8095851113",
       "version_major": 2,
       "version_minor": 0
      },
      "text/plain": [
       "  0%|          | 0/42 [00:00<?, ?it/s]"
      ]
     },
     "metadata": {},
     "output_type": "display_data"
    },
    {
     "name": "stdout",
     "output_type": "stream",
     "text": [
      "Epoch : [35] Train CTC Loss : [0.01499] Val CTC Loss : [0.03127]\n",
      "Epoch 00035: reducing learning rate of group 0 to 1.2500e-04.\n"
     ]
    },
    {
     "data": {
      "application/vnd.jupyter.widget-view+json": {
       "model_id": "d7b82577ec704b1cb64691f79a95385f",
       "version_major": 2,
       "version_minor": 0
      },
      "text/plain": [
       "  0%|          | 0/259 [00:00<?, ?it/s]"
      ]
     },
     "metadata": {},
     "output_type": "display_data"
    },
    {
     "data": {
      "application/vnd.jupyter.widget-view+json": {
       "model_id": "623518499ea9448abf5f6b9c0ec1fe41",
       "version_major": 2,
       "version_minor": 0
      },
      "text/plain": [
       "  0%|          | 0/42 [00:00<?, ?it/s]"
      ]
     },
     "metadata": {},
     "output_type": "display_data"
    },
    {
     "name": "stdout",
     "output_type": "stream",
     "text": [
      "Epoch : [36] Train CTC Loss : [0.01079] Val CTC Loss : [0.02711]\n"
     ]
    },
    {
     "data": {
      "application/vnd.jupyter.widget-view+json": {
       "model_id": "7ebdc7cd6aab4b6480abb763723700e3",
       "version_major": 2,
       "version_minor": 0
      },
      "text/plain": [
       "  0%|          | 0/259 [00:00<?, ?it/s]"
      ]
     },
     "metadata": {},
     "output_type": "display_data"
    },
    {
     "data": {
      "application/vnd.jupyter.widget-view+json": {
       "model_id": "ee6a389c95f5440fbfe9cf8e6779b281",
       "version_major": 2,
       "version_minor": 0
      },
      "text/plain": [
       "  0%|          | 0/42 [00:00<?, ?it/s]"
      ]
     },
     "metadata": {},
     "output_type": "display_data"
    },
    {
     "name": "stdout",
     "output_type": "stream",
     "text": [
      "Epoch : [37] Train CTC Loss : [0.00938] Val CTC Loss : [0.02600]\n"
     ]
    },
    {
     "data": {
      "application/vnd.jupyter.widget-view+json": {
       "model_id": "9b747d7320b34982b1da1877e1465cce",
       "version_major": 2,
       "version_minor": 0
      },
      "text/plain": [
       "  0%|          | 0/259 [00:00<?, ?it/s]"
      ]
     },
     "metadata": {},
     "output_type": "display_data"
    },
    {
     "data": {
      "application/vnd.jupyter.widget-view+json": {
       "model_id": "19f8eead7ca3491c8d81b828c17a7d91",
       "version_major": 2,
       "version_minor": 0
      },
      "text/plain": [
       "  0%|          | 0/42 [00:00<?, ?it/s]"
      ]
     },
     "metadata": {},
     "output_type": "display_data"
    },
    {
     "name": "stdout",
     "output_type": "stream",
     "text": [
      "Epoch : [38] Train CTC Loss : [0.00859] Val CTC Loss : [0.02777]\n"
     ]
    },
    {
     "data": {
      "application/vnd.jupyter.widget-view+json": {
       "model_id": "19d5f5faca5a4288a84e9ae438f7a516",
       "version_major": 2,
       "version_minor": 0
      },
      "text/plain": [
       "  0%|          | 0/259 [00:00<?, ?it/s]"
      ]
     },
     "metadata": {},
     "output_type": "display_data"
    },
    {
     "data": {
      "application/vnd.jupyter.widget-view+json": {
       "model_id": "8a2eb289472f49109fae3d58fe2a4969",
       "version_major": 2,
       "version_minor": 0
      },
      "text/plain": [
       "  0%|          | 0/42 [00:00<?, ?it/s]"
      ]
     },
     "metadata": {},
     "output_type": "display_data"
    },
    {
     "name": "stdout",
     "output_type": "stream",
     "text": [
      "Epoch : [39] Train CTC Loss : [0.00796] Val CTC Loss : [0.02737]\n"
     ]
    },
    {
     "data": {
      "application/vnd.jupyter.widget-view+json": {
       "model_id": "26c100a20a53463d9f25cc0e842e5e31",
       "version_major": 2,
       "version_minor": 0
      },
      "text/plain": [
       "  0%|          | 0/259 [00:00<?, ?it/s]"
      ]
     },
     "metadata": {},
     "output_type": "display_data"
    },
    {
     "data": {
      "application/vnd.jupyter.widget-view+json": {
       "model_id": "b539f227f49a4f4c9e46fbfff15c07f1",
       "version_major": 2,
       "version_minor": 0
      },
      "text/plain": [
       "  0%|          | 0/42 [00:00<?, ?it/s]"
      ]
     },
     "metadata": {},
     "output_type": "display_data"
    },
    {
     "name": "stdout",
     "output_type": "stream",
     "text": [
      "Epoch : [40] Train CTC Loss : [0.00758] Val CTC Loss : [0.02848]\n",
      "Epoch 00040: reducing learning rate of group 0 to 6.2500e-05.\n"
     ]
    },
    {
     "data": {
      "application/vnd.jupyter.widget-view+json": {
       "model_id": "54e6a6f2243747b1b9075d56456b06d7",
       "version_major": 2,
       "version_minor": 0
      },
      "text/plain": [
       "  0%|          | 0/259 [00:00<?, ?it/s]"
      ]
     },
     "metadata": {},
     "output_type": "display_data"
    },
    {
     "data": {
      "application/vnd.jupyter.widget-view+json": {
       "model_id": "bcdcdbed84bd4b9e8dad66a28b3d50b9",
       "version_major": 2,
       "version_minor": 0
      },
      "text/plain": [
       "  0%|          | 0/42 [00:00<?, ?it/s]"
      ]
     },
     "metadata": {},
     "output_type": "display_data"
    },
    {
     "name": "stdout",
     "output_type": "stream",
     "text": [
      "Epoch : [41] Train CTC Loss : [0.00677] Val CTC Loss : [0.02592]\n"
     ]
    },
    {
     "data": {
      "application/vnd.jupyter.widget-view+json": {
       "model_id": "239507e9e4e04ed4af1a8584ca7a8a3b",
       "version_major": 2,
       "version_minor": 0
      },
      "text/plain": [
       "  0%|          | 0/259 [00:00<?, ?it/s]"
      ]
     },
     "metadata": {},
     "output_type": "display_data"
    },
    {
     "data": {
      "application/vnd.jupyter.widget-view+json": {
       "model_id": "6a886421ee89413baf8c1a89f1b0e055",
       "version_major": 2,
       "version_minor": 0
      },
      "text/plain": [
       "  0%|          | 0/42 [00:00<?, ?it/s]"
      ]
     },
     "metadata": {},
     "output_type": "display_data"
    },
    {
     "name": "stdout",
     "output_type": "stream",
     "text": [
      "Epoch : [42] Train CTC Loss : [0.00620] Val CTC Loss : [0.02529]\n"
     ]
    },
    {
     "data": {
      "application/vnd.jupyter.widget-view+json": {
       "model_id": "5a3ba12d8ad542cfaa80d1cb277bfaaa",
       "version_major": 2,
       "version_minor": 0
      },
      "text/plain": [
       "  0%|          | 0/259 [00:00<?, ?it/s]"
      ]
     },
     "metadata": {},
     "output_type": "display_data"
    },
    {
     "data": {
      "application/vnd.jupyter.widget-view+json": {
       "model_id": "a29f32e3080d4d149800bf3707cd1960",
       "version_major": 2,
       "version_minor": 0
      },
      "text/plain": [
       "  0%|          | 0/42 [00:00<?, ?it/s]"
      ]
     },
     "metadata": {},
     "output_type": "display_data"
    },
    {
     "name": "stdout",
     "output_type": "stream",
     "text": [
      "Epoch : [43] Train CTC Loss : [0.00603] Val CTC Loss : [0.02555]\n"
     ]
    },
    {
     "data": {
      "application/vnd.jupyter.widget-view+json": {
       "model_id": "af1b196005b24f6c9485285cd876769a",
       "version_major": 2,
       "version_minor": 0
      },
      "text/plain": [
       "  0%|          | 0/259 [00:00<?, ?it/s]"
      ]
     },
     "metadata": {},
     "output_type": "display_data"
    },
    {
     "data": {
      "application/vnd.jupyter.widget-view+json": {
       "model_id": "999d175b5764463390c4683e0384e5b0",
       "version_major": 2,
       "version_minor": 0
      },
      "text/plain": [
       "  0%|          | 0/42 [00:00<?, ?it/s]"
      ]
     },
     "metadata": {},
     "output_type": "display_data"
    },
    {
     "name": "stdout",
     "output_type": "stream",
     "text": [
      "Epoch : [44] Train CTC Loss : [0.00576] Val CTC Loss : [0.02578]\n"
     ]
    },
    {
     "data": {
      "application/vnd.jupyter.widget-view+json": {
       "model_id": "7cb7cc9309c046cab87097c33be2bc21",
       "version_major": 2,
       "version_minor": 0
      },
      "text/plain": [
       "  0%|          | 0/259 [00:00<?, ?it/s]"
      ]
     },
     "metadata": {},
     "output_type": "display_data"
    },
    {
     "data": {
      "application/vnd.jupyter.widget-view+json": {
       "model_id": "1d4bab013b0e45d2a54dcb56ee927b10",
       "version_major": 2,
       "version_minor": 0
      },
      "text/plain": [
       "  0%|          | 0/42 [00:00<?, ?it/s]"
      ]
     },
     "metadata": {},
     "output_type": "display_data"
    },
    {
     "name": "stdout",
     "output_type": "stream",
     "text": [
      "Epoch : [45] Train CTC Loss : [0.00558] Val CTC Loss : [0.02613]\n",
      "Epoch 00045: reducing learning rate of group 0 to 3.1250e-05.\n"
     ]
    },
    {
     "data": {
      "application/vnd.jupyter.widget-view+json": {
       "model_id": "1396d2979ab24246b1c309e7686c00c4",
       "version_major": 2,
       "version_minor": 0
      },
      "text/plain": [
       "  0%|          | 0/259 [00:00<?, ?it/s]"
      ]
     },
     "metadata": {},
     "output_type": "display_data"
    },
    {
     "data": {
      "application/vnd.jupyter.widget-view+json": {
       "model_id": "bd4c655407dc4fe59d0ae3d86b7a10f3",
       "version_major": 2,
       "version_minor": 0
      },
      "text/plain": [
       "  0%|          | 0/42 [00:00<?, ?it/s]"
      ]
     },
     "metadata": {},
     "output_type": "display_data"
    },
    {
     "name": "stdout",
     "output_type": "stream",
     "text": [
      "Epoch : [46] Train CTC Loss : [0.00526] Val CTC Loss : [0.02476]\n"
     ]
    },
    {
     "data": {
      "application/vnd.jupyter.widget-view+json": {
       "model_id": "ed61562ebc50423d8e04ec18255909be",
       "version_major": 2,
       "version_minor": 0
      },
      "text/plain": [
       "  0%|          | 0/259 [00:00<?, ?it/s]"
      ]
     },
     "metadata": {},
     "output_type": "display_data"
    },
    {
     "data": {
      "application/vnd.jupyter.widget-view+json": {
       "model_id": "768ba00da21b48eba77f3367144225a9",
       "version_major": 2,
       "version_minor": 0
      },
      "text/plain": [
       "  0%|          | 0/42 [00:00<?, ?it/s]"
      ]
     },
     "metadata": {},
     "output_type": "display_data"
    },
    {
     "name": "stdout",
     "output_type": "stream",
     "text": [
      "Epoch : [47] Train CTC Loss : [0.00476] Val CTC Loss : [0.02498]\n"
     ]
    },
    {
     "data": {
      "application/vnd.jupyter.widget-view+json": {
       "model_id": "f990c28bf13c4cb08168d8b0b4aa12a2",
       "version_major": 2,
       "version_minor": 0
      },
      "text/plain": [
       "  0%|          | 0/259 [00:00<?, ?it/s]"
      ]
     },
     "metadata": {},
     "output_type": "display_data"
    },
    {
     "data": {
      "application/vnd.jupyter.widget-view+json": {
       "model_id": "aa4da6d628a74d66a66d7659210f3ed8",
       "version_major": 2,
       "version_minor": 0
      },
      "text/plain": [
       "  0%|          | 0/42 [00:00<?, ?it/s]"
      ]
     },
     "metadata": {},
     "output_type": "display_data"
    },
    {
     "name": "stdout",
     "output_type": "stream",
     "text": [
      "Epoch : [48] Train CTC Loss : [0.00507] Val CTC Loss : [0.02508]\n"
     ]
    },
    {
     "data": {
      "application/vnd.jupyter.widget-view+json": {
       "model_id": "59df9e82f5cd48fe8c9f84ad4f673f70",
       "version_major": 2,
       "version_minor": 0
      },
      "text/plain": [
       "  0%|          | 0/259 [00:00<?, ?it/s]"
      ]
     },
     "metadata": {},
     "output_type": "display_data"
    },
    {
     "data": {
      "application/vnd.jupyter.widget-view+json": {
       "model_id": "cfda543a588841718f28ebcb527bc997",
       "version_major": 2,
       "version_minor": 0
      },
      "text/plain": [
       "  0%|          | 0/42 [00:00<?, ?it/s]"
      ]
     },
     "metadata": {},
     "output_type": "display_data"
    },
    {
     "name": "stdout",
     "output_type": "stream",
     "text": [
      "Epoch : [49] Train CTC Loss : [0.00490] Val CTC Loss : [0.02539]\n",
      "Epoch 00049: reducing learning rate of group 0 to 1.5625e-05.\n"
     ]
    },
    {
     "data": {
      "application/vnd.jupyter.widget-view+json": {
       "model_id": "10c749f90af142f59b95553325bf8b20",
       "version_major": 2,
       "version_minor": 0
      },
      "text/plain": [
       "  0%|          | 0/259 [00:00<?, ?it/s]"
      ]
     },
     "metadata": {},
     "output_type": "display_data"
    },
    {
     "data": {
      "application/vnd.jupyter.widget-view+json": {
       "model_id": "7540fb20615f4a38834f023865861ad8",
       "version_major": 2,
       "version_minor": 0
      },
      "text/plain": [
       "  0%|          | 0/42 [00:00<?, ?it/s]"
      ]
     },
     "metadata": {},
     "output_type": "display_data"
    },
    {
     "name": "stdout",
     "output_type": "stream",
     "text": [
      "Epoch : [50] Train CTC Loss : [0.00467] Val CTC Loss : [0.02522]\n"
     ]
    }
   ],
   "source": [
    "model = RecognitionModel_eff()\n",
    "model.eval()\n",
    "optimizer = torch.optim.Adam(params = model.parameters(), lr = CFG[\"LEARNING_RATE\"])\n",
    "scheduler = torch.optim.lr_scheduler.ReduceLROnPlateau(optimizer, mode='min', factor=0.5, patience=2,threshold_mode='abs',min_lr=1e-8, verbose=True)\n",
    "\n",
    "infer_model = train(model, optimizer, train_loader, val_loader, scheduler, device)"
   ]
  },
  {
   "cell_type": "code",
   "execution_count": 69,
   "id": "20f907ce",
   "metadata": {
    "scrolled": true
   },
   "outputs": [
    {
     "data": {
      "application/vnd.jupyter.widget-view+json": {
       "model_id": "ec000884ee9347649fe050914dcf5d1b",
       "version_major": 2,
       "version_minor": 0
      },
      "text/plain": [
       "  0%|          | 0/259 [00:00<?, ?it/s]"
      ]
     },
     "metadata": {},
     "output_type": "display_data"
    },
    {
     "data": {
      "application/vnd.jupyter.widget-view+json": {
       "model_id": "9844fdeb31cd4a15ab802bef7f9de995",
       "version_major": 2,
       "version_minor": 0
      },
      "text/plain": [
       "  0%|          | 0/42 [00:00<?, ?it/s]"
      ]
     },
     "metadata": {},
     "output_type": "display_data"
    },
    {
     "name": "stdout",
     "output_type": "stream",
     "text": [
      "Epoch : [1] Train CTC Loss : [6.94179] Val CTC Loss : [5.62186]\n"
     ]
    },
    {
     "data": {
      "application/vnd.jupyter.widget-view+json": {
       "model_id": "d9ed8ee049b442948c0f73a3f1919614",
       "version_major": 2,
       "version_minor": 0
      },
      "text/plain": [
       "  0%|          | 0/259 [00:00<?, ?it/s]"
      ]
     },
     "metadata": {},
     "output_type": "display_data"
    },
    {
     "data": {
      "application/vnd.jupyter.widget-view+json": {
       "model_id": "59d5e96e4d9e45029cc7e29c34ae877b",
       "version_major": 2,
       "version_minor": 0
      },
      "text/plain": [
       "  0%|          | 0/42 [00:00<?, ?it/s]"
      ]
     },
     "metadata": {},
     "output_type": "display_data"
    },
    {
     "name": "stdout",
     "output_type": "stream",
     "text": [
      "Epoch : [2] Train CTC Loss : [5.46225] Val CTC Loss : [4.10313]\n"
     ]
    },
    {
     "data": {
      "application/vnd.jupyter.widget-view+json": {
       "model_id": "eb7aba4a7d474f1896eb609dfdb26ecb",
       "version_major": 2,
       "version_minor": 0
      },
      "text/plain": [
       "  0%|          | 0/259 [00:00<?, ?it/s]"
      ]
     },
     "metadata": {},
     "output_type": "display_data"
    },
    {
     "data": {
      "application/vnd.jupyter.widget-view+json": {
       "model_id": "e8d63f55e0d8423a92123601b41b6fb2",
       "version_major": 2,
       "version_minor": 0
      },
      "text/plain": [
       "  0%|          | 0/42 [00:00<?, ?it/s]"
      ]
     },
     "metadata": {},
     "output_type": "display_data"
    },
    {
     "name": "stdout",
     "output_type": "stream",
     "text": [
      "Epoch : [3] Train CTC Loss : [4.28611] Val CTC Loss : [2.71521]\n"
     ]
    },
    {
     "data": {
      "application/vnd.jupyter.widget-view+json": {
       "model_id": "42e6cc7bdd054c57909c1e3205ff7e9f",
       "version_major": 2,
       "version_minor": 0
      },
      "text/plain": [
       "  0%|          | 0/259 [00:00<?, ?it/s]"
      ]
     },
     "metadata": {},
     "output_type": "display_data"
    },
    {
     "data": {
      "application/vnd.jupyter.widget-view+json": {
       "model_id": "7f101591c49149f2a17ded7b769ef627",
       "version_major": 2,
       "version_minor": 0
      },
      "text/plain": [
       "  0%|          | 0/42 [00:00<?, ?it/s]"
      ]
     },
     "metadata": {},
     "output_type": "display_data"
    },
    {
     "name": "stdout",
     "output_type": "stream",
     "text": [
      "Epoch : [4] Train CTC Loss : [2.92163] Val CTC Loss : [1.63375]\n"
     ]
    },
    {
     "data": {
      "application/vnd.jupyter.widget-view+json": {
       "model_id": "3f67c555814348ffa718d94da7049503",
       "version_major": 2,
       "version_minor": 0
      },
      "text/plain": [
       "  0%|          | 0/259 [00:00<?, ?it/s]"
      ]
     },
     "metadata": {},
     "output_type": "display_data"
    },
    {
     "data": {
      "application/vnd.jupyter.widget-view+json": {
       "model_id": "6185bbbf59764667b8c88b648ae1ec60",
       "version_major": 2,
       "version_minor": 0
      },
      "text/plain": [
       "  0%|          | 0/42 [00:00<?, ?it/s]"
      ]
     },
     "metadata": {},
     "output_type": "display_data"
    },
    {
     "name": "stdout",
     "output_type": "stream",
     "text": [
      "Epoch : [5] Train CTC Loss : [1.95564] Val CTC Loss : [1.02609]\n"
     ]
    },
    {
     "data": {
      "application/vnd.jupyter.widget-view+json": {
       "model_id": "0179fb02292740468e7dd0b2811f8430",
       "version_major": 2,
       "version_minor": 0
      },
      "text/plain": [
       "  0%|          | 0/259 [00:00<?, ?it/s]"
      ]
     },
     "metadata": {},
     "output_type": "display_data"
    },
    {
     "data": {
      "application/vnd.jupyter.widget-view+json": {
       "model_id": "6e86ea300dda407b98c1998646a28c7f",
       "version_major": 2,
       "version_minor": 0
      },
      "text/plain": [
       "  0%|          | 0/42 [00:00<?, ?it/s]"
      ]
     },
     "metadata": {},
     "output_type": "display_data"
    },
    {
     "name": "stdout",
     "output_type": "stream",
     "text": [
      "Epoch : [6] Train CTC Loss : [1.38198] Val CTC Loss : [0.74690]\n"
     ]
    },
    {
     "data": {
      "application/vnd.jupyter.widget-view+json": {
       "model_id": "b17b4b47bdd04e449ec60c91dc65d466",
       "version_major": 2,
       "version_minor": 0
      },
      "text/plain": [
       "  0%|          | 0/259 [00:00<?, ?it/s]"
      ]
     },
     "metadata": {},
     "output_type": "display_data"
    },
    {
     "data": {
      "application/vnd.jupyter.widget-view+json": {
       "model_id": "9be3925f467a434bb082a68c9264b789",
       "version_major": 2,
       "version_minor": 0
      },
      "text/plain": [
       "  0%|          | 0/42 [00:00<?, ?it/s]"
      ]
     },
     "metadata": {},
     "output_type": "display_data"
    },
    {
     "name": "stdout",
     "output_type": "stream",
     "text": [
      "Epoch : [7] Train CTC Loss : [1.02963] Val CTC Loss : [0.53161]\n"
     ]
    },
    {
     "data": {
      "application/vnd.jupyter.widget-view+json": {
       "model_id": "0d0c70c255d849d4a3785609287ccdb0",
       "version_major": 2,
       "version_minor": 0
      },
      "text/plain": [
       "  0%|          | 0/259 [00:00<?, ?it/s]"
      ]
     },
     "metadata": {},
     "output_type": "display_data"
    },
    {
     "data": {
      "application/vnd.jupyter.widget-view+json": {
       "model_id": "7094934c78f34be4b42fed9b2ef564ea",
       "version_major": 2,
       "version_minor": 0
      },
      "text/plain": [
       "  0%|          | 0/42 [00:00<?, ?it/s]"
      ]
     },
     "metadata": {},
     "output_type": "display_data"
    },
    {
     "name": "stdout",
     "output_type": "stream",
     "text": [
      "Epoch : [8] Train CTC Loss : [0.80307] Val CTC Loss : [0.42908]\n"
     ]
    },
    {
     "data": {
      "application/vnd.jupyter.widget-view+json": {
       "model_id": "7c203665dc2b4e80b2ac3f8997499d02",
       "version_major": 2,
       "version_minor": 0
      },
      "text/plain": [
       "  0%|          | 0/259 [00:00<?, ?it/s]"
      ]
     },
     "metadata": {},
     "output_type": "display_data"
    },
    {
     "data": {
      "application/vnd.jupyter.widget-view+json": {
       "model_id": "350fc8de6e0044fda6b6d63747e5a282",
       "version_major": 2,
       "version_minor": 0
      },
      "text/plain": [
       "  0%|          | 0/42 [00:00<?, ?it/s]"
      ]
     },
     "metadata": {},
     "output_type": "display_data"
    },
    {
     "name": "stdout",
     "output_type": "stream",
     "text": [
      "Epoch : [9] Train CTC Loss : [0.64523] Val CTC Loss : [0.34102]\n"
     ]
    },
    {
     "data": {
      "application/vnd.jupyter.widget-view+json": {
       "model_id": "e9f23884e01249d992a9a2abb6d5151e",
       "version_major": 2,
       "version_minor": 0
      },
      "text/plain": [
       "  0%|          | 0/259 [00:00<?, ?it/s]"
      ]
     },
     "metadata": {},
     "output_type": "display_data"
    },
    {
     "data": {
      "application/vnd.jupyter.widget-view+json": {
       "model_id": "87c607ae7cc34dfd9e1ac87044948460",
       "version_major": 2,
       "version_minor": 0
      },
      "text/plain": [
       "  0%|          | 0/42 [00:00<?, ?it/s]"
      ]
     },
     "metadata": {},
     "output_type": "display_data"
    },
    {
     "name": "stdout",
     "output_type": "stream",
     "text": [
      "Epoch : [10] Train CTC Loss : [0.54701] Val CTC Loss : [0.33079]\n"
     ]
    },
    {
     "data": {
      "application/vnd.jupyter.widget-view+json": {
       "model_id": "f4d942aca27c43fb9dc0d101d046aa21",
       "version_major": 2,
       "version_minor": 0
      },
      "text/plain": [
       "  0%|          | 0/259 [00:00<?, ?it/s]"
      ]
     },
     "metadata": {},
     "output_type": "display_data"
    },
    {
     "data": {
      "application/vnd.jupyter.widget-view+json": {
       "model_id": "18d08ce50f5143f99888d5b62fbbf243",
       "version_major": 2,
       "version_minor": 0
      },
      "text/plain": [
       "  0%|          | 0/42 [00:00<?, ?it/s]"
      ]
     },
     "metadata": {},
     "output_type": "display_data"
    },
    {
     "name": "stdout",
     "output_type": "stream",
     "text": [
      "Epoch : [11] Train CTC Loss : [0.45835] Val CTC Loss : [0.31476]\n"
     ]
    },
    {
     "data": {
      "application/vnd.jupyter.widget-view+json": {
       "model_id": "54bbe940e2504236bf8ed3d481cf4a0f",
       "version_major": 2,
       "version_minor": 0
      },
      "text/plain": [
       "  0%|          | 0/259 [00:00<?, ?it/s]"
      ]
     },
     "metadata": {},
     "output_type": "display_data"
    },
    {
     "data": {
      "application/vnd.jupyter.widget-view+json": {
       "model_id": "96c6d339c3d348f880722a52d727e6ab",
       "version_major": 2,
       "version_minor": 0
      },
      "text/plain": [
       "  0%|          | 0/42 [00:00<?, ?it/s]"
      ]
     },
     "metadata": {},
     "output_type": "display_data"
    },
    {
     "name": "stdout",
     "output_type": "stream",
     "text": [
      "Epoch : [12] Train CTC Loss : [0.39662] Val CTC Loss : [0.29276]\n"
     ]
    },
    {
     "data": {
      "application/vnd.jupyter.widget-view+json": {
       "model_id": "787ce32d442d48e98353e27b62360b28",
       "version_major": 2,
       "version_minor": 0
      },
      "text/plain": [
       "  0%|          | 0/259 [00:00<?, ?it/s]"
      ]
     },
     "metadata": {},
     "output_type": "display_data"
    },
    {
     "data": {
      "application/vnd.jupyter.widget-view+json": {
       "model_id": "8e9b6ec0f6304168b7e37b682e513f77",
       "version_major": 2,
       "version_minor": 0
      },
      "text/plain": [
       "  0%|          | 0/42 [00:00<?, ?it/s]"
      ]
     },
     "metadata": {},
     "output_type": "display_data"
    },
    {
     "name": "stdout",
     "output_type": "stream",
     "text": [
      "Epoch : [13] Train CTC Loss : [0.36063] Val CTC Loss : [0.25891]\n"
     ]
    },
    {
     "data": {
      "application/vnd.jupyter.widget-view+json": {
       "model_id": "42425d8aec594089b772edaacc343105",
       "version_major": 2,
       "version_minor": 0
      },
      "text/plain": [
       "  0%|          | 0/259 [00:00<?, ?it/s]"
      ]
     },
     "metadata": {},
     "output_type": "display_data"
    },
    {
     "data": {
      "application/vnd.jupyter.widget-view+json": {
       "model_id": "cdfc819b39c442a89afe5d18fb0cadc4",
       "version_major": 2,
       "version_minor": 0
      },
      "text/plain": [
       "  0%|          | 0/42 [00:00<?, ?it/s]"
      ]
     },
     "metadata": {},
     "output_type": "display_data"
    },
    {
     "name": "stdout",
     "output_type": "stream",
     "text": [
      "Epoch : [14] Train CTC Loss : [0.32050] Val CTC Loss : [0.23994]\n"
     ]
    },
    {
     "data": {
      "application/vnd.jupyter.widget-view+json": {
       "model_id": "a807332257d445ccbacf0c1aa5d38c05",
       "version_major": 2,
       "version_minor": 0
      },
      "text/plain": [
       "  0%|          | 0/259 [00:00<?, ?it/s]"
      ]
     },
     "metadata": {},
     "output_type": "display_data"
    },
    {
     "data": {
      "application/vnd.jupyter.widget-view+json": {
       "model_id": "701ac19035fe4de78f33ff8df990e018",
       "version_major": 2,
       "version_minor": 0
      },
      "text/plain": [
       "  0%|          | 0/42 [00:00<?, ?it/s]"
      ]
     },
     "metadata": {},
     "output_type": "display_data"
    },
    {
     "name": "stdout",
     "output_type": "stream",
     "text": [
      "Epoch : [15] Train CTC Loss : [0.28850] Val CTC Loss : [0.23162]\n"
     ]
    },
    {
     "data": {
      "application/vnd.jupyter.widget-view+json": {
       "model_id": "7b4cf3dee101438094e106c718e4599c",
       "version_major": 2,
       "version_minor": 0
      },
      "text/plain": [
       "  0%|          | 0/259 [00:00<?, ?it/s]"
      ]
     },
     "metadata": {},
     "output_type": "display_data"
    },
    {
     "data": {
      "application/vnd.jupyter.widget-view+json": {
       "model_id": "78d6ede8d4ea4959b015043f09ed2d19",
       "version_major": 2,
       "version_minor": 0
      },
      "text/plain": [
       "  0%|          | 0/42 [00:00<?, ?it/s]"
      ]
     },
     "metadata": {},
     "output_type": "display_data"
    },
    {
     "name": "stdout",
     "output_type": "stream",
     "text": [
      "Epoch : [16] Train CTC Loss : [0.27748] Val CTC Loss : [0.20388]\n"
     ]
    },
    {
     "data": {
      "application/vnd.jupyter.widget-view+json": {
       "model_id": "2ee53bc685b34961afaa1b40500465c2",
       "version_major": 2,
       "version_minor": 0
      },
      "text/plain": [
       "  0%|          | 0/259 [00:00<?, ?it/s]"
      ]
     },
     "metadata": {},
     "output_type": "display_data"
    },
    {
     "data": {
      "application/vnd.jupyter.widget-view+json": {
       "model_id": "cf3bef8e4dd94e77a823d79245aacd2c",
       "version_major": 2,
       "version_minor": 0
      },
      "text/plain": [
       "  0%|          | 0/42 [00:00<?, ?it/s]"
      ]
     },
     "metadata": {},
     "output_type": "display_data"
    },
    {
     "name": "stdout",
     "output_type": "stream",
     "text": [
      "Epoch : [17] Train CTC Loss : [0.25522] Val CTC Loss : [0.25127]\n"
     ]
    },
    {
     "data": {
      "application/vnd.jupyter.widget-view+json": {
       "model_id": "a06023d995414668af8f67362e2786dd",
       "version_major": 2,
       "version_minor": 0
      },
      "text/plain": [
       "  0%|          | 0/259 [00:00<?, ?it/s]"
      ]
     },
     "metadata": {},
     "output_type": "display_data"
    },
    {
     "data": {
      "application/vnd.jupyter.widget-view+json": {
       "model_id": "9333a03c5f074d718cceaf0e487ce40b",
       "version_major": 2,
       "version_minor": 0
      },
      "text/plain": [
       "  0%|          | 0/42 [00:00<?, ?it/s]"
      ]
     },
     "metadata": {},
     "output_type": "display_data"
    },
    {
     "name": "stdout",
     "output_type": "stream",
     "text": [
      "Epoch : [18] Train CTC Loss : [0.23620] Val CTC Loss : [0.19825]\n"
     ]
    },
    {
     "data": {
      "application/vnd.jupyter.widget-view+json": {
       "model_id": "39438625206147cd99987b1f94b96452",
       "version_major": 2,
       "version_minor": 0
      },
      "text/plain": [
       "  0%|          | 0/259 [00:00<?, ?it/s]"
      ]
     },
     "metadata": {},
     "output_type": "display_data"
    },
    {
     "data": {
      "application/vnd.jupyter.widget-view+json": {
       "model_id": "5f659207e56e40a7aafba433ce8bb9be",
       "version_major": 2,
       "version_minor": 0
      },
      "text/plain": [
       "  0%|          | 0/42 [00:00<?, ?it/s]"
      ]
     },
     "metadata": {},
     "output_type": "display_data"
    },
    {
     "name": "stdout",
     "output_type": "stream",
     "text": [
      "Epoch : [19] Train CTC Loss : [0.21695] Val CTC Loss : [0.19250]\n"
     ]
    },
    {
     "data": {
      "application/vnd.jupyter.widget-view+json": {
       "model_id": "b8ac014207fa4dba968b9573c4116eba",
       "version_major": 2,
       "version_minor": 0
      },
      "text/plain": [
       "  0%|          | 0/259 [00:00<?, ?it/s]"
      ]
     },
     "metadata": {},
     "output_type": "display_data"
    },
    {
     "data": {
      "application/vnd.jupyter.widget-view+json": {
       "model_id": "0bd58e65af4547deb40eeda0cea0f4f5",
       "version_major": 2,
       "version_minor": 0
      },
      "text/plain": [
       "  0%|          | 0/42 [00:00<?, ?it/s]"
      ]
     },
     "metadata": {},
     "output_type": "display_data"
    },
    {
     "name": "stdout",
     "output_type": "stream",
     "text": [
      "Epoch : [20] Train CTC Loss : [0.21128] Val CTC Loss : [0.24411]\n"
     ]
    },
    {
     "data": {
      "application/vnd.jupyter.widget-view+json": {
       "model_id": "d8297916f2b24e04b6bf53f7390264ec",
       "version_major": 2,
       "version_minor": 0
      },
      "text/plain": [
       "  0%|          | 0/259 [00:00<?, ?it/s]"
      ]
     },
     "metadata": {},
     "output_type": "display_data"
    },
    {
     "data": {
      "application/vnd.jupyter.widget-view+json": {
       "model_id": "697ba5d6333547fdbe93089f2f63b9f5",
       "version_major": 2,
       "version_minor": 0
      },
      "text/plain": [
       "  0%|          | 0/42 [00:00<?, ?it/s]"
      ]
     },
     "metadata": {},
     "output_type": "display_data"
    },
    {
     "name": "stdout",
     "output_type": "stream",
     "text": [
      "Epoch : [21] Train CTC Loss : [0.21032] Val CTC Loss : [0.21581]\n"
     ]
    },
    {
     "data": {
      "application/vnd.jupyter.widget-view+json": {
       "model_id": "a9a02eca5fb04ff4a1e171b48c22a3f3",
       "version_major": 2,
       "version_minor": 0
      },
      "text/plain": [
       "  0%|          | 0/259 [00:00<?, ?it/s]"
      ]
     },
     "metadata": {},
     "output_type": "display_data"
    },
    {
     "data": {
      "application/vnd.jupyter.widget-view+json": {
       "model_id": "3190f5d713fe44919b9026316aecd5b7",
       "version_major": 2,
       "version_minor": 0
      },
      "text/plain": [
       "  0%|          | 0/42 [00:00<?, ?it/s]"
      ]
     },
     "metadata": {},
     "output_type": "display_data"
    },
    {
     "name": "stdout",
     "output_type": "stream",
     "text": [
      "Epoch : [22] Train CTC Loss : [0.19316] Val CTC Loss : [0.17051]\n"
     ]
    },
    {
     "data": {
      "application/vnd.jupyter.widget-view+json": {
       "model_id": "a953beb8f11d46c18fea3b0f0a34fce2",
       "version_major": 2,
       "version_minor": 0
      },
      "text/plain": [
       "  0%|          | 0/259 [00:00<?, ?it/s]"
      ]
     },
     "metadata": {},
     "output_type": "display_data"
    },
    {
     "data": {
      "application/vnd.jupyter.widget-view+json": {
       "model_id": "194ef894a06049a38d4c1abfc89f9328",
       "version_major": 2,
       "version_minor": 0
      },
      "text/plain": [
       "  0%|          | 0/42 [00:00<?, ?it/s]"
      ]
     },
     "metadata": {},
     "output_type": "display_data"
    },
    {
     "name": "stdout",
     "output_type": "stream",
     "text": [
      "Epoch : [23] Train CTC Loss : [0.18656] Val CTC Loss : [0.18182]\n"
     ]
    },
    {
     "data": {
      "application/vnd.jupyter.widget-view+json": {
       "model_id": "5eb8c3aa54c14456812942177ef656fc",
       "version_major": 2,
       "version_minor": 0
      },
      "text/plain": [
       "  0%|          | 0/259 [00:00<?, ?it/s]"
      ]
     },
     "metadata": {},
     "output_type": "display_data"
    },
    {
     "data": {
      "application/vnd.jupyter.widget-view+json": {
       "model_id": "66b71d05bc204a6fac7952be8448247d",
       "version_major": 2,
       "version_minor": 0
      },
      "text/plain": [
       "  0%|          | 0/42 [00:00<?, ?it/s]"
      ]
     },
     "metadata": {},
     "output_type": "display_data"
    },
    {
     "name": "stdout",
     "output_type": "stream",
     "text": [
      "Epoch : [24] Train CTC Loss : [0.17500] Val CTC Loss : [0.18472]\n"
     ]
    },
    {
     "data": {
      "application/vnd.jupyter.widget-view+json": {
       "model_id": "6886510302434019ab37583f78f23d9f",
       "version_major": 2,
       "version_minor": 0
      },
      "text/plain": [
       "  0%|          | 0/259 [00:00<?, ?it/s]"
      ]
     },
     "metadata": {},
     "output_type": "display_data"
    },
    {
     "data": {
      "application/vnd.jupyter.widget-view+json": {
       "model_id": "f4135148812644108262d63ee1d1e382",
       "version_major": 2,
       "version_minor": 0
      },
      "text/plain": [
       "  0%|          | 0/42 [00:00<?, ?it/s]"
      ]
     },
     "metadata": {},
     "output_type": "display_data"
    },
    {
     "name": "stdout",
     "output_type": "stream",
     "text": [
      "Epoch : [25] Train CTC Loss : [0.18392] Val CTC Loss : [0.27264]\n",
      "Epoch 00025: reducing learning rate of group 0 to 5.0000e-04.\n"
     ]
    },
    {
     "data": {
      "application/vnd.jupyter.widget-view+json": {
       "model_id": "9dcbef9ab7324e3fbb967d2b92f8b546",
       "version_major": 2,
       "version_minor": 0
      },
      "text/plain": [
       "  0%|          | 0/259 [00:00<?, ?it/s]"
      ]
     },
     "metadata": {},
     "output_type": "display_data"
    },
    {
     "data": {
      "application/vnd.jupyter.widget-view+json": {
       "model_id": "5c5d0f65349848619d60833815b7828b",
       "version_major": 2,
       "version_minor": 0
      },
      "text/plain": [
       "  0%|          | 0/42 [00:00<?, ?it/s]"
      ]
     },
     "metadata": {},
     "output_type": "display_data"
    },
    {
     "name": "stdout",
     "output_type": "stream",
     "text": [
      "Epoch : [26] Train CTC Loss : [0.08830] Val CTC Loss : [0.10236]\n"
     ]
    },
    {
     "data": {
      "application/vnd.jupyter.widget-view+json": {
       "model_id": "56b88a1f609d47d6b883388a0f255c80",
       "version_major": 2,
       "version_minor": 0
      },
      "text/plain": [
       "  0%|          | 0/259 [00:00<?, ?it/s]"
      ]
     },
     "metadata": {},
     "output_type": "display_data"
    },
    {
     "data": {
      "application/vnd.jupyter.widget-view+json": {
       "model_id": "b8a4c76502294d9599e249217b8dbe78",
       "version_major": 2,
       "version_minor": 0
      },
      "text/plain": [
       "  0%|          | 0/42 [00:00<?, ?it/s]"
      ]
     },
     "metadata": {},
     "output_type": "display_data"
    },
    {
     "name": "stdout",
     "output_type": "stream",
     "text": [
      "Epoch : [27] Train CTC Loss : [0.06096] Val CTC Loss : [0.09611]\n"
     ]
    },
    {
     "data": {
      "application/vnd.jupyter.widget-view+json": {
       "model_id": "c51d829c4c2542ed9dec5f4bbbd5cf9e",
       "version_major": 2,
       "version_minor": 0
      },
      "text/plain": [
       "  0%|          | 0/259 [00:00<?, ?it/s]"
      ]
     },
     "metadata": {},
     "output_type": "display_data"
    },
    {
     "data": {
      "application/vnd.jupyter.widget-view+json": {
       "model_id": "4618f9fb748a44f39f90ef0eb0d508d9",
       "version_major": 2,
       "version_minor": 0
      },
      "text/plain": [
       "  0%|          | 0/42 [00:00<?, ?it/s]"
      ]
     },
     "metadata": {},
     "output_type": "display_data"
    },
    {
     "name": "stdout",
     "output_type": "stream",
     "text": [
      "Epoch : [28] Train CTC Loss : [0.05566] Val CTC Loss : [0.09595]\n"
     ]
    },
    {
     "data": {
      "application/vnd.jupyter.widget-view+json": {
       "model_id": "11dfb35eddad4bf5afd04148da41bb08",
       "version_major": 2,
       "version_minor": 0
      },
      "text/plain": [
       "  0%|          | 0/259 [00:00<?, ?it/s]"
      ]
     },
     "metadata": {},
     "output_type": "display_data"
    },
    {
     "data": {
      "application/vnd.jupyter.widget-view+json": {
       "model_id": "a856ed3af0954b3e8aa29f72e18fe4a5",
       "version_major": 2,
       "version_minor": 0
      },
      "text/plain": [
       "  0%|          | 0/42 [00:00<?, ?it/s]"
      ]
     },
     "metadata": {},
     "output_type": "display_data"
    },
    {
     "name": "stdout",
     "output_type": "stream",
     "text": [
      "Epoch : [29] Train CTC Loss : [0.05389] Val CTC Loss : [0.09269]\n"
     ]
    },
    {
     "data": {
      "application/vnd.jupyter.widget-view+json": {
       "model_id": "a59125e4923a434ea39e626662e39979",
       "version_major": 2,
       "version_minor": 0
      },
      "text/plain": [
       "  0%|          | 0/259 [00:00<?, ?it/s]"
      ]
     },
     "metadata": {},
     "output_type": "display_data"
    },
    {
     "data": {
      "application/vnd.jupyter.widget-view+json": {
       "model_id": "02c55eec40f04a5da883d11e81f0f0f7",
       "version_major": 2,
       "version_minor": 0
      },
      "text/plain": [
       "  0%|          | 0/42 [00:00<?, ?it/s]"
      ]
     },
     "metadata": {},
     "output_type": "display_data"
    },
    {
     "name": "stdout",
     "output_type": "stream",
     "text": [
      "Epoch : [30] Train CTC Loss : [0.05242] Val CTC Loss : [0.10853]\n"
     ]
    },
    {
     "data": {
      "application/vnd.jupyter.widget-view+json": {
       "model_id": "5119e3d696664676b3b8dfc83416d3b2",
       "version_major": 2,
       "version_minor": 0
      },
      "text/plain": [
       "  0%|          | 0/259 [00:00<?, ?it/s]"
      ]
     },
     "metadata": {},
     "output_type": "display_data"
    },
    {
     "data": {
      "application/vnd.jupyter.widget-view+json": {
       "model_id": "3a517c79bbd74c42a4097dc0d36572f1",
       "version_major": 2,
       "version_minor": 0
      },
      "text/plain": [
       "  0%|          | 0/42 [00:00<?, ?it/s]"
      ]
     },
     "metadata": {},
     "output_type": "display_data"
    },
    {
     "name": "stdout",
     "output_type": "stream",
     "text": [
      "Epoch : [31] Train CTC Loss : [0.05205] Val CTC Loss : [0.11287]\n"
     ]
    },
    {
     "data": {
      "application/vnd.jupyter.widget-view+json": {
       "model_id": "d0385269e2e54a8d8351580b2e5588b0",
       "version_major": 2,
       "version_minor": 0
      },
      "text/plain": [
       "  0%|          | 0/259 [00:00<?, ?it/s]"
      ]
     },
     "metadata": {},
     "output_type": "display_data"
    },
    {
     "data": {
      "application/vnd.jupyter.widget-view+json": {
       "model_id": "f57f6a1b3b87452083ad59a63e3077d1",
       "version_major": 2,
       "version_minor": 0
      },
      "text/plain": [
       "  0%|          | 0/42 [00:00<?, ?it/s]"
      ]
     },
     "metadata": {},
     "output_type": "display_data"
    },
    {
     "name": "stdout",
     "output_type": "stream",
     "text": [
      "Epoch : [32] Train CTC Loss : [0.05070] Val CTC Loss : [0.09886]\n",
      "Epoch 00032: reducing learning rate of group 0 to 2.5000e-04.\n"
     ]
    },
    {
     "data": {
      "application/vnd.jupyter.widget-view+json": {
       "model_id": "427af844c8f44c51bd66e8c8babc7a43",
       "version_major": 2,
       "version_minor": 0
      },
      "text/plain": [
       "  0%|          | 0/259 [00:00<?, ?it/s]"
      ]
     },
     "metadata": {},
     "output_type": "display_data"
    },
    {
     "data": {
      "application/vnd.jupyter.widget-view+json": {
       "model_id": "1eb67f9554fe481c82490f555398c7fa",
       "version_major": 2,
       "version_minor": 0
      },
      "text/plain": [
       "  0%|          | 0/42 [00:00<?, ?it/s]"
      ]
     },
     "metadata": {},
     "output_type": "display_data"
    },
    {
     "name": "stdout",
     "output_type": "stream",
     "text": [
      "Epoch : [33] Train CTC Loss : [0.03275] Val CTC Loss : [0.08055]\n"
     ]
    },
    {
     "data": {
      "application/vnd.jupyter.widget-view+json": {
       "model_id": "bcffb1b4d19148ee932ced06232fbae2",
       "version_major": 2,
       "version_minor": 0
      },
      "text/plain": [
       "  0%|          | 0/259 [00:00<?, ?it/s]"
      ]
     },
     "metadata": {},
     "output_type": "display_data"
    },
    {
     "data": {
      "application/vnd.jupyter.widget-view+json": {
       "model_id": "b5966c4145c94709a61dc23fa2cbf5ac",
       "version_major": 2,
       "version_minor": 0
      },
      "text/plain": [
       "  0%|          | 0/42 [00:00<?, ?it/s]"
      ]
     },
     "metadata": {},
     "output_type": "display_data"
    },
    {
     "name": "stdout",
     "output_type": "stream",
     "text": [
      "Epoch : [34] Train CTC Loss : [0.02654] Val CTC Loss : [0.07774]\n"
     ]
    },
    {
     "data": {
      "application/vnd.jupyter.widget-view+json": {
       "model_id": "ed2cd8c40a84498d9497dae2111f706b",
       "version_major": 2,
       "version_minor": 0
      },
      "text/plain": [
       "  0%|          | 0/259 [00:00<?, ?it/s]"
      ]
     },
     "metadata": {},
     "output_type": "display_data"
    },
    {
     "data": {
      "application/vnd.jupyter.widget-view+json": {
       "model_id": "406b2733ab54452b85adb562a44d3da1",
       "version_major": 2,
       "version_minor": 0
      },
      "text/plain": [
       "  0%|          | 0/42 [00:00<?, ?it/s]"
      ]
     },
     "metadata": {},
     "output_type": "display_data"
    },
    {
     "name": "stdout",
     "output_type": "stream",
     "text": [
      "Epoch : [35] Train CTC Loss : [0.02552] Val CTC Loss : [0.08185]\n"
     ]
    },
    {
     "data": {
      "application/vnd.jupyter.widget-view+json": {
       "model_id": "5b8e80873b734669badb8442b41be915",
       "version_major": 2,
       "version_minor": 0
      },
      "text/plain": [
       "  0%|          | 0/259 [00:00<?, ?it/s]"
      ]
     },
     "metadata": {},
     "output_type": "display_data"
    },
    {
     "data": {
      "application/vnd.jupyter.widget-view+json": {
       "model_id": "45157e02ad0b4a0dad86f9a6e6136122",
       "version_major": 2,
       "version_minor": 0
      },
      "text/plain": [
       "  0%|          | 0/42 [00:00<?, ?it/s]"
      ]
     },
     "metadata": {},
     "output_type": "display_data"
    },
    {
     "name": "stdout",
     "output_type": "stream",
     "text": [
      "Epoch : [36] Train CTC Loss : [0.02212] Val CTC Loss : [0.07831]\n"
     ]
    },
    {
     "data": {
      "application/vnd.jupyter.widget-view+json": {
       "model_id": "7a38d55884f7486c9b2b6ba937e5a38d",
       "version_major": 2,
       "version_minor": 0
      },
      "text/plain": [
       "  0%|          | 0/259 [00:00<?, ?it/s]"
      ]
     },
     "metadata": {},
     "output_type": "display_data"
    },
    {
     "data": {
      "application/vnd.jupyter.widget-view+json": {
       "model_id": "ea07a13afeb24129ba5be5da97304a75",
       "version_major": 2,
       "version_minor": 0
      },
      "text/plain": [
       "  0%|          | 0/42 [00:00<?, ?it/s]"
      ]
     },
     "metadata": {},
     "output_type": "display_data"
    },
    {
     "name": "stdout",
     "output_type": "stream",
     "text": [
      "Epoch : [37] Train CTC Loss : [0.02343] Val CTC Loss : [0.08257]\n",
      "Epoch 00037: reducing learning rate of group 0 to 1.2500e-04.\n"
     ]
    },
    {
     "data": {
      "application/vnd.jupyter.widget-view+json": {
       "model_id": "60ef8cab0cd2453fbb13e6a1e87f8b70",
       "version_major": 2,
       "version_minor": 0
      },
      "text/plain": [
       "  0%|          | 0/259 [00:00<?, ?it/s]"
      ]
     },
     "metadata": {},
     "output_type": "display_data"
    },
    {
     "data": {
      "application/vnd.jupyter.widget-view+json": {
       "model_id": "7c13d56ab1a449c3b685237121dfeebb",
       "version_major": 2,
       "version_minor": 0
      },
      "text/plain": [
       "  0%|          | 0/42 [00:00<?, ?it/s]"
      ]
     },
     "metadata": {},
     "output_type": "display_data"
    },
    {
     "name": "stdout",
     "output_type": "stream",
     "text": [
      "Epoch : [38] Train CTC Loss : [0.01739] Val CTC Loss : [0.07514]\n"
     ]
    },
    {
     "data": {
      "application/vnd.jupyter.widget-view+json": {
       "model_id": "74c9e1a1442c4c15904a43bcb20f6b54",
       "version_major": 2,
       "version_minor": 0
      },
      "text/plain": [
       "  0%|          | 0/259 [00:00<?, ?it/s]"
      ]
     },
     "metadata": {},
     "output_type": "display_data"
    },
    {
     "data": {
      "application/vnd.jupyter.widget-view+json": {
       "model_id": "965c6fa9d5b64d4cb935bcf40713f8c4",
       "version_major": 2,
       "version_minor": 0
      },
      "text/plain": [
       "  0%|          | 0/42 [00:00<?, ?it/s]"
      ]
     },
     "metadata": {},
     "output_type": "display_data"
    },
    {
     "name": "stdout",
     "output_type": "stream",
     "text": [
      "Epoch : [39] Train CTC Loss : [0.01552] Val CTC Loss : [0.07157]\n"
     ]
    },
    {
     "data": {
      "application/vnd.jupyter.widget-view+json": {
       "model_id": "e8518ca9f41842c88726879dc737174b",
       "version_major": 2,
       "version_minor": 0
      },
      "text/plain": [
       "  0%|          | 0/259 [00:00<?, ?it/s]"
      ]
     },
     "metadata": {},
     "output_type": "display_data"
    },
    {
     "data": {
      "application/vnd.jupyter.widget-view+json": {
       "model_id": "8efa45e950044e14bef6bc0e54236576",
       "version_major": 2,
       "version_minor": 0
      },
      "text/plain": [
       "  0%|          | 0/42 [00:00<?, ?it/s]"
      ]
     },
     "metadata": {},
     "output_type": "display_data"
    },
    {
     "name": "stdout",
     "output_type": "stream",
     "text": [
      "Epoch : [40] Train CTC Loss : [0.01492] Val CTC Loss : [0.07097]\n"
     ]
    },
    {
     "data": {
      "application/vnd.jupyter.widget-view+json": {
       "model_id": "d29f816acbbf4e7dbbe453625d1f6c7a",
       "version_major": 2,
       "version_minor": 0
      },
      "text/plain": [
       "  0%|          | 0/259 [00:00<?, ?it/s]"
      ]
     },
     "metadata": {},
     "output_type": "display_data"
    },
    {
     "data": {
      "application/vnd.jupyter.widget-view+json": {
       "model_id": "28495e609b8d4a06be3f7d43fb97f6f5",
       "version_major": 2,
       "version_minor": 0
      },
      "text/plain": [
       "  0%|          | 0/42 [00:00<?, ?it/s]"
      ]
     },
     "metadata": {},
     "output_type": "display_data"
    },
    {
     "name": "stdout",
     "output_type": "stream",
     "text": [
      "Epoch : [41] Train CTC Loss : [0.01446] Val CTC Loss : [0.07239]\n"
     ]
    },
    {
     "data": {
      "application/vnd.jupyter.widget-view+json": {
       "model_id": "83b17693978a40a785115b02e3104771",
       "version_major": 2,
       "version_minor": 0
      },
      "text/plain": [
       "  0%|          | 0/259 [00:00<?, ?it/s]"
      ]
     },
     "metadata": {},
     "output_type": "display_data"
    },
    {
     "data": {
      "application/vnd.jupyter.widget-view+json": {
       "model_id": "5168c2b1adc1494abce89985b199d5b2",
       "version_major": 2,
       "version_minor": 0
      },
      "text/plain": [
       "  0%|          | 0/42 [00:00<?, ?it/s]"
      ]
     },
     "metadata": {},
     "output_type": "display_data"
    },
    {
     "name": "stdout",
     "output_type": "stream",
     "text": [
      "Epoch : [42] Train CTC Loss : [0.01335] Val CTC Loss : [0.07141]\n"
     ]
    },
    {
     "data": {
      "application/vnd.jupyter.widget-view+json": {
       "model_id": "66a3b002cb0d482faa837cf7b380e018",
       "version_major": 2,
       "version_minor": 0
      },
      "text/plain": [
       "  0%|          | 0/259 [00:00<?, ?it/s]"
      ]
     },
     "metadata": {},
     "output_type": "display_data"
    },
    {
     "data": {
      "application/vnd.jupyter.widget-view+json": {
       "model_id": "f4f87a234fb04c24af0ba1265a96fc45",
       "version_major": 2,
       "version_minor": 0
      },
      "text/plain": [
       "  0%|          | 0/42 [00:00<?, ?it/s]"
      ]
     },
     "metadata": {},
     "output_type": "display_data"
    },
    {
     "name": "stdout",
     "output_type": "stream",
     "text": [
      "Epoch : [43] Train CTC Loss : [0.01343] Val CTC Loss : [0.07211]\n",
      "Epoch 00043: reducing learning rate of group 0 to 6.2500e-05.\n"
     ]
    },
    {
     "data": {
      "application/vnd.jupyter.widget-view+json": {
       "model_id": "0aa0808313604aa388874a2f1debf44e",
       "version_major": 2,
       "version_minor": 0
      },
      "text/plain": [
       "  0%|          | 0/259 [00:00<?, ?it/s]"
      ]
     },
     "metadata": {},
     "output_type": "display_data"
    },
    {
     "data": {
      "application/vnd.jupyter.widget-view+json": {
       "model_id": "40ff2f9282d347d9bdae6ab5e38673b6",
       "version_major": 2,
       "version_minor": 0
      },
      "text/plain": [
       "  0%|          | 0/42 [00:00<?, ?it/s]"
      ]
     },
     "metadata": {},
     "output_type": "display_data"
    },
    {
     "name": "stdout",
     "output_type": "stream",
     "text": [
      "Epoch : [44] Train CTC Loss : [0.01178] Val CTC Loss : [0.06943]\n"
     ]
    },
    {
     "data": {
      "application/vnd.jupyter.widget-view+json": {
       "model_id": "489215aa720a45d397eb1e3a38971c4f",
       "version_major": 2,
       "version_minor": 0
      },
      "text/plain": [
       "  0%|          | 0/259 [00:00<?, ?it/s]"
      ]
     },
     "metadata": {},
     "output_type": "display_data"
    },
    {
     "data": {
      "application/vnd.jupyter.widget-view+json": {
       "model_id": "15ce8a7e4d9e4d86a04ecd9f1c19fe4b",
       "version_major": 2,
       "version_minor": 0
      },
      "text/plain": [
       "  0%|          | 0/42 [00:00<?, ?it/s]"
      ]
     },
     "metadata": {},
     "output_type": "display_data"
    },
    {
     "name": "stdout",
     "output_type": "stream",
     "text": [
      "Epoch : [45] Train CTC Loss : [0.01079] Val CTC Loss : [0.06808]\n"
     ]
    },
    {
     "data": {
      "application/vnd.jupyter.widget-view+json": {
       "model_id": "e086ac5f1202408fb88ea096d2ca6489",
       "version_major": 2,
       "version_minor": 0
      },
      "text/plain": [
       "  0%|          | 0/259 [00:00<?, ?it/s]"
      ]
     },
     "metadata": {},
     "output_type": "display_data"
    },
    {
     "data": {
      "application/vnd.jupyter.widget-view+json": {
       "model_id": "5e361091f865418bbe9d3f3efd309273",
       "version_major": 2,
       "version_minor": 0
      },
      "text/plain": [
       "  0%|          | 0/42 [00:00<?, ?it/s]"
      ]
     },
     "metadata": {},
     "output_type": "display_data"
    },
    {
     "name": "stdout",
     "output_type": "stream",
     "text": [
      "Epoch : [46] Train CTC Loss : [0.01111] Val CTC Loss : [0.06758]\n"
     ]
    },
    {
     "data": {
      "application/vnd.jupyter.widget-view+json": {
       "model_id": "dab6d20d030c46148db8048e43a39f68",
       "version_major": 2,
       "version_minor": 0
      },
      "text/plain": [
       "  0%|          | 0/259 [00:00<?, ?it/s]"
      ]
     },
     "metadata": {},
     "output_type": "display_data"
    },
    {
     "data": {
      "application/vnd.jupyter.widget-view+json": {
       "model_id": "492e7b1ab91b454584766de3ea741295",
       "version_major": 2,
       "version_minor": 0
      },
      "text/plain": [
       "  0%|          | 0/42 [00:00<?, ?it/s]"
      ]
     },
     "metadata": {},
     "output_type": "display_data"
    },
    {
     "name": "stdout",
     "output_type": "stream",
     "text": [
      "Epoch : [47] Train CTC Loss : [0.01053] Val CTC Loss : [0.06891]\n"
     ]
    },
    {
     "data": {
      "application/vnd.jupyter.widget-view+json": {
       "model_id": "d533a2b3abf14ca88ca8aae83920333d",
       "version_major": 2,
       "version_minor": 0
      },
      "text/plain": [
       "  0%|          | 0/259 [00:00<?, ?it/s]"
      ]
     },
     "metadata": {},
     "output_type": "display_data"
    },
    {
     "data": {
      "application/vnd.jupyter.widget-view+json": {
       "model_id": "4e1a2c2abbb64c899068ea2672d1da3d",
       "version_major": 2,
       "version_minor": 0
      },
      "text/plain": [
       "  0%|          | 0/42 [00:00<?, ?it/s]"
      ]
     },
     "metadata": {},
     "output_type": "display_data"
    },
    {
     "name": "stdout",
     "output_type": "stream",
     "text": [
      "Epoch : [48] Train CTC Loss : [0.01001] Val CTC Loss : [0.06589]\n"
     ]
    },
    {
     "data": {
      "application/vnd.jupyter.widget-view+json": {
       "model_id": "c076dc0dd1144f33ba049745ffed2e3f",
       "version_major": 2,
       "version_minor": 0
      },
      "text/plain": [
       "  0%|          | 0/259 [00:00<?, ?it/s]"
      ]
     },
     "metadata": {},
     "output_type": "display_data"
    },
    {
     "data": {
      "application/vnd.jupyter.widget-view+json": {
       "model_id": "2f5362a260044bac91ffe7a5c7b3017c",
       "version_major": 2,
       "version_minor": 0
      },
      "text/plain": [
       "  0%|          | 0/42 [00:00<?, ?it/s]"
      ]
     },
     "metadata": {},
     "output_type": "display_data"
    },
    {
     "name": "stdout",
     "output_type": "stream",
     "text": [
      "Epoch : [49] Train CTC Loss : [0.00973] Val CTC Loss : [0.06769]\n"
     ]
    },
    {
     "data": {
      "application/vnd.jupyter.widget-view+json": {
       "model_id": "8b9fff0ccab345a993e238182827c1df",
       "version_major": 2,
       "version_minor": 0
      },
      "text/plain": [
       "  0%|          | 0/259 [00:00<?, ?it/s]"
      ]
     },
     "metadata": {},
     "output_type": "display_data"
    },
    {
     "data": {
      "application/vnd.jupyter.widget-view+json": {
       "model_id": "87f3303f36dd4995b52d40d653dc6723",
       "version_major": 2,
       "version_minor": 0
      },
      "text/plain": [
       "  0%|          | 0/42 [00:00<?, ?it/s]"
      ]
     },
     "metadata": {},
     "output_type": "display_data"
    },
    {
     "name": "stdout",
     "output_type": "stream",
     "text": [
      "Epoch : [50] Train CTC Loss : [0.00925] Val CTC Loss : [0.06733]\n"
     ]
    }
   ],
   "source": [
    "model = RecognitionModel()\n",
    "model.eval()\n",
    "optimizer = torch.optim.Adam(params = model.parameters(), lr = CFG[\"LEARNING_RATE\"])\n",
    "scheduler = torch.optim.lr_scheduler.ReduceLROnPlateau(optimizer, mode='min', factor=0.5, patience=2,threshold_mode='abs',min_lr=1e-8, verbose=True)\n",
    "\n",
    "infer_model = train(model, optimizer, train_loader, val_loader, scheduler, device)"
   ]
  },
  {
   "cell_type": "code",
   "execution_count": 147,
   "id": "3021a4a4",
   "metadata": {},
   "outputs": [],
   "source": [
    "test = pd.read_csv('../open/test.csv')"
   ]
  },
  {
   "cell_type": "code",
   "execution_count": 148,
   "id": "8db43201",
   "metadata": {},
   "outputs": [],
   "source": [
    "test_dataset = CustomDataset(test['img_path'].values, None,test_transform)\n",
    "test_loader = DataLoader(test_dataset, batch_size = CFG['BATCH_SIZE'], shuffle=False, num_workers=CFG['NUM_WORKERS'])"
   ]
  },
  {
   "cell_type": "code",
   "execution_count": 149,
   "id": "59b8e58d",
   "metadata": {},
   "outputs": [],
   "source": [
    "def decode_predictions(text_batch_logits):\n",
    "    text_batch_tokens = F.softmax(text_batch_logits, 2).argmax(2) # [T, batch_size]\n",
    "    text_batch_tokens = text_batch_tokens.numpy().T # [batch_size, T]\n",
    "\n",
    "    text_batch_tokens_new = []\n",
    "    for text_tokens in text_batch_tokens:\n",
    "        text = [idx2char[idx] for idx in text_tokens]\n",
    "        text = \"\".join(text)\n",
    "        text_batch_tokens_new.append(text)\n",
    "\n",
    "    return text_batch_tokens_new\n",
    "\n",
    "def inference(model, test_loader, device):\n",
    "    model.eval()\n",
    "    preds = []\n",
    "    with torch.no_grad():\n",
    "        for image_batch in tqdm(iter(test_loader)):\n",
    "            image_batch = image_batch.to(device)\n",
    "            \n",
    "            text_batch_logits = model(image_batch)\n",
    "            \n",
    "            text_batch_pred = decode_predictions(text_batch_logits.cpu())\n",
    "            \n",
    "            preds.extend(text_batch_pred)\n",
    "    return preds"
   ]
  },
  {
   "cell_type": "code",
   "execution_count": 150,
   "id": "ec2ceac3",
   "metadata": {},
   "outputs": [
    {
     "data": {
      "application/vnd.jupyter.widget-view+json": {
       "model_id": "0a16915d8c6f4c1ba3b6b6685a93e7ff",
       "version_major": 2,
       "version_minor": 0
      },
      "text/plain": [
       "  0%|          | 0/290 [00:00<?, ?it/s]"
      ]
     },
     "metadata": {},
     "output_type": "display_data"
    }
   ],
   "source": [
    "predictions = inference(infer_model, test_loader, device)"
   ]
  },
  {
   "cell_type": "code",
   "execution_count": 151,
   "id": "dd6ff63a",
   "metadata": {},
   "outputs": [],
   "source": [
    "# 샘플 별 추론결과를 독립적으로 후처리\n",
    "def remove_duplicates(text):\n",
    "    if len(text) > 1:\n",
    "        letters = [text[0]] + [letter for idx, letter in enumerate(text[1:], start=1) if text[idx] != text[idx-1]]\n",
    "    elif len(text) == 1:\n",
    "        letters = [text[0]]\n",
    "    else:\n",
    "        return \"\"\n",
    "    return \"\".join(letters)\n",
    "\n",
    "def correct_prediction(word):\n",
    "    parts = word.split(\"-\")\n",
    "    parts = [remove_duplicates(part) for part in parts]\n",
    "    corrected_word = \"\".join(parts)\n",
    "    return corrected_word"
   ]
  },
  {
   "cell_type": "code",
   "execution_count": 152,
   "id": "f28013dc",
   "metadata": {},
   "outputs": [],
   "source": [
    "submit = pd.read_csv('../open/sample_submission.csv')\n",
    "submit['label'] = predictions\n",
    "submit['label'] = submit['label'].apply(correct_prediction)"
   ]
  },
  {
   "cell_type": "code",
   "execution_count": 153,
   "id": "c0057eaf",
   "metadata": {},
   "outputs": [],
   "source": [
    "submit.to_csv('./submission_50_eff.csv', index=False)"
   ]
  },
  {
   "cell_type": "code",
   "execution_count": 158,
   "id": "5167358d",
   "metadata": {},
   "outputs": [
    {
     "data": {
      "text/html": [
       "<div>\n",
       "<style scoped>\n",
       "    .dataframe tbody tr th:only-of-type {\n",
       "        vertical-align: middle;\n",
       "    }\n",
       "\n",
       "    .dataframe tbody tr th {\n",
       "        vertical-align: top;\n",
       "    }\n",
       "\n",
       "    .dataframe thead th {\n",
       "        text-align: right;\n",
       "    }\n",
       "</style>\n",
       "<table border=\"1\" class=\"dataframe\">\n",
       "  <thead>\n",
       "    <tr style=\"text-align: right;\">\n",
       "      <th></th>\n",
       "      <th>id</th>\n",
       "      <th>label</th>\n",
       "    </tr>\n",
       "  </thead>\n",
       "  <tbody>\n",
       "    <tr>\n",
       "      <th>0</th>\n",
       "      <td>TEST_00000</td>\n",
       "      <td>남말</td>\n",
       "    </tr>\n",
       "    <tr>\n",
       "      <th>1</th>\n",
       "      <td>TEST_00001</td>\n",
       "      <td>상랑</td>\n",
       "    </tr>\n",
       "    <tr>\n",
       "      <th>2</th>\n",
       "      <td>TEST_00002</td>\n",
       "      <td>밤아들이다</td>\n",
       "    </tr>\n",
       "    <tr>\n",
       "      <th>3</th>\n",
       "      <td>TEST_00003</td>\n",
       "      <td>바구</td>\n",
       "    </tr>\n",
       "    <tr>\n",
       "      <th>4</th>\n",
       "      <td>TEST_00004</td>\n",
       "      <td>살</td>\n",
       "    </tr>\n",
       "    <tr>\n",
       "      <th>...</th>\n",
       "      <td>...</td>\n",
       "      <td>...</td>\n",
       "    </tr>\n",
       "    <tr>\n",
       "      <th>74116</th>\n",
       "      <td>TEST_74116</td>\n",
       "      <td>캐나다</td>\n",
       "    </tr>\n",
       "    <tr>\n",
       "      <th>74117</th>\n",
       "      <td>TEST_74117</td>\n",
       "      <td>사무</td>\n",
       "    </tr>\n",
       "    <tr>\n",
       "      <th>74118</th>\n",
       "      <td>TEST_74118</td>\n",
       "      <td>친절하다</td>\n",
       "    </tr>\n",
       "    <tr>\n",
       "      <th>74119</th>\n",
       "      <td>TEST_74119</td>\n",
       "      <td>쪽</td>\n",
       "    </tr>\n",
       "    <tr>\n",
       "      <th>74120</th>\n",
       "      <td>TEST_74120</td>\n",
       "      <td>부정하다</td>\n",
       "    </tr>\n",
       "  </tbody>\n",
       "</table>\n",
       "<p>74121 rows × 2 columns</p>\n",
       "</div>"
      ],
      "text/plain": [
       "               id  label\n",
       "0      TEST_00000     남말\n",
       "1      TEST_00001     상랑\n",
       "2      TEST_00002  밤아들이다\n",
       "3      TEST_00003     바구\n",
       "4      TEST_00004      살\n",
       "...           ...    ...\n",
       "74116  TEST_74116    캐나다\n",
       "74117  TEST_74117     사무\n",
       "74118  TEST_74118   친절하다\n",
       "74119  TEST_74119      쪽\n",
       "74120  TEST_74120   부정하다\n",
       "\n",
       "[74121 rows x 2 columns]"
      ]
     },
     "execution_count": 158,
     "metadata": {},
     "output_type": "execute_result"
    }
   ],
   "source": [
    "sub_text = pd.read_csv('./submission_50_eff.csv')\n",
    "sub_text"
   ]
  },
  {
   "cell_type": "code",
   "execution_count": null,
   "id": "f8300f15",
   "metadata": {},
   "outputs": [],
   "source": []
  }
 ],
 "metadata": {
  "kernelspec": {
   "display_name": "Python 3 (ipykernel)",
   "language": "python",
   "name": "python3"
  },
  "language_info": {
   "codemirror_mode": {
    "name": "ipython",
    "version": 3
   },
   "file_extension": ".py",
   "mimetype": "text/x-python",
   "name": "python",
   "nbconvert_exporter": "python",
   "pygments_lexer": "ipython3",
   "version": "3.9.13"
  }
 },
 "nbformat": 4,
 "nbformat_minor": 5
}
